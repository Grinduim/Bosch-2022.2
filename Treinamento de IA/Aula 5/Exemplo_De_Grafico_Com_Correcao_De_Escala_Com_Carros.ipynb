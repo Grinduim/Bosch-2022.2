{
 "cells": [
  {
   "cell_type": "code",
   "execution_count": 11,
   "metadata": {},
   "outputs": [
    {
     "data": {
      "text/html": [
       "<div>\n",
       "<style scoped>\n",
       "    .dataframe tbody tr th:only-of-type {\n",
       "        vertical-align: middle;\n",
       "    }\n",
       "\n",
       "    .dataframe tbody tr th {\n",
       "        vertical-align: top;\n",
       "    }\n",
       "\n",
       "    .dataframe thead th {\n",
       "        text-align: right;\n",
       "    }\n",
       "</style>\n",
       "<table border=\"1\" class=\"dataframe\">\n",
       "  <thead>\n",
       "    <tr style=\"text-align: right;\">\n",
       "      <th></th>\n",
       "      <th>Marca</th>\n",
       "      <th>Modelo</th>\n",
       "      <th>Volume_Motor</th>\n",
       "      <th>Peso_Carro</th>\n",
       "      <th>CO2</th>\n",
       "    </tr>\n",
       "  </thead>\n",
       "  <tbody>\n",
       "    <tr>\n",
       "      <th>0</th>\n",
       "      <td>Toyota</td>\n",
       "      <td>Aygo</td>\n",
       "      <td>1.0</td>\n",
       "      <td>790</td>\n",
       "      <td>99</td>\n",
       "    </tr>\n",
       "    <tr>\n",
       "      <th>1</th>\n",
       "      <td>Mitsubishi</td>\n",
       "      <td>Space Star</td>\n",
       "      <td>1.2</td>\n",
       "      <td>1160</td>\n",
       "      <td>95</td>\n",
       "    </tr>\n",
       "    <tr>\n",
       "      <th>2</th>\n",
       "      <td>Skoda</td>\n",
       "      <td>Citigo</td>\n",
       "      <td>1.0</td>\n",
       "      <td>929</td>\n",
       "      <td>95</td>\n",
       "    </tr>\n",
       "    <tr>\n",
       "      <th>3</th>\n",
       "      <td>Fiat</td>\n",
       "      <td>500</td>\n",
       "      <td>0.9</td>\n",
       "      <td>865</td>\n",
       "      <td>90</td>\n",
       "    </tr>\n",
       "    <tr>\n",
       "      <th>4</th>\n",
       "      <td>Mini</td>\n",
       "      <td>Cooper</td>\n",
       "      <td>1.5</td>\n",
       "      <td>1140</td>\n",
       "      <td>105</td>\n",
       "    </tr>\n",
       "  </tbody>\n",
       "</table>\n",
       "</div>"
      ],
      "text/plain": [
       "        Marca      Modelo  Volume_Motor  Peso_Carro  CO2\n",
       "0      Toyota        Aygo           1.0         790   99\n",
       "1  Mitsubishi  Space Star           1.2        1160   95\n",
       "2       Skoda      Citigo           1.0         929   95\n",
       "3        Fiat         500           0.9         865   90\n",
       "4        Mini      Cooper           1.5        1140  105"
      ]
     },
     "execution_count": 11,
     "metadata": {},
     "output_type": "execute_result"
    }
   ],
   "source": [
    "import numpy as np\n",
    "import pandas as pd\n",
    "from sklearn import linear_model\n",
    "from sklearn.preprocessing import StandardScaler\n",
    "scale = StandardScaler()\n",
    "\n",
    "import statsmodels.formula.api as smf\n",
    "import statsmodels.api as sm\n",
    "from matplotlib import pyplot as plt\n",
    "\n",
    "df = pd.read_csv(\"CO2_&_CARROS_2.csv\", sep=';')\n",
    "\n",
    "df.head()"
   ]
  },
  {
   "cell_type": "code",
   "execution_count": 12,
   "metadata": {},
   "outputs": [
    {
     "data": {
      "text/html": [
       "<div>\n",
       "<style scoped>\n",
       "    .dataframe tbody tr th:only-of-type {\n",
       "        vertical-align: middle;\n",
       "    }\n",
       "\n",
       "    .dataframe tbody tr th {\n",
       "        vertical-align: top;\n",
       "    }\n",
       "\n",
       "    .dataframe thead th {\n",
       "        text-align: right;\n",
       "    }\n",
       "</style>\n",
       "<table border=\"1\" class=\"dataframe\">\n",
       "  <thead>\n",
       "    <tr style=\"text-align: right;\">\n",
       "      <th></th>\n",
       "      <th>Volume_Motor_P</th>\n",
       "      <th>Peso_Carro_P</th>\n",
       "      <th>CO2</th>\n",
       "    </tr>\n",
       "  </thead>\n",
       "  <tbody>\n",
       "    <tr>\n",
       "      <th>0</th>\n",
       "      <td>-1.571080</td>\n",
       "      <td>-2.074466</td>\n",
       "      <td>99</td>\n",
       "    </tr>\n",
       "    <tr>\n",
       "      <th>1</th>\n",
       "      <td>-1.056909</td>\n",
       "      <td>-0.546323</td>\n",
       "      <td>95</td>\n",
       "    </tr>\n",
       "    <tr>\n",
       "      <th>2</th>\n",
       "      <td>-1.571080</td>\n",
       "      <td>-1.500380</td>\n",
       "      <td>95</td>\n",
       "    </tr>\n",
       "    <tr>\n",
       "      <th>3</th>\n",
       "      <td>-1.828166</td>\n",
       "      <td>-1.764707</td>\n",
       "      <td>90</td>\n",
       "    </tr>\n",
       "    <tr>\n",
       "      <th>4</th>\n",
       "      <td>-0.285651</td>\n",
       "      <td>-0.628925</td>\n",
       "      <td>105</td>\n",
       "    </tr>\n",
       "  </tbody>\n",
       "</table>\n",
       "</div>"
      ],
      "text/plain": [
       "   Volume_Motor_P  Peso_Carro_P  CO2\n",
       "0       -1.571080     -2.074466   99\n",
       "1       -1.056909     -0.546323   95\n",
       "2       -1.571080     -1.500380   95\n",
       "3       -1.828166     -1.764707   90\n",
       "4       -0.285651     -0.628925  105"
      ]
     },
     "execution_count": 12,
     "metadata": {},
     "output_type": "execute_result"
    }
   ],
   "source": [
    "x1 = (df[['Volume_Motor']] - df[[\"Volume_Motor\"]].mean())/ df[['Volume_Motor']].std()\n",
    "x2 = (df[[\"Peso_Carro\"]] - df[[\"Peso_Carro\"]].mean()) / df[[\"Peso_Carro\"]].std()\n",
    "\n",
    "dados_padronizados = [x1[\"Volume_Motor\"], x2[\"Peso_Carro\"], df[\"CO2\"]]\n",
    "\n",
    "novos_nomes_x1_x2_y = [\"Volume_Motor_P\", 'Peso_Carro_P','CO2']\n",
    "\n",
    "df_p = pd.concat(dados_padronizados, axis = 1, keys = novos_nomes_x1_x2_y)\n",
    "\n",
    "df_p.head()"
   ]
  },
  {
   "cell_type": "code",
   "execution_count": 14,
   "metadata": {},
   "outputs": [
    {
     "ename": "ValueError",
     "evalue": "Single argument to subplot must be a three-digit integer, not 11",
     "output_type": "error",
     "traceback": [
      "\u001b[1;31m---------------------------------------------------------------------------\u001b[0m",
      "\u001b[1;31mValueError\u001b[0m                                Traceback (most recent call last)",
      "\u001b[1;32mc:\\Users\\GRV2CT\\Desktop\\repositorio\\Bosch-2022.2\\Bosch\\Treinamentos InnoHub\\Treinamento de IA\\Aula 5\\Exemplo_De_Grafico_Com_Correcao_De_Escala_Com_Carros.ipynb Cell 3\u001b[0m in \u001b[0;36m<cell line: 2>\u001b[1;34m()\u001b[0m\n\u001b[0;32m      <a href='vscode-notebook-cell:/c%3A/Users/GRV2CT/Desktop/repositorio/Bosch-2022.2/Bosch/Treinamentos%20InnoHub/Treinamento%20de%20IA/Aula%205/Exemplo_De_Grafico_Com_Correcao_De_Escala_Com_Carros.ipynb#W2sZmlsZQ%3D%3D?line=0'>1</a>\u001b[0m fig \u001b[39m=\u001b[39m plt\u001b[39m.\u001b[39mfigure(dpi\u001b[39m=\u001b[39m\u001b[39m100\u001b[39m)\n\u001b[1;32m----> <a href='vscode-notebook-cell:/c%3A/Users/GRV2CT/Desktop/repositorio/Bosch-2022.2/Bosch/Treinamentos%20InnoHub/Treinamento%20de%20IA/Aula%205/Exemplo_De_Grafico_Com_Correcao_De_Escala_Com_Carros.ipynb#W2sZmlsZQ%3D%3D?line=1'>2</a>\u001b[0m ax \u001b[39m=\u001b[39m fig\u001b[39m.\u001b[39;49madd_subplot(\u001b[39m11\u001b[39;49m, projection \u001b[39m=\u001b[39;49m \u001b[39m'\u001b[39;49m\u001b[39m3d\u001b[39;49m\u001b[39m'\u001b[39;49m)\n\u001b[0;32m      <a href='vscode-notebook-cell:/c%3A/Users/GRV2CT/Desktop/repositorio/Bosch-2022.2/Bosch/Treinamentos%20InnoHub/Treinamento%20de%20IA/Aula%205/Exemplo_De_Grafico_Com_Correcao_De_Escala_Com_Carros.ipynb#W2sZmlsZQ%3D%3D?line=2'>3</a>\u001b[0m ax\u001b[39m.\u001b[39mscatter(df_p[\u001b[39m'\u001b[39m\u001b[39mVolume_Motor_P\u001b[39m\u001b[39m'\u001b[39m])\n\u001b[0;32m      <a href='vscode-notebook-cell:/c%3A/Users/GRV2CT/Desktop/repositorio/Bosch-2022.2/Bosch/Treinamentos%20InnoHub/Treinamento%20de%20IA/Aula%205/Exemplo_De_Grafico_Com_Correcao_De_Escala_Com_Carros.ipynb#W2sZmlsZQ%3D%3D?line=4'>5</a>\u001b[0m df_P \u001b[39m=\u001b[39m pd\u001b[39m.\u001b[39mconcat(dados_padronizados, axis \u001b[39m=\u001b[39m \u001b[39m1\u001b[39m, keys \u001b[39m=\u001b[39m novos_nomes_x1_x2_y)\n",
      "File \u001b[1;32m~\\AppData\\Roaming\\Python\\Python310\\site-packages\\matplotlib\\figure.py:772\u001b[0m, in \u001b[0;36mFigureBase.add_subplot\u001b[1;34m(self, *args, **kwargs)\u001b[0m\n\u001b[0;32m    769\u001b[0m         args \u001b[39m=\u001b[39m \u001b[39mtuple\u001b[39m(\u001b[39mmap\u001b[39m(\u001b[39mint\u001b[39m, \u001b[39mstr\u001b[39m(args[\u001b[39m0\u001b[39m])))\n\u001b[0;32m    770\u001b[0m     projection_class, pkw \u001b[39m=\u001b[39m \u001b[39mself\u001b[39m\u001b[39m.\u001b[39m_process_projection_requirements(\n\u001b[0;32m    771\u001b[0m         \u001b[39m*\u001b[39margs, \u001b[39m*\u001b[39m\u001b[39m*\u001b[39mkwargs)\n\u001b[1;32m--> 772\u001b[0m     ax \u001b[39m=\u001b[39m subplot_class_factory(projection_class)(\u001b[39mself\u001b[39m, \u001b[39m*\u001b[39margs, \u001b[39m*\u001b[39m\u001b[39m*\u001b[39mpkw)\n\u001b[0;32m    773\u001b[0m     key \u001b[39m=\u001b[39m (projection_class, pkw)\n\u001b[0;32m    774\u001b[0m \u001b[39mreturn\u001b[39;00m \u001b[39mself\u001b[39m\u001b[39m.\u001b[39m_add_axes_internal(ax, key)\n",
      "File \u001b[1;32m~\\AppData\\Roaming\\Python\\Python310\\site-packages\\matplotlib\\axes\\_subplots.py:36\u001b[0m, in \u001b[0;36mSubplotBase.__init__\u001b[1;34m(self, fig, *args, **kwargs)\u001b[0m\n\u001b[0;32m     34\u001b[0m \u001b[39mself\u001b[39m\u001b[39m.\u001b[39m_axes_class\u001b[39m.\u001b[39m\u001b[39m__init__\u001b[39m(\u001b[39mself\u001b[39m, fig, [\u001b[39m0\u001b[39m, \u001b[39m0\u001b[39m, \u001b[39m1\u001b[39m, \u001b[39m1\u001b[39m], \u001b[39m*\u001b[39m\u001b[39m*\u001b[39mkwargs)\n\u001b[0;32m     35\u001b[0m \u001b[39m# This will also update the axes position.\u001b[39;00m\n\u001b[1;32m---> 36\u001b[0m \u001b[39mself\u001b[39m\u001b[39m.\u001b[39mset_subplotspec(SubplotSpec\u001b[39m.\u001b[39;49m_from_subplot_args(fig, args))\n",
      "File \u001b[1;32m~\\AppData\\Roaming\\Python\\Python310\\site-packages\\matplotlib\\gridspec.py:588\u001b[0m, in \u001b[0;36mSubplotSpec._from_subplot_args\u001b[1;34m(figure, args)\u001b[0m\n\u001b[0;32m    586\u001b[0m         rows, cols, num \u001b[39m=\u001b[39m \u001b[39mmap\u001b[39m(\u001b[39mint\u001b[39m, \u001b[39mstr\u001b[39m(arg))\n\u001b[0;32m    587\u001b[0m     \u001b[39mexcept\u001b[39;00m \u001b[39mValueError\u001b[39;00m:\n\u001b[1;32m--> 588\u001b[0m         \u001b[39mraise\u001b[39;00m \u001b[39mValueError\u001b[39;00m(\n\u001b[0;32m    589\u001b[0m             \u001b[39mf\u001b[39m\u001b[39m\"\u001b[39m\u001b[39mSingle argument to subplot must be a three-digit \u001b[39m\u001b[39m\"\u001b[39m\n\u001b[0;32m    590\u001b[0m             \u001b[39mf\u001b[39m\u001b[39m\"\u001b[39m\u001b[39minteger, not \u001b[39m\u001b[39m{\u001b[39;00marg\u001b[39m!r}\u001b[39;00m\u001b[39m\"\u001b[39m) \u001b[39mfrom\u001b[39;00m \u001b[39mNone\u001b[39m\n\u001b[0;32m    591\u001b[0m \u001b[39melif\u001b[39;00m \u001b[39mlen\u001b[39m(args) \u001b[39m==\u001b[39m \u001b[39m3\u001b[39m:\n\u001b[0;32m    592\u001b[0m     rows, cols, num \u001b[39m=\u001b[39m args\n",
      "\u001b[1;31mValueError\u001b[0m: Single argument to subplot must be a three-digit integer, not 11"
     ]
    },
    {
     "data": {
      "text/plain": [
       "<Figure size 600x400 with 0 Axes>"
      ]
     },
     "metadata": {},
     "output_type": "display_data"
    }
   ],
   "source": [
    "fig = plt.figure(dpi=100)\n",
    "ax = fig.add_subplot(11, projection = '3d')\n",
    "ax.scatter(df_p['Volume_Motor_P'])\n",
    "\n",
    "df_P = pd.concat(dados_padronizados, axis = 1, keys = novos_nomes_x1_x2_y)\n",
    "\n",
    "print(df_P)\n",
    "\n",
    "ajuste_modelo = smf.ols(formula = 'CO2 ~ Volume_Motor_P + Peso_Carro_P', data = df_P)\n",
    "equacao_ajustada = ajuste_modelo.fit()\n",
    "equacao_ajustada.params\n",
    "\n",
    "#preparando os dados para visualização\n",
    "x_surf, y_surf = np.meshgrid(np.linspace(df_P.Volume_Motor_P.min(),df_P.Volume_Motor_P.max(), 100), np.linspace(df_P.Peso_Carro_P.min(), df_P.Peso_Carro_P.max(), 100))\n",
    "onlyX = pd.DataFrame({'Volume_Motor_P':x_surf.ravel(), 'Peso_Carro_P':y_surf.ravel()})\n",
    "fittedY = equacao_ajustada.predict(exog = onlyX)\n",
    "fittedY = np.array(fittedY)\n",
    "\n",
    "fig = plt.figure(dpi = 100)\n",
    "ax = fig.add_subplot(111, projection = '3d')\n",
    "ax.scatter(df_P['Volume_Motor_P'], df_P['Peso_Carro_P'], df_P['CO2'], c = 'red', marker = 'o', alpha=0.5)\n",
    "ax.plot_surface(x_surf, y_surf, fittedY.reshape(x_surf.shape), color ='blue', alpha = 0.3)\n",
    "ax.set_xlabel(\"Volume_Motor_P (cm^3)\")\n",
    "ax.set_ylabel(\"Peso_Carro_P (kg)\")\n",
    "ax.set_zlabel(\"CO2 (g/kg)\")\n",
    "plt.show()\n",
    "\n"
   ]
  }
 ],
 "metadata": {
  "kernelspec": {
   "display_name": "Python 3.10.6 64-bit",
   "language": "python",
   "name": "python3"
  },
  "language_info": {
   "codemirror_mode": {
    "name": "ipython",
    "version": 3
   },
   "file_extension": ".py",
   "mimetype": "text/x-python",
   "name": "python",
   "nbconvert_exporter": "python",
   "pygments_lexer": "ipython3",
   "version": "3.10.6"
  },
  "orig_nbformat": 4,
  "vscode": {
   "interpreter": {
    "hash": "26de051ba29f2982a8de78e945f0abaf191376122a1563185a90213a26c5da77"
   }
  }
 },
 "nbformat": 4,
 "nbformat_minor": 2
}
