{
 "cells": [
  {
   "cell_type": "code",
   "execution_count": 12,
   "metadata": {},
   "outputs": [
    {
     "name": "stdout",
     "output_type": "stream",
     "text": [
      "Gerando valores aleatorios para os peso das entradas de Rede Neural:\n",
      "[[-0.16595599]\n",
      " [ 0.44064899]\n",
      " [-0.99977125]]\n",
      "PEsos das entradas ajustados após o Treino:\n",
      "[[ 9.67299303]\n",
      " [-0.2078435 ]\n",
      " [-4.62963669]]\n",
      "Qual a resposta para a seguinte informação [1,0,0] -> ?:\n",
      "[0.99993704]\n"
     ]
    }
   ],
   "source": [
    "from numpy import exp, array, random, datetime64,dot\n",
    "\n",
    "class RedeNeural():\n",
    "    def __init__(self):\n",
    "        random.seed(1)\n",
    "\n",
    "        self.pesos_das_entradas = 2 * random.random((3,1)) -1\n",
    "\n",
    "    def __sigmoid(self, x):\n",
    "        return 1/ (1 + exp(-x))\n",
    "\n",
    "    def __gradiente__sigmoidal(self,x):\n",
    "        return x*(1-x)\n",
    "\n",
    "    def treino(self,dados_de_entrada_treino, dado_de_saida_treino, numero_de_iteracoes_treino):\n",
    "        for i in range(numero_de_iteracoes_treino):\n",
    "            resposta_saida = self.pensar(dados_de_entrada_treino)\n",
    "            erro = dado_de_saida_treino - resposta_saida\n",
    "            ajusta_peso = dot(dados_de_entrada_treino.T, erro * self.__gradiente__sigmoidal(resposta_saida))\n",
    "\n",
    "            self.pesos_das_entradas += ajusta_peso\n",
    "\n",
    "    def pensar(self,valores_entradas):\n",
    "        return self.__sigmoid(dot(valores_entradas,self.pesos_das_entradas))\n",
    "\n",
    "if __name__ == \"__main__\":\n",
    "    rede_neural = RedeNeural()\n",
    "\n",
    "    print(\"Gerando valores aleatorios para os peso das entradas de Rede Neural:\")\n",
    "    print(rede_neural.pesos_das_entradas)\n",
    "\n",
    "    dados_de_entrada_treino = array([[0,0,1], [1,1,1],[1,0,1],[0,1,1]])\n",
    "    dado_de_saida_treino = array([[0,1,1,0]]).T\n",
    "\n",
    "    rede_neural.treino(dados_de_entrada_treino,dado_de_saida_treino,10000)\n",
    "\n",
    "    print(\"PEsos das entradas ajustados após o Treino:\")\n",
    "    print(rede_neural.pesos_das_entradas)\n",
    "\n",
    "\n",
    "    print(\"Qual a resposta para a seguinte informação [1,0,0] -> ?:\")\n",
    "    print(rede_neural.pensar([1,0,0]))\n",
    "\n"
   ]
  },
  {
   "cell_type": "code",
   "execution_count": null,
   "metadata": {},
   "outputs": [],
   "source": []
  }
 ],
 "metadata": {
  "kernelspec": {
   "display_name": "Python 3.10.6 64-bit",
   "language": "python",
   "name": "python3"
  },
  "language_info": {
   "codemirror_mode": {
    "name": "ipython",
    "version": 3
   },
   "file_extension": ".py",
   "mimetype": "text/x-python",
   "name": "python",
   "nbconvert_exporter": "python",
   "pygments_lexer": "ipython3",
   "version": "3.10.6"
  },
  "orig_nbformat": 4,
  "vscode": {
   "interpreter": {
    "hash": "26de051ba29f2982a8de78e945f0abaf191376122a1563185a90213a26c5da77"
   }
  }
 },
 "nbformat": 4,
 "nbformat_minor": 2
}
