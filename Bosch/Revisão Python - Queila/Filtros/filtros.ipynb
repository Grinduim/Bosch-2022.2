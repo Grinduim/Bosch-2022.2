{
 "cells": [
  {
   "cell_type": "code",
   "execution_count": 2,
   "metadata": {},
   "outputs": [],
   "source": [
    "import cv2\n",
    "image = cv2.imread(\"imagens/ruido.jpg\")\n",
    "blur = cv2.blur(image,(5,5))\n",
    "\n",
    "cv2.imshow(\"Original\",image)\n",
    "cv2.imshow(\"filrada 1\",blur)\n",
    "blur = cv2.GaussianBlur(image,(7,7),0)\n",
    "cv2.imshow(\"filrada Gausian\",blur)\n",
    "median = cv2.medianBlur(image,3)\n",
    "cv2.imshow(\"Filtro de media\",median)\n",
    "cv2.waitKey(0) & 0xFF\n",
    "cv2.destroyAllWindows()"
   ]
  },
  {
   "cell_type": "code",
   "execution_count": 14,
   "metadata": {},
   "outputs": [],
   "source": [
    "import cv2\n",
    "image = cv2.imread(\"imagens/Flor.png\")\n",
    "cv2.imshow(\"Original\",image)\n",
    "image =  cv2.medianBlur(image,7)\n",
    "cv2.imshow(\"Median Blur\",image)\n",
    "image = cv2.blur(image,(9,3))\n",
    "cv2.imshow(\"Bausian Blur + Median\",image)\n",
    "cv2.waitKey(0) & 0xFF\n",
    "cv2.destroyAllWindows()"
   ]
  }
 ],
 "metadata": {
  "kernelspec": {
   "display_name": "Python 3.10.6 64-bit",
   "language": "python",
   "name": "python3"
  },
  "language_info": {
   "codemirror_mode": {
    "name": "ipython",
    "version": 3
   },
   "file_extension": ".py",
   "mimetype": "text/x-python",
   "name": "python",
   "nbconvert_exporter": "python",
   "pygments_lexer": "ipython3",
   "version": "3.10.6"
  },
  "orig_nbformat": 4,
  "vscode": {
   "interpreter": {
    "hash": "26de051ba29f2982a8de78e945f0abaf191376122a1563185a90213a26c5da77"
   }
  }
 },
 "nbformat": 4,
 "nbformat_minor": 2
}
