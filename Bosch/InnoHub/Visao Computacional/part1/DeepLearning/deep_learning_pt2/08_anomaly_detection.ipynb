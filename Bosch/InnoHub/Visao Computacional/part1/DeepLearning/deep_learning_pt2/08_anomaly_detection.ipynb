{
 "cells": [
  {
   "cell_type": "markdown",
   "id": "circular-loading",
   "metadata": {},
   "source": [
    "# Autoencoder para classificação\n",
    "Com autoencoder também conseguimos fazer classificação, que nesse caso é conhecido como detecção de anomalia. A vantagem de se utilizar o autoencoder para essa tarefa é que podemos treinar com dados de uma única amostra, util em situações em que nosso sistema majoritariamente gera um unico tipo de amostra, por exemplo: peças boas em uma linha de produção. Tudo que diferir do padrão aprendido pelo autoencoder será considerado uma anomalia, dessa forma com o autoencoder teremos um modelo de classificação binária: Imagens dentro do padrão e imagens anomalas.\n",
    "\n",
    "Vantagens:\n",
    "* Por se tratar de autoencoder temos a caracteristica de treinamento não supervisionado o que implica que não precisamos classificar nossos dados, apenas coletar as amostras dentro do padrão esperado.\n",
    "* Além de detectar imagens anomalas, com autoencoder podemos rastrear na imagem a região da imagem que gerou a anomalia\n",
    "\n",
    "Desvantagens:\n",
    "* Performance inferior em relação ao treinamento supervisionado\n",
    "* Apenas funciona para classificação binária\n",
    "* Modelos mais complexos com maior tempo de inferencia (Encoder + Decoder)\n",
    "* Se usarmos autoencoder para classificação binária porque não temos amostras de outra classe, como validar e confiar o modelo para produção?"
   ]
  },
  {
   "cell_type": "code",
   "execution_count": 1,
   "id": "therapeutic-agreement",
   "metadata": {},
   "outputs": [],
   "source": [
    "import cv2\n",
    "import numpy as np\n",
    "from imutils import paths\n",
    "from tensorflow import keras\n",
    "from tensorflow.keras import layers\n",
    "from tensorflow.keras.callbacks import ModelCheckpoint\n",
    "from tensorflow.keras.models import load_model\n",
    "from tensorflow.keras.utils import Sequence\n",
    "from matplotlib import pyplot as plt\n",
    "from tqdm import tqdm"
   ]
  },
  {
   "cell_type": "code",
   "execution_count": null,
   "id": "0f973430",
   "metadata": {},
   "outputs": [],
   "source": []
  },
  {
   "cell_type": "markdown",
   "id": "framed-universal",
   "metadata": {},
   "source": [
    "## BatchGenerator\n",
    "Para esse exemplo iremos utilizar um dataset que foi gerado durante a fase de desenvolvimento do MVP. Com o uso do BatchGenerator não iremos precisar carregar todas as imagens na memória e realizar nosso pre processamento em tempo de execução."
   ]
  },
  {
   "cell_type": "code",
   "execution_count": 2,
   "id": "exposed-minute",
   "metadata": {},
   "outputs": [],
   "source": [
    "class BatchGenerator(Sequence):\n",
    "    def __init__(self, path, batch_size, image_size=(28, 28), gray_scale=True):\n",
    "        self._batch_size = batch_size\n",
    "        self._images_path = list(paths.list_images(path))[:300]  # para fins de exemplo vamos utilziar apenas 300 imagens\n",
    "        self._image_size = image_size\n",
    "        self._gray_scale = gray_scale\n",
    "\n",
    "    def __len__(self):\n",
    "        return int(np.ceil(len(self._images_path) / self._batch_size))\n",
    "\n",
    "    def __getitem__(self, idx):\n",
    "        l_bound = idx * self._batch_size\n",
    "        r_bound = (idx + 1) * self._batch_size\n",
    "\n",
    "        if r_bound > len(self._images_path):\n",
    "            r_bound = len(self._images_path)\n",
    "            l_bound = r_bound - self._batch_size\n",
    "\n",
    "        instance_count = 0\n",
    "        x_batch = np.zeros((r_bound - l_bound, self._image_size[1], self._image_size[0], 1 if self._gray_scale else 3))\n",
    "\n",
    "        for instance_count, train_instance in enumerate(self._images_path[l_bound:r_bound]):\n",
    "            image = cv2.imread(train_instance)\n",
    "            image = cv2.resize(image, self._image_size)\n",
    "            if self._gray_scale:\n",
    "                image = cv2.cvtColor(image, cv2.COLOR_BGR2GRAY)\n",
    "                image = image[..., np.newaxis]\n",
    "            image = image / 255\n",
    "            x_batch[instance_count] = image\n",
    "\n",
    "        return x_batch, x_batch\n",
    "\n",
    "    def on_epoch_end(self):\n",
    "        np.random.shuffle(self._images_path)"
   ]
  },
  {
   "cell_type": "markdown",
   "id": "cultural-anderson",
   "metadata": {},
   "source": [
    "#### Instanciar os generator\n",
    "generator para treino e validação"
   ]
  },
  {
   "cell_type": "code",
   "execution_count": 3,
   "id": "accepted-waste",
   "metadata": {},
   "outputs": [],
   "source": [
    "train_generator = BatchGenerator(\"./data/screw_dataset/train/wo_screw\", 8)\n",
    "val_generator = BatchGenerator(\"./data/screw_dataset/train/wo_screw\", 8)"
   ]
  },
  {
   "cell_type": "markdown",
   "id": "local-satisfaction",
   "metadata": {},
   "source": [
    "## Criação do autoencoder"
   ]
  },
  {
   "cell_type": "code",
   "execution_count": 4,
   "id": "directed-collectible",
   "metadata": {},
   "outputs": [],
   "source": [
    "input_img = keras.Input(shape=(28, 28, 1))\n",
    "\n",
    "x = layers.Conv2D(32, (3, 3), activation='relu', padding='same')(input_img)\n",
    "x = layers.MaxPooling2D((2, 2), padding='same')(x)\n",
    "x = layers.Conv2D(16, (3, 3), activation='relu', padding='same')(x)\n",
    "x = layers.MaxPooling2D((2, 2), padding='same')(x)\n",
    "x = layers.Conv2D(8, (3, 3), activation='relu', padding='same')(x)\n",
    "encoded = layers.MaxPooling2D((2, 2), padding='same')(x)  # output (4, 4, 8)\n",
    "\n",
    "x = layers.Conv2D(8, (3, 3), activation='relu', padding='same')(encoded)\n",
    "x = layers.UpSampling2D((2, 2))(x)\n",
    "x = layers.Conv2D(16, (3, 3), activation='relu', padding='same')(x)\n",
    "x = layers.UpSampling2D((2, 2))(x)\n",
    "x = layers.Conv2D(32, (3, 3), activation='relu')(x)\n",
    "x = layers.UpSampling2D((2, 2))(x)\n",
    "decoded = layers.Conv2D(1, (3, 3), activation='sigmoid', padding='same')(x)\n",
    "\n",
    "autoencoder = keras.Model(input_img, decoded)\n",
    "autoencoder.compile(optimizer='adam', loss='binary_crossentropy')"
   ]
  },
  {
   "cell_type": "markdown",
   "id": "legendary-reflection",
   "metadata": {},
   "source": [
    "#### Callback para salvar os modelos com o melhor loss"
   ]
  },
  {
   "cell_type": "code",
   "execution_count": 5,
   "id": "improved-provincial",
   "metadata": {},
   "outputs": [
    {
     "name": "stdout",
     "output_type": "stream",
     "text": [
      "WARNING:tensorflow:`period` argument is deprecated. Please use `save_freq` to specify the frequency in number of batches seen.\n"
     ]
    }
   ],
   "source": [
    "MODEL_NAME = \"anomaly_detector\"\n",
    "best_loss_model_name = f\"{MODEL_NAME}_best_loss.h5\"\n",
    "check_point_saver_best_loss = ModelCheckpoint(best_loss_model_name, monitor='val_loss', verbose=1,\n",
    "                                              save_best_only=True, save_weights_only=False, mode='auto',\n",
    "                                              period=1)"
   ]
  },
  {
   "cell_type": "markdown",
   "id": "unauthorized-fireplace",
   "metadata": {},
   "source": [
    "###### Treino"
   ]
  },
  {
   "cell_type": "code",
   "execution_count": 6,
   "id": "individual-demographic",
   "metadata": {},
   "outputs": [
    {
     "name": "stdout",
     "output_type": "stream",
     "text": [
      "Epoch 1/200\n",
      "36/38 [===========================>..] - ETA: 0s - loss: 0.6524\n",
      "Epoch 1: val_loss improved from inf to 0.63353, saving model to anomaly_detector_best_loss.h5\n",
      "38/38 [==============================] - 3s 42ms/step - loss: 0.6551 - val_loss: 0.6335\n",
      "Epoch 2/200\n",
      "36/38 [===========================>..] - ETA: 0s - loss: 0.6243\n",
      "Epoch 2: val_loss improved from 0.63353 to 0.61258, saving model to anomaly_detector_best_loss.h5\n",
      "38/38 [==============================] - 1s 37ms/step - loss: 0.6239 - val_loss: 0.6126\n",
      "Epoch 3/200\n",
      "37/38 [============================>.] - ETA: 0s - loss: 0.6068\n",
      "Epoch 3: val_loss improved from 0.61258 to 0.59815, saving model to anomaly_detector_best_loss.h5\n",
      "38/38 [==============================] - 1s 34ms/step - loss: 0.6060 - val_loss: 0.5982\n",
      "Epoch 4/200\n",
      "38/38 [==============================] - ETA: 0s - loss: 0.5931\n",
      "Epoch 4: val_loss improved from 0.59815 to 0.58996, saving model to anomaly_detector_best_loss.h5\n",
      "38/38 [==============================] - 1s 38ms/step - loss: 0.5931 - val_loss: 0.5900\n",
      "Epoch 5/200\n",
      "38/38 [==============================] - ETA: 0s - loss: 0.5849\n",
      "Epoch 5: val_loss improved from 0.58996 to 0.58159, saving model to anomaly_detector_best_loss.h5\n",
      "38/38 [==============================] - 1s 37ms/step - loss: 0.5849 - val_loss: 0.5816\n",
      "Epoch 6/200\n",
      "36/38 [===========================>..] - ETA: 0s - loss: 0.5792\n",
      "Epoch 6: val_loss improved from 0.58159 to 0.57810, saving model to anomaly_detector_best_loss.h5\n",
      "38/38 [==============================] - 1s 33ms/step - loss: 0.5798 - val_loss: 0.5781\n",
      "Epoch 7/200\n",
      "38/38 [==============================] - ETA: 0s - loss: 0.5764\n",
      "Epoch 7: val_loss improved from 0.57810 to 0.57456, saving model to anomaly_detector_best_loss.h5\n",
      "38/38 [==============================] - 1s 31ms/step - loss: 0.5764 - val_loss: 0.5746\n",
      "Epoch 8/200\n",
      "35/38 [==========================>...] - ETA: 0s - loss: 0.5723\n",
      "Epoch 8: val_loss improved from 0.57456 to 0.57116, saving model to anomaly_detector_best_loss.h5\n",
      "38/38 [==============================] - 1s 31ms/step - loss: 0.5720 - val_loss: 0.5712\n",
      "Epoch 9/200\n",
      "36/38 [===========================>..] - ETA: 0s - loss: 0.5705\n",
      "Epoch 9: val_loss improved from 0.57116 to 0.56839, saving model to anomaly_detector_best_loss.h5\n",
      "38/38 [==============================] - 1s 34ms/step - loss: 0.5693 - val_loss: 0.5684\n",
      "Epoch 10/200\n",
      "38/38 [==============================] - ETA: 0s - loss: 0.5665\n",
      "Epoch 10: val_loss improved from 0.56839 to 0.56578, saving model to anomaly_detector_best_loss.h5\n",
      "38/38 [==============================] - 1s 35ms/step - loss: 0.5665 - val_loss: 0.5658\n",
      "Epoch 11/200\n",
      "38/38 [==============================] - ETA: 0s - loss: 0.5660\n",
      "Epoch 11: val_loss improved from 0.56578 to 0.56507, saving model to anomaly_detector_best_loss.h5\n",
      "38/38 [==============================] - 2s 40ms/step - loss: 0.5660 - val_loss: 0.5651\n",
      "Epoch 12/200\n",
      "38/38 [==============================] - ETA: 0s - loss: 0.5637\n",
      "Epoch 12: val_loss improved from 0.56507 to 0.56279, saving model to anomaly_detector_best_loss.h5\n",
      "38/38 [==============================] - 1s 34ms/step - loss: 0.5637 - val_loss: 0.5628\n",
      "Epoch 13/200\n",
      "38/38 [==============================] - ETA: 0s - loss: 0.5620\n",
      "Epoch 13: val_loss improved from 0.56279 to 0.56202, saving model to anomaly_detector_best_loss.h5\n",
      "38/38 [==============================] - 1s 39ms/step - loss: 0.5620 - val_loss: 0.5620\n",
      "Epoch 14/200\n",
      "38/38 [==============================] - ETA: 0s - loss: 0.5621\n",
      "Epoch 14: val_loss improved from 0.56202 to 0.56110, saving model to anomaly_detector_best_loss.h5\n",
      "38/38 [==============================] - 1s 33ms/step - loss: 0.5621 - val_loss: 0.5611\n",
      "Epoch 15/200\n",
      "37/38 [============================>.] - ETA: 0s - loss: 0.5600\n",
      "Epoch 15: val_loss improved from 0.56110 to 0.56028, saving model to anomaly_detector_best_loss.h5\n",
      "38/38 [==============================] - 1s 36ms/step - loss: 0.5603 - val_loss: 0.5603\n",
      "Epoch 16/200\n",
      "37/38 [============================>.] - ETA: 0s - loss: 0.5584\n",
      "Epoch 16: val_loss improved from 0.56028 to 0.55912, saving model to anomaly_detector_best_loss.h5\n",
      "38/38 [==============================] - 2s 40ms/step - loss: 0.5595 - val_loss: 0.5591\n",
      "Epoch 17/200\n",
      "37/38 [============================>.] - ETA: 0s - loss: 0.5594\n",
      "Epoch 17: val_loss improved from 0.55912 to 0.55874, saving model to anomaly_detector_best_loss.h5\n",
      "38/38 [==============================] - 2s 40ms/step - loss: 0.5592 - val_loss: 0.5587\n",
      "Epoch 18/200\n",
      "38/38 [==============================] - ETA: 0s - loss: 0.5578\n",
      "Epoch 18: val_loss improved from 0.55874 to 0.55733, saving model to anomaly_detector_best_loss.h5\n",
      "38/38 [==============================] - 1s 36ms/step - loss: 0.5578 - val_loss: 0.5573\n",
      "Epoch 19/200\n",
      "37/38 [============================>.] - ETA: 0s - loss: 0.5583\n",
      "Epoch 19: val_loss did not improve from 0.55733\n",
      "38/38 [==============================] - 1s 32ms/step - loss: 0.5583 - val_loss: 0.5573\n",
      "Epoch 20/200\n",
      "37/38 [============================>.] - ETA: 0s - loss: 0.5566\n",
      "Epoch 20: val_loss improved from 0.55733 to 0.55631, saving model to anomaly_detector_best_loss.h5\n",
      "38/38 [==============================] - 1s 37ms/step - loss: 0.5573 - val_loss: 0.5563\n",
      "Epoch 21/200\n",
      "38/38 [==============================] - ETA: 0s - loss: 0.5561\n",
      "Epoch 21: val_loss improved from 0.55631 to 0.55559, saving model to anomaly_detector_best_loss.h5\n",
      "38/38 [==============================] - 2s 44ms/step - loss: 0.5561 - val_loss: 0.5556\n",
      "Epoch 22/200\n",
      "36/38 [===========================>..] - ETA: 0s - loss: 0.5554\n",
      "Epoch 22: val_loss improved from 0.55559 to 0.55445, saving model to anomaly_detector_best_loss.h5\n",
      "38/38 [==============================] - 1s 38ms/step - loss: 0.5555 - val_loss: 0.5544\n",
      "Epoch 23/200\n",
      "38/38 [==============================] - ETA: 0s - loss: 0.5542\n",
      "Epoch 23: val_loss did not improve from 0.55445\n",
      "38/38 [==============================] - 2s 44ms/step - loss: 0.5542 - val_loss: 0.5557\n",
      "Epoch 24/200\n",
      "36/38 [===========================>..] - ETA: 0s - loss: 0.5549\n",
      "Epoch 24: val_loss improved from 0.55445 to 0.55381, saving model to anomaly_detector_best_loss.h5\n",
      "38/38 [==============================] - 1s 38ms/step - loss: 0.5546 - val_loss: 0.5538\n",
      "Epoch 25/200\n",
      "38/38 [==============================] - ETA: 0s - loss: 0.5537\n",
      "Epoch 25: val_loss improved from 0.55381 to 0.55314, saving model to anomaly_detector_best_loss.h5\n",
      "38/38 [==============================] - 2s 40ms/step - loss: 0.5537 - val_loss: 0.5531\n",
      "Epoch 26/200\n",
      "37/38 [============================>.] - ETA: 0s - loss: 0.5534\n",
      "Epoch 26: val_loss improved from 0.55314 to 0.55312, saving model to anomaly_detector_best_loss.h5\n",
      "38/38 [==============================] - 1s 36ms/step - loss: 0.5532 - val_loss: 0.5531\n",
      "Epoch 27/200\n",
      "38/38 [==============================] - ETA: 0s - loss: 0.5522\n",
      "Epoch 27: val_loss improved from 0.55312 to 0.55232, saving model to anomaly_detector_best_loss.h5\n",
      "38/38 [==============================] - 1s 35ms/step - loss: 0.5522 - val_loss: 0.5523\n",
      "Epoch 28/200\n",
      "38/38 [==============================] - ETA: 0s - loss: 0.5515\n",
      "Epoch 28: val_loss improved from 0.55232 to 0.55153, saving model to anomaly_detector_best_loss.h5\n",
      "38/38 [==============================] - 1s 36ms/step - loss: 0.5515 - val_loss: 0.5515\n",
      "Epoch 29/200\n",
      "37/38 [============================>.] - ETA: 0s - loss: 0.5524\n",
      "Epoch 29: val_loss improved from 0.55153 to 0.55006, saving model to anomaly_detector_best_loss.h5\n",
      "38/38 [==============================] - 1s 39ms/step - loss: 0.5509 - val_loss: 0.5501\n",
      "Epoch 30/200\n",
      "36/38 [===========================>..] - ETA: 0s - loss: 0.5507\n",
      "Epoch 30: val_loss improved from 0.55006 to 0.54964, saving model to anomaly_detector_best_loss.h5\n",
      "38/38 [==============================] - 1s 32ms/step - loss: 0.5501 - val_loss: 0.5496\n",
      "Epoch 31/200\n",
      "36/38 [===========================>..] - ETA: 0s - loss: 0.5504\n",
      "Epoch 31: val_loss did not improve from 0.54964\n",
      "38/38 [==============================] - 1s 32ms/step - loss: 0.5508 - val_loss: 0.5517\n",
      "Epoch 32/200\n",
      "37/38 [============================>.] - ETA: 0s - loss: 0.5494\n",
      "Epoch 32: val_loss improved from 0.54964 to 0.54940, saving model to anomaly_detector_best_loss.h5\n",
      "38/38 [==============================] - 1s 32ms/step - loss: 0.5495 - val_loss: 0.5494\n",
      "Epoch 33/200\n",
      "38/38 [==============================] - ETA: 0s - loss: 0.5496\n",
      "Epoch 33: val_loss did not improve from 0.54940\n",
      "38/38 [==============================] - 1s 33ms/step - loss: 0.5496 - val_loss: 0.5502\n",
      "Epoch 34/200\n",
      "38/38 [==============================] - ETA: 0s - loss: 0.5488\n",
      "Epoch 34: val_loss improved from 0.54940 to 0.54902, saving model to anomaly_detector_best_loss.h5\n",
      "38/38 [==============================] - 2s 40ms/step - loss: 0.5488 - val_loss: 0.5490\n",
      "Epoch 35/200\n",
      "36/38 [===========================>..] - ETA: 0s - loss: 0.5500\n",
      "Epoch 35: val_loss did not improve from 0.54902\n",
      "38/38 [==============================] - 1s 36ms/step - loss: 0.5491 - val_loss: 0.5492\n",
      "Epoch 36/200\n",
      "37/38 [============================>.] - ETA: 0s - loss: 0.5487\n",
      "Epoch 36: val_loss improved from 0.54902 to 0.54834, saving model to anomaly_detector_best_loss.h5\n",
      "38/38 [==============================] - 1s 38ms/step - loss: 0.5485 - val_loss: 0.5483\n",
      "Epoch 37/200\n",
      "37/38 [============================>.] - ETA: 0s - loss: 0.5483\n",
      "Epoch 37: val_loss did not improve from 0.54834\n",
      "38/38 [==============================] - 1s 34ms/step - loss: 0.5489 - val_loss: 0.5508\n",
      "Epoch 38/200\n",
      "38/38 [==============================] - ETA: 0s - loss: 0.5488\n",
      "Epoch 38: val_loss improved from 0.54834 to 0.54780, saving model to anomaly_detector_best_loss.h5\n",
      "38/38 [==============================] - 1s 36ms/step - loss: 0.5488 - val_loss: 0.5478\n",
      "Epoch 39/200\n",
      "36/38 [===========================>..] - ETA: 0s - loss: 0.5465\n",
      "Epoch 39: val_loss improved from 0.54780 to 0.54746, saving model to anomaly_detector_best_loss.h5\n",
      "38/38 [==============================] - 1s 37ms/step - loss: 0.5473 - val_loss: 0.5475\n",
      "Epoch 40/200\n",
      "38/38 [==============================] - ETA: 0s - loss: 0.5482\n",
      "Epoch 40: val_loss improved from 0.54746 to 0.54687, saving model to anomaly_detector_best_loss.h5\n",
      "38/38 [==============================] - 1s 38ms/step - loss: 0.5482 - val_loss: 0.5469\n",
      "Epoch 41/200\n",
      "38/38 [==============================] - ETA: 0s - loss: 0.5475\n",
      "Epoch 41: val_loss did not improve from 0.54687\n",
      "38/38 [==============================] - 1s 38ms/step - loss: 0.5475 - val_loss: 0.5471\n",
      "Epoch 42/200\n",
      "37/38 [============================>.] - ETA: 0s - loss: 0.5480\n",
      "Epoch 42: val_loss did not improve from 0.54687\n",
      "38/38 [==============================] - 1s 36ms/step - loss: 0.5486 - val_loss: 0.5474\n",
      "Epoch 43/200\n",
      "37/38 [============================>.] - ETA: 0s - loss: 0.5478\n",
      "Epoch 43: val_loss did not improve from 0.54687\n",
      "38/38 [==============================] - 1s 34ms/step - loss: 0.5484 - val_loss: 0.5473\n",
      "Epoch 44/200\n",
      "37/38 [============================>.] - ETA: 0s - loss: 0.5483\n",
      "Epoch 44: val_loss did not improve from 0.54687\n",
      "38/38 [==============================] - 1s 36ms/step - loss: 0.5481 - val_loss: 0.5471\n",
      "Epoch 45/200\n",
      "36/38 [===========================>..] - ETA: 0s - loss: 0.5465\n",
      "Epoch 45: val_loss did not improve from 0.54687\n",
      "38/38 [==============================] - 1s 32ms/step - loss: 0.5471 - val_loss: 0.5477\n",
      "Epoch 46/200\n",
      "37/38 [============================>.] - ETA: 0s - loss: 0.5481\n",
      "Epoch 46: val_loss improved from 0.54687 to 0.54639, saving model to anomaly_detector_best_loss.h5\n",
      "38/38 [==============================] - 1s 35ms/step - loss: 0.5472 - val_loss: 0.5464\n",
      "Epoch 47/200\n",
      "37/38 [============================>.] - ETA: 0s - loss: 0.5474\n",
      "Epoch 47: val_loss did not improve from 0.54639\n",
      "38/38 [==============================] - 1s 32ms/step - loss: 0.5477 - val_loss: 0.5471\n",
      "Epoch 48/200\n",
      "37/38 [============================>.] - ETA: 0s - loss: 0.5483\n",
      "Epoch 48: val_loss did not improve from 0.54639\n",
      "38/38 [==============================] - 1s 33ms/step - loss: 0.5468 - val_loss: 0.5472\n",
      "Epoch 49/200\n",
      "37/38 [============================>.] - ETA: 0s - loss: 0.5477\n",
      "Epoch 49: val_loss did not improve from 0.54639\n",
      "38/38 [==============================] - 1s 33ms/step - loss: 0.5470 - val_loss: 0.5468\n",
      "Epoch 50/200\n",
      "37/38 [============================>.] - ETA: 0s - loss: 0.5464\n",
      "Epoch 50: val_loss did not improve from 0.54639\n",
      "38/38 [==============================] - 1s 34ms/step - loss: 0.5468 - val_loss: 0.5466\n",
      "Epoch 51/200\n",
      "36/38 [===========================>..] - ETA: 0s - loss: 0.5469\n",
      "Epoch 51: val_loss improved from 0.54639 to 0.54638, saving model to anomaly_detector_best_loss.h5\n",
      "38/38 [==============================] - 1s 37ms/step - loss: 0.5465 - val_loss: 0.5464\n",
      "Epoch 52/200\n",
      "37/38 [============================>.] - ETA: 0s - loss: 0.5463\n",
      "Epoch 52: val_loss improved from 0.54638 to 0.54564, saving model to anomaly_detector_best_loss.h5\n",
      "38/38 [==============================] - 1s 34ms/step - loss: 0.5458 - val_loss: 0.5456\n",
      "Epoch 53/200\n",
      "38/38 [==============================] - ETA: 0s - loss: 0.5463\n",
      "Epoch 53: val_loss did not improve from 0.54564\n",
      "38/38 [==============================] - 1s 34ms/step - loss: 0.5463 - val_loss: 0.5461\n",
      "Epoch 54/200\n",
      "37/38 [============================>.] - ETA: 0s - loss: 0.5463\n",
      "Epoch 54: val_loss did not improve from 0.54564\n",
      "38/38 [==============================] - 1s 35ms/step - loss: 0.5461 - val_loss: 0.5463\n",
      "Epoch 55/200\n",
      "38/38 [==============================] - ETA: 0s - loss: 0.5448\n",
      "Epoch 55: val_loss improved from 0.54564 to 0.54507, saving model to anomaly_detector_best_loss.h5\n",
      "38/38 [==============================] - 1s 37ms/step - loss: 0.5448 - val_loss: 0.5451\n",
      "Epoch 56/200\n",
      "38/38 [==============================] - ETA: 0s - loss: 0.5458\n",
      "Epoch 56: val_loss did not improve from 0.54507\n",
      "38/38 [==============================] - 1s 38ms/step - loss: 0.5458 - val_loss: 0.5456\n",
      "Epoch 57/200\n",
      "36/38 [===========================>..] - ETA: 0s - loss: 0.5455\n",
      "Epoch 57: val_loss improved from 0.54507 to 0.54507, saving model to anomaly_detector_best_loss.h5\n",
      "38/38 [==============================] - 1s 37ms/step - loss: 0.5454 - val_loss: 0.5451\n",
      "Epoch 58/200\n",
      "38/38 [==============================] - ETA: 0s - loss: 0.5462\n",
      "Epoch 58: val_loss improved from 0.54507 to 0.54505, saving model to anomaly_detector_best_loss.h5\n",
      "38/38 [==============================] - 2s 39ms/step - loss: 0.5462 - val_loss: 0.5450\n",
      "Epoch 59/200\n",
      "38/38 [==============================] - ETA: 0s - loss: 0.5464\n",
      "Epoch 59: val_loss did not improve from 0.54505\n",
      "38/38 [==============================] - 1s 32ms/step - loss: 0.5464 - val_loss: 0.5454\n",
      "Epoch 60/200\n",
      "37/38 [============================>.] - ETA: 0s - loss: 0.5442\n",
      "Epoch 60: val_loss did not improve from 0.54505\n",
      "38/38 [==============================] - 1s 31ms/step - loss: 0.5451 - val_loss: 0.5458\n",
      "Epoch 61/200\n",
      "38/38 [==============================] - ETA: 0s - loss: 0.5458\n",
      "Epoch 61: val_loss did not improve from 0.54505\n",
      "38/38 [==============================] - 1s 33ms/step - loss: 0.5458 - val_loss: 0.5459\n",
      "Epoch 62/200\n",
      "37/38 [============================>.] - ETA: 0s - loss: 0.5450\n",
      "Epoch 62: val_loss improved from 0.54505 to 0.54502, saving model to anomaly_detector_best_loss.h5\n",
      "38/38 [==============================] - 1s 36ms/step - loss: 0.5456 - val_loss: 0.5450\n",
      "Epoch 63/200\n",
      "36/38 [===========================>..] - ETA: 0s - loss: 0.5455\n",
      "Epoch 63: val_loss improved from 0.54502 to 0.54476, saving model to anomaly_detector_best_loss.h5\n",
      "38/38 [==============================] - 1s 37ms/step - loss: 0.5454 - val_loss: 0.5448\n",
      "Epoch 64/200\n",
      "35/38 [==========================>...] - ETA: 0s - loss: 0.5442\n",
      "Epoch 64: val_loss improved from 0.54476 to 0.54466, saving model to anomaly_detector_best_loss.h5\n",
      "38/38 [==============================] - 1s 36ms/step - loss: 0.5456 - val_loss: 0.5447\n",
      "Epoch 65/200\n",
      "36/38 [===========================>..] - ETA: 0s - loss: 0.5427\n",
      "Epoch 65: val_loss did not improve from 0.54466\n",
      "38/38 [==============================] - 1s 37ms/step - loss: 0.5451 - val_loss: 0.5456\n",
      "Epoch 66/200\n",
      "38/38 [==============================] - ETA: 0s - loss: 0.5454\n",
      "Epoch 66: val_loss did not improve from 0.54466\n",
      "38/38 [==============================] - 1s 30ms/step - loss: 0.5454 - val_loss: 0.5454\n",
      "Epoch 67/200\n",
      "35/38 [==========================>...] - ETA: 0s - loss: 0.5437\n",
      "Epoch 67: val_loss did not improve from 0.54466\n",
      "38/38 [==============================] - 1s 32ms/step - loss: 0.5444 - val_loss: 0.5447\n",
      "Epoch 68/200\n",
      "38/38 [==============================] - ETA: 0s - loss: 0.5450\n",
      "Epoch 68: val_loss did not improve from 0.54466\n",
      "38/38 [==============================] - 1s 37ms/step - loss: 0.5450 - val_loss: 0.5462\n",
      "Epoch 69/200\n",
      "38/38 [==============================] - ETA: 0s - loss: 0.5450\n",
      "Epoch 69: val_loss did not improve from 0.54466\n",
      "38/38 [==============================] - 2s 41ms/step - loss: 0.5450 - val_loss: 0.5453\n",
      "Epoch 70/200\n",
      "37/38 [============================>.] - ETA: 0s - loss: 0.5450\n",
      "Epoch 70: val_loss did not improve from 0.54466\n",
      "38/38 [==============================] - 2s 40ms/step - loss: 0.5451 - val_loss: 0.5453\n",
      "Epoch 71/200\n",
      "36/38 [===========================>..] - ETA: 0s - loss: 0.5442\n",
      "Epoch 71: val_loss did not improve from 0.54466\n",
      "38/38 [==============================] - 1s 36ms/step - loss: 0.5439 - val_loss: 0.5451\n",
      "Epoch 72/200\n",
      "37/38 [============================>.] - ETA: 0s - loss: 0.5448\n",
      "Epoch 72: val_loss did not improve from 0.54466\n",
      "38/38 [==============================] - 1s 33ms/step - loss: 0.5441 - val_loss: 0.5449\n",
      "Epoch 73/200\n",
      "36/38 [===========================>..] - ETA: 0s - loss: 0.5452\n",
      "Epoch 73: val_loss improved from 0.54466 to 0.54389, saving model to anomaly_detector_best_loss.h5\n",
      "38/38 [==============================] - 1s 33ms/step - loss: 0.5447 - val_loss: 0.5439\n",
      "Epoch 74/200\n",
      "37/38 [============================>.] - ETA: 0s - loss: 0.5462\n",
      "Epoch 74: val_loss did not improve from 0.54389\n",
      "38/38 [==============================] - 1s 33ms/step - loss: 0.5448 - val_loss: 0.5443\n",
      "Epoch 75/200\n",
      "37/38 [============================>.] - ETA: 0s - loss: 0.5451\n",
      "Epoch 75: val_loss improved from 0.54389 to 0.54352, saving model to anomaly_detector_best_loss.h5\n",
      "38/38 [==============================] - 2s 40ms/step - loss: 0.5446 - val_loss: 0.5435\n",
      "Epoch 76/200\n",
      "37/38 [============================>.] - ETA: 0s - loss: 0.5459\n",
      "Epoch 76: val_loss did not improve from 0.54352\n",
      "38/38 [==============================] - 1s 35ms/step - loss: 0.5449 - val_loss: 0.5446\n",
      "Epoch 77/200\n",
      "38/38 [==============================] - ETA: 0s - loss: 0.5443\n",
      "Epoch 77: val_loss did not improve from 0.54352\n",
      "38/38 [==============================] - 2s 39ms/step - loss: 0.5443 - val_loss: 0.5443\n",
      "Epoch 78/200\n",
      "38/38 [==============================] - ETA: 0s - loss: 0.5439\n",
      "Epoch 78: val_loss did not improve from 0.54352\n",
      "38/38 [==============================] - 1s 34ms/step - loss: 0.5439 - val_loss: 0.5445\n",
      "Epoch 79/200\n",
      "36/38 [===========================>..] - ETA: 0s - loss: 0.5442\n",
      "Epoch 79: val_loss did not improve from 0.54352\n",
      "38/38 [==============================] - 1s 32ms/step - loss: 0.5445 - val_loss: 0.5436\n",
      "Epoch 80/200\n",
      "37/38 [============================>.] - ETA: 0s - loss: 0.5445\n",
      "Epoch 80: val_loss did not improve from 0.54352\n",
      "38/38 [==============================] - 1s 33ms/step - loss: 0.5442 - val_loss: 0.5439\n",
      "Epoch 81/200\n",
      "37/38 [============================>.] - ETA: 0s - loss: 0.5440\n",
      "Epoch 81: val_loss did not improve from 0.54352\n",
      "38/38 [==============================] - 1s 33ms/step - loss: 0.5441 - val_loss: 0.5445\n",
      "Epoch 82/200\n",
      "38/38 [==============================] - ETA: 0s - loss: 0.5437\n",
      "Epoch 82: val_loss did not improve from 0.54352\n",
      "38/38 [==============================] - 1s 35ms/step - loss: 0.5437 - val_loss: 0.5440\n",
      "Epoch 83/200\n",
      "38/38 [==============================] - ETA: 0s - loss: 0.5437\n",
      "Epoch 83: val_loss did not improve from 0.54352\n",
      "38/38 [==============================] - 1s 34ms/step - loss: 0.5437 - val_loss: 0.5441\n",
      "Epoch 84/200\n",
      "38/38 [==============================] - ETA: 0s - loss: 0.5441\n",
      "Epoch 84: val_loss did not improve from 0.54352\n",
      "38/38 [==============================] - 1s 34ms/step - loss: 0.5441 - val_loss: 0.5440\n",
      "Epoch 85/200\n",
      "36/38 [===========================>..] - ETA: 0s - loss: 0.5445\n",
      "Epoch 85: val_loss did not improve from 0.54352\n",
      "38/38 [==============================] - 1s 35ms/step - loss: 0.5440 - val_loss: 0.5443\n",
      "Epoch 86/200\n",
      "37/38 [============================>.] - ETA: 0s - loss: 0.5433\n",
      "Epoch 86: val_loss did not improve from 0.54352\n",
      "38/38 [==============================] - 1s 36ms/step - loss: 0.5429 - val_loss: 0.5442\n",
      "Epoch 87/200\n",
      "36/38 [===========================>..] - ETA: 0s - loss: 0.5446\n",
      "Epoch 87: val_loss did not improve from 0.54352\n",
      "38/38 [==============================] - 1s 34ms/step - loss: 0.5443 - val_loss: 0.5437\n",
      "Epoch 88/200\n",
      "37/38 [============================>.] - ETA: 0s - loss: 0.5426\n",
      "Epoch 88: val_loss improved from 0.54352 to 0.54277, saving model to anomaly_detector_best_loss.h5\n",
      "38/38 [==============================] - 1s 35ms/step - loss: 0.5434 - val_loss: 0.5428\n",
      "Epoch 89/200\n",
      "38/38 [==============================] - ETA: 0s - loss: 0.5432\n",
      "Epoch 89: val_loss did not improve from 0.54277\n",
      "38/38 [==============================] - 1s 33ms/step - loss: 0.5432 - val_loss: 0.5439\n",
      "Epoch 90/200\n",
      "38/38 [==============================] - ETA: 0s - loss: 0.5440\n",
      "Epoch 90: val_loss did not improve from 0.54277\n",
      "38/38 [==============================] - 1s 35ms/step - loss: 0.5440 - val_loss: 0.5442\n",
      "Epoch 91/200\n",
      "38/38 [==============================] - ETA: 0s - loss: 0.5434\n",
      "Epoch 91: val_loss did not improve from 0.54277\n",
      "38/38 [==============================] - 1s 35ms/step - loss: 0.5434 - val_loss: 0.5434\n",
      "Epoch 92/200\n",
      "37/38 [============================>.] - ETA: 0s - loss: 0.5439\n",
      "Epoch 92: val_loss improved from 0.54277 to 0.54258, saving model to anomaly_detector_best_loss.h5\n",
      "38/38 [==============================] - 1s 39ms/step - loss: 0.5437 - val_loss: 0.5426\n",
      "Epoch 93/200\n",
      "38/38 [==============================] - ETA: 0s - loss: 0.5427\n",
      "Epoch 93: val_loss improved from 0.54258 to 0.54227, saving model to anomaly_detector_best_loss.h5\n",
      "38/38 [==============================] - 1s 33ms/step - loss: 0.5427 - val_loss: 0.5423\n",
      "Epoch 94/200\n",
      "36/38 [===========================>..] - ETA: 0s - loss: 0.5420\n",
      "Epoch 94: val_loss did not improve from 0.54227\n",
      "38/38 [==============================] - 1s 33ms/step - loss: 0.5434 - val_loss: 0.5438\n",
      "Epoch 95/200\n",
      "36/38 [===========================>..] - ETA: 0s - loss: 0.5447\n",
      "Epoch 95: val_loss did not improve from 0.54227\n",
      "38/38 [==============================] - 1s 33ms/step - loss: 0.5440 - val_loss: 0.5431\n",
      "Epoch 96/200\n",
      "38/38 [==============================] - ETA: 0s - loss: 0.5437\n",
      "Epoch 96: val_loss improved from 0.54227 to 0.54221, saving model to anomaly_detector_best_loss.h5\n",
      "38/38 [==============================] - 1s 33ms/step - loss: 0.5437 - val_loss: 0.5422\n",
      "Epoch 97/200\n",
      "37/38 [============================>.] - ETA: 0s - loss: 0.5427\n",
      "Epoch 97: val_loss did not improve from 0.54221\n",
      "38/38 [==============================] - 1s 35ms/step - loss: 0.5423 - val_loss: 0.5428\n",
      "Epoch 98/200\n",
      "38/38 [==============================] - ETA: 0s - loss: 0.5425\n",
      "Epoch 98: val_loss did not improve from 0.54221\n",
      "38/38 [==============================] - 1s 36ms/step - loss: 0.5425 - val_loss: 0.5431\n",
      "Epoch 99/200\n",
      "36/38 [===========================>..] - ETA: 0s - loss: 0.5436\n",
      "Epoch 99: val_loss did not improve from 0.54221\n",
      "38/38 [==============================] - 1s 37ms/step - loss: 0.5433 - val_loss: 0.5438\n",
      "Epoch 100/200\n",
      "37/38 [============================>.] - ETA: 0s - loss: 0.5437\n",
      "Epoch 100: val_loss did not improve from 0.54221\n",
      "38/38 [==============================] - 1s 35ms/step - loss: 0.5428 - val_loss: 0.5425\n",
      "Epoch 101/200\n",
      "37/38 [============================>.] - ETA: 0s - loss: 0.5431\n",
      "Epoch 101: val_loss did not improve from 0.54221\n",
      "38/38 [==============================] - 1s 36ms/step - loss: 0.5430 - val_loss: 0.5431\n",
      "Epoch 102/200\n",
      "38/38 [==============================] - ETA: 0s - loss: 0.5425\n",
      "Epoch 102: val_loss did not improve from 0.54221\n",
      "38/38 [==============================] - 1s 36ms/step - loss: 0.5425 - val_loss: 0.5429\n",
      "Epoch 103/200\n",
      "37/38 [============================>.] - ETA: 0s - loss: 0.5419\n",
      "Epoch 103: val_loss did not improve from 0.54221\n",
      "38/38 [==============================] - 1s 31ms/step - loss: 0.5427 - val_loss: 0.5435\n",
      "Epoch 104/200\n",
      "36/38 [===========================>..] - ETA: 0s - loss: 0.5424\n",
      "Epoch 104: val_loss did not improve from 0.54221\n",
      "38/38 [==============================] - 1s 34ms/step - loss: 0.5437 - val_loss: 0.5432\n",
      "Epoch 105/200\n",
      "38/38 [==============================] - ETA: 0s - loss: 0.5430\n",
      "Epoch 105: val_loss did not improve from 0.54221\n",
      "38/38 [==============================] - 1s 35ms/step - loss: 0.5430 - val_loss: 0.5426\n",
      "Epoch 106/200\n",
      "37/38 [============================>.] - ETA: 0s - loss: 0.5412\n",
      "Epoch 106: val_loss did not improve from 0.54221\n",
      "38/38 [==============================] - 1s 36ms/step - loss: 0.5418 - val_loss: 0.5429\n",
      "Epoch 107/200\n",
      "37/38 [============================>.] - ETA: 0s - loss: 0.5424\n",
      "Epoch 107: val_loss did not improve from 0.54221\n",
      "38/38 [==============================] - 1s 35ms/step - loss: 0.5421 - val_loss: 0.5426\n",
      "Epoch 108/200\n",
      "37/38 [============================>.] - ETA: 0s - loss: 0.5430\n",
      "Epoch 108: val_loss did not improve from 0.54221\n",
      "38/38 [==============================] - 1s 30ms/step - loss: 0.5428 - val_loss: 0.5427\n",
      "Epoch 109/200\n",
      "36/38 [===========================>..] - ETA: 0s - loss: 0.5425\n",
      "Epoch 109: val_loss did not improve from 0.54221\n",
      "38/38 [==============================] - 1s 32ms/step - loss: 0.5434 - val_loss: 0.5427\n",
      "Epoch 110/200\n",
      "38/38 [==============================] - ETA: 0s - loss: 0.5433\n",
      "Epoch 110: val_loss improved from 0.54221 to 0.54219, saving model to anomaly_detector_best_loss.h5\n",
      "38/38 [==============================] - 1s 34ms/step - loss: 0.5433 - val_loss: 0.5422\n",
      "Epoch 111/200\n",
      "38/38 [==============================] - ETA: 0s - loss: 0.5429\n",
      "Epoch 111: val_loss did not improve from 0.54219\n",
      "38/38 [==============================] - 1s 32ms/step - loss: 0.5429 - val_loss: 0.5425\n",
      "Epoch 112/200\n",
      "38/38 [==============================] - ETA: 0s - loss: 0.5431\n",
      "Epoch 112: val_loss did not improve from 0.54219\n",
      "38/38 [==============================] - 1s 36ms/step - loss: 0.5431 - val_loss: 0.5427\n",
      "Epoch 113/200\n",
      "36/38 [===========================>..] - ETA: 0s - loss: 0.5442\n",
      "Epoch 113: val_loss did not improve from 0.54219\n",
      "38/38 [==============================] - 1s 35ms/step - loss: 0.5427 - val_loss: 0.5433\n",
      "Epoch 114/200\n",
      "38/38 [==============================] - ETA: 0s - loss: 0.5420\n",
      "Epoch 114: val_loss improved from 0.54219 to 0.54210, saving model to anomaly_detector_best_loss.h5\n",
      "38/38 [==============================] - 1s 38ms/step - loss: 0.5420 - val_loss: 0.5421\n",
      "Epoch 115/200\n",
      "38/38 [==============================] - ETA: 0s - loss: 0.5428\n",
      "Epoch 115: val_loss did not improve from 0.54210\n",
      "38/38 [==============================] - 1s 35ms/step - loss: 0.5428 - val_loss: 0.5428\n",
      "Epoch 116/200\n",
      "36/38 [===========================>..] - ETA: 0s - loss: 0.5422\n",
      "Epoch 116: val_loss did not improve from 0.54210\n",
      "38/38 [==============================] - 1s 38ms/step - loss: 0.5421 - val_loss: 0.5422\n",
      "Epoch 117/200\n",
      "38/38 [==============================] - ETA: 0s - loss: 0.5428\n",
      "Epoch 117: val_loss did not improve from 0.54210\n",
      "38/38 [==============================] - 2s 42ms/step - loss: 0.5428 - val_loss: 0.5431\n",
      "Epoch 118/200\n",
      "37/38 [============================>.] - ETA: 0s - loss: 0.5421\n",
      "Epoch 118: val_loss did not improve from 0.54210\n",
      "38/38 [==============================] - 1s 36ms/step - loss: 0.5419 - val_loss: 0.5424\n",
      "Epoch 119/200\n",
      "37/38 [============================>.] - ETA: 0s - loss: 0.5429\n",
      "Epoch 119: val_loss did not improve from 0.54210\n",
      "38/38 [==============================] - 1s 35ms/step - loss: 0.5432 - val_loss: 0.5422\n",
      "Epoch 120/200\n",
      "37/38 [============================>.] - ETA: 0s - loss: 0.5415\n",
      "Epoch 120: val_loss improved from 0.54210 to 0.54210, saving model to anomaly_detector_best_loss.h5\n",
      "38/38 [==============================] - 1s 35ms/step - loss: 0.5422 - val_loss: 0.5421\n",
      "Epoch 121/200\n",
      "36/38 [===========================>..] - ETA: 0s - loss: 0.5413\n",
      "Epoch 121: val_loss improved from 0.54210 to 0.54204, saving model to anomaly_detector_best_loss.h5\n",
      "38/38 [==============================] - 1s 36ms/step - loss: 0.5420 - val_loss: 0.5420\n",
      "Epoch 122/200\n",
      "38/38 [==============================] - ETA: 0s - loss: 0.5421\n",
      "Epoch 122: val_loss did not improve from 0.54204\n",
      "38/38 [==============================] - 2s 42ms/step - loss: 0.5421 - val_loss: 0.5423\n",
      "Epoch 123/200\n",
      "35/38 [==========================>...] - ETA: 0s - loss: 0.5438\n",
      "Epoch 123: val_loss did not improve from 0.54204\n",
      "38/38 [==============================] - 1s 34ms/step - loss: 0.5428 - val_loss: 0.5424\n",
      "Epoch 124/200\n",
      "37/38 [============================>.] - ETA: 0s - loss: 0.5422\n",
      "Epoch 124: val_loss improved from 0.54204 to 0.54166, saving model to anomaly_detector_best_loss.h5\n",
      "38/38 [==============================] - 2s 41ms/step - loss: 0.5425 - val_loss: 0.5417\n",
      "Epoch 125/200\n",
      "36/38 [===========================>..] - ETA: 0s - loss: 0.5404\n",
      "Epoch 125: val_loss did not improve from 0.54166\n",
      "38/38 [==============================] - 1s 32ms/step - loss: 0.5415 - val_loss: 0.5423\n",
      "Epoch 126/200\n",
      "36/38 [===========================>..] - ETA: 0s - loss: 0.5434\n",
      "Epoch 126: val_loss did not improve from 0.54166\n",
      "38/38 [==============================] - 1s 33ms/step - loss: 0.5429 - val_loss: 0.5418\n",
      "Epoch 127/200\n",
      "36/38 [===========================>..] - ETA: 0s - loss: 0.5412\n",
      "Epoch 127: val_loss did not improve from 0.54166\n",
      "38/38 [==============================] - 1s 32ms/step - loss: 0.5420 - val_loss: 0.5424\n",
      "Epoch 128/200\n",
      "37/38 [============================>.] - ETA: 0s - loss: 0.5422\n",
      "Epoch 128: val_loss did not improve from 0.54166\n",
      "38/38 [==============================] - 1s 33ms/step - loss: 0.5422 - val_loss: 0.5423\n",
      "Epoch 129/200\n",
      "38/38 [==============================] - ETA: 0s - loss: 0.5426\n",
      "Epoch 129: val_loss improved from 0.54166 to 0.54124, saving model to anomaly_detector_best_loss.h5\n",
      "38/38 [==============================] - 1s 34ms/step - loss: 0.5426 - val_loss: 0.5412\n",
      "Epoch 130/200\n",
      "36/38 [===========================>..] - ETA: 0s - loss: 0.5408\n",
      "Epoch 130: val_loss did not improve from 0.54124\n",
      "38/38 [==============================] - 1s 34ms/step - loss: 0.5422 - val_loss: 0.5423\n",
      "Epoch 131/200\n",
      "37/38 [============================>.] - ETA: 0s - loss: 0.5423\n",
      "Epoch 131: val_loss did not improve from 0.54124\n",
      "38/38 [==============================] - 2s 41ms/step - loss: 0.5423 - val_loss: 0.5418\n",
      "Epoch 132/200\n",
      "37/38 [============================>.] - ETA: 0s - loss: 0.5422\n",
      "Epoch 132: val_loss did not improve from 0.54124\n",
      "38/38 [==============================] - 1s 39ms/step - loss: 0.5428 - val_loss: 0.5426\n",
      "Epoch 133/200\n",
      "38/38 [==============================] - ETA: 0s - loss: 0.5425\n",
      "Epoch 133: val_loss did not improve from 0.54124\n",
      "38/38 [==============================] - 2s 42ms/step - loss: 0.5425 - val_loss: 0.5413\n",
      "Epoch 134/200\n",
      "38/38 [==============================] - ETA: 0s - loss: 0.5421\n",
      "Epoch 134: val_loss did not improve from 0.54124\n",
      "38/38 [==============================] - 1s 37ms/step - loss: 0.5421 - val_loss: 0.5421\n",
      "Epoch 135/200\n",
      "37/38 [============================>.] - ETA: 0s - loss: 0.5416\n",
      "Epoch 135: val_loss did not improve from 0.54124\n",
      "38/38 [==============================] - 1s 34ms/step - loss: 0.5420 - val_loss: 0.5417\n",
      "Epoch 136/200\n",
      "37/38 [============================>.] - ETA: 0s - loss: 0.5416\n",
      "Epoch 136: val_loss did not improve from 0.54124\n",
      "38/38 [==============================] - 1s 33ms/step - loss: 0.5416 - val_loss: 0.5415\n",
      "Epoch 137/200\n",
      "36/38 [===========================>..] - ETA: 0s - loss: 0.5426\n",
      "Epoch 137: val_loss did not improve from 0.54124\n",
      "38/38 [==============================] - 1s 31ms/step - loss: 0.5425 - val_loss: 0.5423\n",
      "Epoch 138/200\n",
      "37/38 [============================>.] - ETA: 0s - loss: 0.5433\n",
      "Epoch 138: val_loss did not improve from 0.54124\n",
      "38/38 [==============================] - 1s 30ms/step - loss: 0.5427 - val_loss: 0.5423\n",
      "Epoch 139/200\n",
      "38/38 [==============================] - ETA: 0s - loss: 0.5421\n",
      "Epoch 139: val_loss did not improve from 0.54124\n",
      "38/38 [==============================] - 1s 30ms/step - loss: 0.5421 - val_loss: 0.5414\n",
      "Epoch 140/200\n",
      "36/38 [===========================>..] - ETA: 0s - loss: 0.5425\n",
      "Epoch 140: val_loss did not improve from 0.54124\n",
      "38/38 [==============================] - 1s 33ms/step - loss: 0.5425 - val_loss: 0.5420\n",
      "Epoch 141/200\n",
      "38/38 [==============================] - ETA: 0s - loss: 0.5424\n",
      "Epoch 141: val_loss did not improve from 0.54124\n",
      "38/38 [==============================] - 1s 32ms/step - loss: 0.5424 - val_loss: 0.5417\n",
      "Epoch 142/200\n",
      "36/38 [===========================>..] - ETA: 0s - loss: 0.5427\n",
      "Epoch 142: val_loss did not improve from 0.54124\n",
      "38/38 [==============================] - 1s 30ms/step - loss: 0.5422 - val_loss: 0.5421\n",
      "Epoch 143/200\n",
      "38/38 [==============================] - ETA: 0s - loss: 0.5425\n",
      "Epoch 143: val_loss did not improve from 0.54124\n",
      "38/38 [==============================] - 1s 30ms/step - loss: 0.5425 - val_loss: 0.5416\n",
      "Epoch 144/200\n",
      "38/38 [==============================] - ETA: 0s - loss: 0.5417\n",
      "Epoch 144: val_loss improved from 0.54124 to 0.54121, saving model to anomaly_detector_best_loss.h5\n",
      "38/38 [==============================] - 1s 38ms/step - loss: 0.5417 - val_loss: 0.5412\n",
      "Epoch 145/200\n",
      "36/38 [===========================>..] - ETA: 0s - loss: 0.5427\n",
      "Epoch 145: val_loss did not improve from 0.54121\n",
      "38/38 [==============================] - 1s 32ms/step - loss: 0.5422 - val_loss: 0.5421\n",
      "Epoch 146/200\n",
      "38/38 [==============================] - ETA: 0s - loss: 0.5426\n",
      "Epoch 146: val_loss did not improve from 0.54121\n",
      "38/38 [==============================] - 1s 36ms/step - loss: 0.5426 - val_loss: 0.5420\n",
      "Epoch 147/200\n",
      "37/38 [============================>.] - ETA: 0s - loss: 0.5426\n",
      "Epoch 147: val_loss did not improve from 0.54121\n",
      "38/38 [==============================] - 1s 36ms/step - loss: 0.5427 - val_loss: 0.5422\n",
      "Epoch 148/200\n",
      "36/38 [===========================>..] - ETA: 0s - loss: 0.5418\n",
      "Epoch 148: val_loss did not improve from 0.54121\n",
      "38/38 [==============================] - 1s 37ms/step - loss: 0.5418 - val_loss: 0.5413\n",
      "Epoch 149/200\n",
      "38/38 [==============================] - ETA: 0s - loss: 0.5421\n",
      "Epoch 149: val_loss improved from 0.54121 to 0.54113, saving model to anomaly_detector_best_loss.h5\n",
      "38/38 [==============================] - 2s 41ms/step - loss: 0.5421 - val_loss: 0.5411\n",
      "Epoch 150/200\n",
      "36/38 [===========================>..] - ETA: 0s - loss: 0.5403\n",
      "Epoch 150: val_loss did not improve from 0.54113\n",
      "38/38 [==============================] - 1s 35ms/step - loss: 0.5412 - val_loss: 0.5412\n",
      "Epoch 151/200\n",
      "36/38 [===========================>..] - ETA: 0s - loss: 0.5407\n",
      "Epoch 151: val_loss improved from 0.54113 to 0.54100, saving model to anomaly_detector_best_loss.h5\n",
      "38/38 [==============================] - 1s 36ms/step - loss: 0.5413 - val_loss: 0.5410\n",
      "Epoch 152/200\n",
      "36/38 [===========================>..] - ETA: 0s - loss: 0.5412\n",
      "Epoch 152: val_loss did not improve from 0.54100\n",
      "38/38 [==============================] - 1s 34ms/step - loss: 0.5421 - val_loss: 0.5411\n",
      "Epoch 153/200\n",
      "38/38 [==============================] - ETA: 0s - loss: 0.5422\n",
      "Epoch 153: val_loss did not improve from 0.54100\n",
      "38/38 [==============================] - 1s 34ms/step - loss: 0.5422 - val_loss: 0.5418\n",
      "Epoch 154/200\n",
      "38/38 [==============================] - ETA: 0s - loss: 0.5414\n",
      "Epoch 154: val_loss did not improve from 0.54100\n",
      "38/38 [==============================] - 1s 33ms/step - loss: 0.5414 - val_loss: 0.5415\n",
      "Epoch 155/200\n",
      "37/38 [============================>.] - ETA: 0s - loss: 0.5425\n",
      "Epoch 155: val_loss did not improve from 0.54100\n",
      "38/38 [==============================] - 1s 35ms/step - loss: 0.5417 - val_loss: 0.5421\n",
      "Epoch 156/200\n",
      "36/38 [===========================>..] - ETA: 0s - loss: 0.5407\n",
      "Epoch 156: val_loss did not improve from 0.54100\n",
      "38/38 [==============================] - 1s 37ms/step - loss: 0.5413 - val_loss: 0.5412\n",
      "Epoch 157/200\n",
      "36/38 [===========================>..] - ETA: 0s - loss: 0.5418\n",
      "Epoch 157: val_loss improved from 0.54100 to 0.54078, saving model to anomaly_detector_best_loss.h5\n",
      "38/38 [==============================] - 1s 35ms/step - loss: 0.5411 - val_loss: 0.5408\n",
      "Epoch 158/200\n",
      "37/38 [============================>.] - ETA: 0s - loss: 0.5396\n",
      "Epoch 158: val_loss did not improve from 0.54078\n",
      "38/38 [==============================] - 1s 32ms/step - loss: 0.5410 - val_loss: 0.5415\n",
      "Epoch 159/200\n",
      "37/38 [============================>.] - ETA: 0s - loss: 0.5412\n",
      "Epoch 159: val_loss did not improve from 0.54078\n",
      "38/38 [==============================] - 1s 32ms/step - loss: 0.5418 - val_loss: 0.5410\n",
      "Epoch 160/200\n",
      "37/38 [============================>.] - ETA: 0s - loss: 0.5407\n",
      "Epoch 160: val_loss did not improve from 0.54078\n",
      "38/38 [==============================] - 1s 33ms/step - loss: 0.5414 - val_loss: 0.5418\n",
      "Epoch 161/200\n",
      "38/38 [==============================] - ETA: 0s - loss: 0.5417\n",
      "Epoch 161: val_loss did not improve from 0.54078\n",
      "38/38 [==============================] - 1s 36ms/step - loss: 0.5417 - val_loss: 0.5413\n",
      "Epoch 162/200\n",
      "38/38 [==============================] - ETA: 0s - loss: 0.5415\n",
      "Epoch 162: val_loss did not improve from 0.54078\n",
      "38/38 [==============================] - 1s 34ms/step - loss: 0.5415 - val_loss: 0.5411\n",
      "Epoch 163/200\n",
      "38/38 [==============================] - ETA: 0s - loss: 0.5416\n",
      "Epoch 163: val_loss did not improve from 0.54078\n",
      "38/38 [==============================] - 1s 39ms/step - loss: 0.5416 - val_loss: 0.5424\n",
      "Epoch 164/200\n",
      "37/38 [============================>.] - ETA: 0s - loss: 0.5426\n",
      "Epoch 164: val_loss did not improve from 0.54078\n",
      "38/38 [==============================] - 1s 37ms/step - loss: 0.5421 - val_loss: 0.5414\n",
      "Epoch 165/200\n",
      "38/38 [==============================] - ETA: 0s - loss: 0.5408\n",
      "Epoch 165: val_loss did not improve from 0.54078\n",
      "38/38 [==============================] - 1s 35ms/step - loss: 0.5408 - val_loss: 0.5413\n",
      "Epoch 166/200\n",
      "37/38 [============================>.] - ETA: 0s - loss: 0.5415\n",
      "Epoch 166: val_loss improved from 0.54078 to 0.54058, saving model to anomaly_detector_best_loss.h5\n",
      "38/38 [==============================] - 2s 40ms/step - loss: 0.5415 - val_loss: 0.5406\n",
      "Epoch 167/200\n",
      "38/38 [==============================] - ETA: 0s - loss: 0.5410\n",
      "Epoch 167: val_loss did not improve from 0.54058\n",
      "38/38 [==============================] - 2s 41ms/step - loss: 0.5410 - val_loss: 0.5414\n",
      "Epoch 168/200\n",
      "38/38 [==============================] - ETA: 0s - loss: 0.5411\n",
      "Epoch 168: val_loss did not improve from 0.54058\n",
      "38/38 [==============================] - 1s 36ms/step - loss: 0.5411 - val_loss: 0.5417\n",
      "Epoch 169/200\n",
      "38/38 [==============================] - ETA: 0s - loss: 0.5414\n",
      "Epoch 169: val_loss did not improve from 0.54058\n",
      "38/38 [==============================] - 1s 34ms/step - loss: 0.5414 - val_loss: 0.5411\n",
      "Epoch 170/200\n",
      "37/38 [============================>.] - ETA: 0s - loss: 0.5416\n",
      "Epoch 170: val_loss did not improve from 0.54058\n",
      "38/38 [==============================] - 1s 39ms/step - loss: 0.5415 - val_loss: 0.5413\n",
      "Epoch 171/200\n",
      "38/38 [==============================] - ETA: 0s - loss: 0.5413\n",
      "Epoch 171: val_loss did not improve from 0.54058\n",
      "38/38 [==============================] - 1s 32ms/step - loss: 0.5413 - val_loss: 0.5409\n",
      "Epoch 172/200\n",
      "36/38 [===========================>..] - ETA: 0s - loss: 0.5412\n",
      "Epoch 172: val_loss did not improve from 0.54058\n",
      "38/38 [==============================] - 1s 31ms/step - loss: 0.5414 - val_loss: 0.5417\n",
      "Epoch 173/200\n",
      "37/38 [============================>.] - ETA: 0s - loss: 0.5406\n",
      "Epoch 173: val_loss did not improve from 0.54058\n",
      "38/38 [==============================] - 1s 35ms/step - loss: 0.5414 - val_loss: 0.5414\n",
      "Epoch 174/200\n",
      "38/38 [==============================] - ETA: 0s - loss: 0.5413\n",
      "Epoch 174: val_loss did not improve from 0.54058\n",
      "38/38 [==============================] - 1s 33ms/step - loss: 0.5413 - val_loss: 0.5421\n",
      "Epoch 175/200\n",
      "38/38 [==============================] - ETA: 0s - loss: 0.5415\n",
      "Epoch 175: val_loss did not improve from 0.54058\n",
      "38/38 [==============================] - 1s 32ms/step - loss: 0.5415 - val_loss: 0.5413\n",
      "Epoch 176/200\n",
      "36/38 [===========================>..] - ETA: 0s - loss: 0.5407\n",
      "Epoch 176: val_loss did not improve from 0.54058\n",
      "38/38 [==============================] - 1s 33ms/step - loss: 0.5414 - val_loss: 0.5417\n",
      "Epoch 177/200\n",
      "36/38 [===========================>..] - ETA: 0s - loss: 0.5408\n",
      "Epoch 177: val_loss did not improve from 0.54058\n",
      "38/38 [==============================] - 1s 31ms/step - loss: 0.5410 - val_loss: 0.5418\n",
      "Epoch 178/200\n",
      "36/38 [===========================>..] - ETA: 0s - loss: 0.5415\n",
      "Epoch 178: val_loss did not improve from 0.54058\n",
      "38/38 [==============================] - 1s 32ms/step - loss: 0.5415 - val_loss: 0.5412\n",
      "Epoch 179/200\n",
      "37/38 [============================>.] - ETA: 0s - loss: 0.5409\n",
      "Epoch 179: val_loss improved from 0.54058 to 0.53988, saving model to anomaly_detector_best_loss.h5\n",
      "38/38 [==============================] - 1s 38ms/step - loss: 0.5417 - val_loss: 0.5399\n",
      "Epoch 180/200\n",
      "36/38 [===========================>..] - ETA: 0s - loss: 0.5418\n",
      "Epoch 180: val_loss did not improve from 0.53988\n",
      "38/38 [==============================] - 1s 38ms/step - loss: 0.5407 - val_loss: 0.5409\n",
      "Epoch 181/200\n",
      "36/38 [===========================>..] - ETA: 0s - loss: 0.5400\n",
      "Epoch 181: val_loss did not improve from 0.53988\n",
      "38/38 [==============================] - 2s 41ms/step - loss: 0.5416 - val_loss: 0.5421\n",
      "Epoch 182/200\n",
      "36/38 [===========================>..] - ETA: 0s - loss: 0.5416\n",
      "Epoch 182: val_loss did not improve from 0.53988\n",
      "38/38 [==============================] - 1s 36ms/step - loss: 0.5410 - val_loss: 0.5411\n",
      "Epoch 183/200\n",
      "37/38 [============================>.] - ETA: 0s - loss: 0.5424\n",
      "Epoch 183: val_loss did not improve from 0.53988\n",
      "38/38 [==============================] - 1s 37ms/step - loss: 0.5419 - val_loss: 0.5413\n",
      "Epoch 184/200\n",
      "38/38 [==============================] - ETA: 0s - loss: 0.5407\n",
      "Epoch 184: val_loss did not improve from 0.53988\n",
      "38/38 [==============================] - 2s 39ms/step - loss: 0.5407 - val_loss: 0.5417\n",
      "Epoch 185/200\n",
      "38/38 [==============================] - ETA: 0s - loss: 0.5411\n",
      "Epoch 185: val_loss did not improve from 0.53988\n",
      "38/38 [==============================] - 1s 32ms/step - loss: 0.5411 - val_loss: 0.5422\n",
      "Epoch 186/200\n",
      "36/38 [===========================>..] - ETA: 0s - loss: 0.5420\n",
      "Epoch 186: val_loss did not improve from 0.53988\n",
      "38/38 [==============================] - 1s 31ms/step - loss: 0.5420 - val_loss: 0.5414\n",
      "Epoch 187/200\n",
      "37/38 [============================>.] - ETA: 0s - loss: 0.5408\n",
      "Epoch 187: val_loss did not improve from 0.53988\n",
      "38/38 [==============================] - 1s 30ms/step - loss: 0.5409 - val_loss: 0.5416\n",
      "Epoch 188/200\n",
      "36/38 [===========================>..] - ETA: 0s - loss: 0.5420\n",
      "Epoch 188: val_loss did not improve from 0.53988\n",
      "38/38 [==============================] - 1s 31ms/step - loss: 0.5406 - val_loss: 0.5417\n",
      "Epoch 189/200\n",
      "37/38 [============================>.] - ETA: 0s - loss: 0.5408\n",
      "Epoch 189: val_loss did not improve from 0.53988\n",
      "38/38 [==============================] - 1s 31ms/step - loss: 0.5412 - val_loss: 0.5414\n",
      "Epoch 190/200\n",
      "38/38 [==============================] - ETA: 0s - loss: 0.5414\n",
      "Epoch 190: val_loss did not improve from 0.53988\n",
      "38/38 [==============================] - 1s 31ms/step - loss: 0.5414 - val_loss: 0.5414\n",
      "Epoch 191/200\n",
      "38/38 [==============================] - ETA: 0s - loss: 0.5409\n",
      "Epoch 191: val_loss did not improve from 0.53988\n",
      "38/38 [==============================] - 1s 33ms/step - loss: 0.5409 - val_loss: 0.5400\n",
      "Epoch 192/200\n",
      "36/38 [===========================>..] - ETA: 0s - loss: 0.5404\n",
      "Epoch 192: val_loss did not improve from 0.53988\n",
      "38/38 [==============================] - 1s 31ms/step - loss: 0.5403 - val_loss: 0.5408\n",
      "Epoch 193/200\n",
      "36/38 [===========================>..] - ETA: 0s - loss: 0.5414\n",
      "Epoch 193: val_loss did not improve from 0.53988\n",
      "38/38 [==============================] - 1s 31ms/step - loss: 0.5407 - val_loss: 0.5403\n",
      "Epoch 194/200\n",
      "37/38 [============================>.] - ETA: 0s - loss: 0.5420\n",
      "Epoch 194: val_loss did not improve from 0.53988\n",
      "38/38 [==============================] - 1s 30ms/step - loss: 0.5410 - val_loss: 0.5412\n",
      "Epoch 195/200\n",
      "37/38 [============================>.] - ETA: 0s - loss: 0.5405\n",
      "Epoch 195: val_loss did not improve from 0.53988\n",
      "38/38 [==============================] - 1s 32ms/step - loss: 0.5404 - val_loss: 0.5408\n",
      "Epoch 196/200\n",
      "38/38 [==============================] - ETA: 0s - loss: 0.5399\n",
      "Epoch 196: val_loss did not improve from 0.53988\n",
      "38/38 [==============================] - 1s 31ms/step - loss: 0.5399 - val_loss: 0.5405\n",
      "Epoch 197/200\n",
      "36/38 [===========================>..] - ETA: 0s - loss: 0.5417\n",
      "Epoch 197: val_loss did not improve from 0.53988\n",
      "38/38 [==============================] - 1s 34ms/step - loss: 0.5416 - val_loss: 0.5421\n",
      "Epoch 198/200\n",
      "38/38 [==============================] - ETA: 0s - loss: 0.5412\n",
      "Epoch 198: val_loss did not improve from 0.53988\n",
      "38/38 [==============================] - 1s 38ms/step - loss: 0.5412 - val_loss: 0.5414\n",
      "Epoch 199/200\n",
      "37/38 [============================>.] - ETA: 0s - loss: 0.5410\n",
      "Epoch 199: val_loss did not improve from 0.53988\n",
      "38/38 [==============================] - 1s 32ms/step - loss: 0.5412 - val_loss: 0.5411\n",
      "Epoch 200/200\n",
      "36/38 [===========================>..] - ETA: 0s - loss: 0.5390\n",
      "Epoch 200: val_loss did not improve from 0.53988\n",
      "38/38 [==============================] - 1s 33ms/step - loss: 0.5406 - val_loss: 0.5406\n"
     ]
    },
    {
     "data": {
      "text/plain": [
       "<keras.callbacks.History at 0x273acc12170>"
      ]
     },
     "execution_count": 6,
     "metadata": {},
     "output_type": "execute_result"
    }
   ],
   "source": [
    "autoencoder.fit(train_generator, validation_data=val_generator, epochs=200, callbacks=[check_point_saver_best_loss])"
   ]
  },
  {
   "cell_type": "markdown",
   "id": "painful-guest",
   "metadata": {},
   "source": [
    "# Validação"
   ]
  },
  {
   "cell_type": "code",
   "execution_count": 7,
   "id": "informal-defense",
   "metadata": {},
   "outputs": [],
   "source": [
    "autoencoder = load_model(best_loss_model_name)"
   ]
  },
  {
   "cell_type": "code",
   "execution_count": 8,
   "id": "derived-dutch",
   "metadata": {},
   "outputs": [
    {
     "name": "stdout",
     "output_type": "stream",
     "text": [
      "1/1 [==============================] - 0s 156ms/step\n"
     ]
    },
    {
     "data": {
      "image/png": "[encoded data removed]",
      "text/plain": [
       "<Figure size 1080x1080 with 9 Axes>"
      ]
     },
     "metadata": {
      "needs_background": "light"
     },
     "output_type": "display_data"
    }
   ],
   "source": [
    "plt.figure(figsize=(15,15))\n",
    "test_generator = BatchGenerator(\"./data/screw_dataset/val/wo_screw\", 9)\n",
    "\n",
    "# batch = next(test_generator)\n",
    "batch = next(iter(test_generator))[0]\n",
    "\n",
    "preds = autoencoder.predict(batch)\n",
    "for i, (gt, pred) in enumerate(zip(batch, preds)):\n",
    "    plt.subplot(3,3,i+1)\n",
    "    \n",
    "    gt = np.uint8(gt * 255)\n",
    "    pred = np.uint8(pred * 255)\n",
    "    concat = cv2.hconcat([gt, pred])\n",
    "    concat = cv2.resize(concat, None, fx=2, fy=2)\n",
    "    plt.imshow(cv2.cvtColor(concat, cv2.COLOR_GRAY2RGB))\n",
    "plt.show()"
   ]
  },
  {
   "cell_type": "markdown",
   "id": "prostate-helen",
   "metadata": {},
   "source": [
    "## Exercicio\n",
    "Observe a geração de imagens pelo autoencoder em imagens que estão fora do padrão (imagens com parafusos), como ficou as imagens geradas?\n",
    "\n",
    "Compare as imagens de entrada vs de saída e crie uma métrica para classificar as anomalias"
   ]
  },
  {
   "cell_type": "code",
   "execution_count": 9,
   "id": "available-spouse",
   "metadata": {},
   "outputs": [
    {
     "name": "stderr",
     "output_type": "stream",
     "text": [
      "  0%|          | 0/300 [00:00<?, ?it/s]"
     ]
    },
    {
     "name": "stdout",
     "output_type": "stream",
     "text": [
      "1/1 [==============================] - 0s 23ms/step\n",
      "1/1 [==============================] - 0s 19ms/step\n"
     ]
    },
    {
     "name": "stderr",
     "output_type": "stream",
     "text": [
      "  1%|          | 2/300 [00:00<00:16, 17.59it/s]"
     ]
    },
    {
     "name": "stdout",
     "output_type": "stream",
     "text": [
      "1/1 [==============================] - 0s 20ms/step\n",
      "1/1 [==============================] - 0s 21ms/step\n",
      "1/1 [==============================] - 0s 20ms/step\n"
     ]
    },
    {
     "name": "stderr",
     "output_type": "stream",
     "text": [
      "  2%|▏         | 5/300 [00:00<00:15, 19.26it/s]"
     ]
    },
    {
     "name": "stdout",
     "output_type": "stream",
     "text": [
      "1/1 [==============================] - 0s 19ms/step\n",
      "1/1 [==============================] - 0s 21ms/step\n",
      "1/1 [==============================] - 0s 21ms/step\n"
     ]
    },
    {
     "name": "stderr",
     "output_type": "stream",
     "text": [
      "  3%|▎         | 8/300 [00:00<00:14, 19.81it/s]"
     ]
    },
    {
     "name": "stdout",
     "output_type": "stream",
     "text": [
      "1/1 [==============================] - 0s 20ms/step\n",
      "1/1 [==============================] - 0s 19ms/step\n"
     ]
    },
    {
     "name": "stderr",
     "output_type": "stream",
     "text": [
      "  3%|▎         | 10/300 [00:00<00:14, 19.55it/s]"
     ]
    },
    {
     "name": "stdout",
     "output_type": "stream",
     "text": [
      "1/1 [==============================] - 0s 20ms/step\n",
      "1/1 [==============================] - 0s 32ms/step\n"
     ]
    },
    {
     "name": "stderr",
     "output_type": "stream",
     "text": [
      "  4%|▍         | 12/300 [00:00<00:16, 17.83it/s]"
     ]
    },
    {
     "name": "stdout",
     "output_type": "stream",
     "text": [
      "1/1 [==============================] - 0s 20ms/step\n",
      "1/1 [==============================] - 0s 21ms/step\n"
     ]
    },
    {
     "name": "stderr",
     "output_type": "stream",
     "text": [
      "  5%|▍         | 14/300 [00:00<00:15, 18.33it/s]"
     ]
    },
    {
     "name": "stdout",
     "output_type": "stream",
     "text": [
      "1/1 [==============================] - 0s 19ms/step\n",
      "1/1 [==============================] - 0s 19ms/step\n",
      "1/1 [==============================] - 0s 19ms/step\n"
     ]
    },
    {
     "name": "stderr",
     "output_type": "stream",
     "text": [
      "  6%|▌         | 17/300 [00:00<00:14, 18.96it/s]"
     ]
    },
    {
     "name": "stdout",
     "output_type": "stream",
     "text": [
      "1/1 [==============================] - 0s 20ms/step\n",
      "1/1 [==============================] - 0s 31ms/step\n"
     ]
    },
    {
     "name": "stderr",
     "output_type": "stream",
     "text": [
      "  6%|▋         | 19/300 [00:01<00:15, 18.47it/s]"
     ]
    },
    {
     "name": "stdout",
     "output_type": "stream",
     "text": [
      "1/1 [==============================] - 0s 19ms/step\n",
      "1/1 [==============================] - 0s 19ms/step\n",
      "1/1 [==============================] - 0s 25ms/step\n"
     ]
    },
    {
     "name": "stderr",
     "output_type": "stream",
     "text": [
      "  7%|▋         | 22/300 [00:01<00:14, 18.76it/s]"
     ]
    },
    {
     "name": "stdout",
     "output_type": "stream",
     "text": [
      "1/1 [==============================] - 0s 20ms/step\n",
      "1/1 [==============================] - 0s 18ms/step\n",
      "1/1 [==============================] - 0s 19ms/step\n"
     ]
    },
    {
     "name": "stderr",
     "output_type": "stream",
     "text": [
      "  8%|▊         | 25/300 [00:01<00:14, 19.32it/s]"
     ]
    },
    {
     "name": "stdout",
     "output_type": "stream",
     "text": [
      "1/1 [==============================] - 0s 19ms/step\n",
      "1/1 [==============================] - 0s 19ms/step\n",
      "1/1 [==============================] - 0s 19ms/step\n"
     ]
    },
    {
     "name": "stderr",
     "output_type": "stream",
     "text": [
      "  9%|▉         | 28/300 [00:01<00:13, 19.51it/s]"
     ]
    },
    {
     "name": "stdout",
     "output_type": "stream",
     "text": [
      "1/1 [==============================] - 0s 20ms/step\n",
      "1/1 [==============================] - 0s 20ms/step\n",
      "1/1 [==============================] - 0s 20ms/step\n"
     ]
    },
    {
     "name": "stderr",
     "output_type": "stream",
     "text": [
      " 10%|█         | 31/300 [00:01<00:13, 19.85it/s]"
     ]
    },
    {
     "name": "stdout",
     "output_type": "stream",
     "text": [
      "1/1 [==============================] - 0s 21ms/step\n",
      "1/1 [==============================] - 0s 26ms/step\n"
     ]
    },
    {
     "name": "stderr",
     "output_type": "stream",
     "text": [
      " 11%|█         | 33/300 [00:01<00:13, 19.27it/s]"
     ]
    },
    {
     "name": "stdout",
     "output_type": "stream",
     "text": [
      "1/1 [==============================] - 0s 24ms/step\n",
      "1/1 [==============================] - 0s 20ms/step\n"
     ]
    },
    {
     "name": "stderr",
     "output_type": "stream",
     "text": [
      " 12%|█▏        | 35/300 [00:01<00:13, 18.95it/s]"
     ]
    },
    {
     "name": "stdout",
     "output_type": "stream",
     "text": [
      "1/1 [==============================] - 0s 19ms/step\n",
      "1/1 [==============================] - 0s 20ms/step\n",
      "1/1 [==============================] - 0s 20ms/step\n"
     ]
    },
    {
     "name": "stderr",
     "output_type": "stream",
     "text": [
      " 13%|█▎        | 38/300 [00:01<00:13, 19.21it/s]"
     ]
    },
    {
     "name": "stdout",
     "output_type": "stream",
     "text": [
      "1/1 [==============================] - 0s 20ms/step\n",
      "1/1 [==============================] - 0s 20ms/step\n",
      "1/1 [==============================] - 0s 21ms/step\n"
     ]
    },
    {
     "name": "stderr",
     "output_type": "stream",
     "text": [
      " 14%|█▎        | 41/300 [00:02<00:13, 19.42it/s]"
     ]
    },
    {
     "name": "stdout",
     "output_type": "stream",
     "text": [
      "1/1 [==============================] - 0s 21ms/step\n",
      "1/1 [==============================] - 0s 22ms/step\n"
     ]
    },
    {
     "name": "stderr",
     "output_type": "stream",
     "text": [
      " 14%|█▍        | 43/300 [00:02<00:13, 19.52it/s]"
     ]
    },
    {
     "name": "stdout",
     "output_type": "stream",
     "text": [
      "1/1 [==============================] - 0s 22ms/step\n",
      "1/1 [==============================] - 0s 20ms/step\n"
     ]
    },
    {
     "name": "stderr",
     "output_type": "stream",
     "text": [
      " 15%|█▌        | 45/300 [00:02<00:13, 19.36it/s]"
     ]
    },
    {
     "name": "stdout",
     "output_type": "stream",
     "text": [
      "1/1 [==============================] - 0s 20ms/step\n",
      "1/1 [==============================] - 0s 20ms/step\n",
      "1/1 [==============================] - 0s 19ms/step\n"
     ]
    },
    {
     "name": "stderr",
     "output_type": "stream",
     "text": [
      " 16%|█▌        | 48/300 [00:02<00:12, 19.40it/s]"
     ]
    },
    {
     "name": "stdout",
     "output_type": "stream",
     "text": [
      "1/1 [==============================] - 0s 18ms/step\n",
      "1/1 [==============================] - 0s 21ms/step\n"
     ]
    },
    {
     "name": "stderr",
     "output_type": "stream",
     "text": [
      " 17%|█▋        | 50/300 [00:02<00:12, 19.46it/s]"
     ]
    },
    {
     "name": "stdout",
     "output_type": "stream",
     "text": [
      "1/1 [==============================] - 0s 24ms/step\n",
      "1/1 [==============================] - 0s 21ms/step\n"
     ]
    },
    {
     "name": "stderr",
     "output_type": "stream",
     "text": [
      " 17%|█▋        | 52/300 [00:02<00:12, 19.41it/s]"
     ]
    },
    {
     "name": "stdout",
     "output_type": "stream",
     "text": [
      "1/1 [==============================] - 0s 29ms/step\n",
      "1/1 [==============================] - 0s 21ms/step\n"
     ]
    },
    {
     "name": "stderr",
     "output_type": "stream",
     "text": [
      " 18%|█▊        | 54/300 [00:02<00:12, 19.12it/s]"
     ]
    },
    {
     "name": "stdout",
     "output_type": "stream",
     "text": [
      "1/1 [==============================] - 0s 18ms/step\n",
      "1/1 [==============================] - 0s 21ms/step\n"
     ]
    },
    {
     "name": "stderr",
     "output_type": "stream",
     "text": [
      " 19%|█▊        | 56/300 [00:02<00:12, 18.96it/s]"
     ]
    },
    {
     "name": "stdout",
     "output_type": "stream",
     "text": [
      "1/1 [==============================] - 0s 17ms/step\n",
      "1/1 [==============================] - 0s 20ms/step\n"
     ]
    },
    {
     "name": "stderr",
     "output_type": "stream",
     "text": [
      " 19%|█▉        | 58/300 [00:03<00:13, 18.37it/s]"
     ]
    },
    {
     "name": "stdout",
     "output_type": "stream",
     "text": [
      "1/1 [==============================] - 0s 21ms/step\n",
      "1/1 [==============================] - 0s 21ms/step\n",
      "1/1 [==============================] - 0s 20ms/step\n"
     ]
    },
    {
     "name": "stderr",
     "output_type": "stream",
     "text": [
      " 20%|██        | 61/300 [00:03<00:12, 19.10it/s]"
     ]
    },
    {
     "name": "stdout",
     "output_type": "stream",
     "text": [
      "1/1 [==============================] - 0s 23ms/step\n",
      "1/1 [==============================] - 0s 20ms/step\n"
     ]
    },
    {
     "name": "stderr",
     "output_type": "stream",
     "text": [
      " 21%|██        | 63/300 [00:03<00:12, 18.50it/s]"
     ]
    },
    {
     "name": "stdout",
     "output_type": "stream",
     "text": [
      "1/1 [==============================] - 0s 21ms/step\n",
      "1/1 [==============================] - 0s 23ms/step\n"
     ]
    },
    {
     "name": "stderr",
     "output_type": "stream",
     "text": [
      " 22%|██▏       | 65/300 [00:03<00:12, 18.42it/s]"
     ]
    },
    {
     "name": "stdout",
     "output_type": "stream",
     "text": [
      "1/1 [==============================] - 0s 20ms/step\n",
      "1/1 [==============================] - 0s 18ms/step\n"
     ]
    },
    {
     "name": "stderr",
     "output_type": "stream",
     "text": [
      " 22%|██▏       | 67/300 [00:03<00:12, 18.59it/s]"
     ]
    },
    {
     "name": "stdout",
     "output_type": "stream",
     "text": [
      "1/1 [==============================] - 0s 19ms/step\n",
      "1/1 [==============================] - 0s 19ms/step\n",
      "1/1 [==============================] - 0s 21ms/step\n"
     ]
    },
    {
     "name": "stderr",
     "output_type": "stream",
     "text": [
      " 23%|██▎       | 70/300 [00:03<00:11, 19.30it/s]"
     ]
    },
    {
     "name": "stdout",
     "output_type": "stream",
     "text": [
      "1/1 [==============================] - 0s 19ms/step\n",
      "1/1 [==============================] - 0s 20ms/step\n"
     ]
    },
    {
     "name": "stderr",
     "output_type": "stream",
     "text": [
      " 24%|██▍       | 72/300 [00:03<00:11, 19.45it/s]"
     ]
    },
    {
     "name": "stdout",
     "output_type": "stream",
     "text": [
      "1/1 [==============================] - 0s 19ms/step\n",
      "1/1 [==============================] - 0s 19ms/step\n"
     ]
    },
    {
     "name": "stderr",
     "output_type": "stream",
     "text": [
      " 25%|██▍       | 74/300 [00:03<00:11, 19.44it/s]"
     ]
    },
    {
     "name": "stdout",
     "output_type": "stream",
     "text": [
      "1/1 [==============================] - 0s 19ms/step\n",
      "1/1 [==============================] - 0s 24ms/step\n"
     ]
    },
    {
     "name": "stderr",
     "output_type": "stream",
     "text": [
      " 25%|██▌       | 76/300 [00:03<00:11, 19.22it/s]"
     ]
    },
    {
     "name": "stdout",
     "output_type": "stream",
     "text": [
      "1/1 [==============================] - 0s 19ms/step\n",
      "1/1 [==============================] - 0s 19ms/step\n"
     ]
    },
    {
     "name": "stderr",
     "output_type": "stream",
     "text": [
      " 26%|██▌       | 78/300 [00:04<00:11, 19.22it/s]"
     ]
    },
    {
     "name": "stdout",
     "output_type": "stream",
     "text": [
      "1/1 [==============================] - 0s 19ms/step\n",
      "1/1 [==============================] - 0s 19ms/step\n",
      "1/1 [==============================] - 0s 20ms/step\n"
     ]
    },
    {
     "name": "stderr",
     "output_type": "stream",
     "text": [
      " 27%|██▋       | 81/300 [00:04<00:11, 19.56it/s]"
     ]
    },
    {
     "name": "stdout",
     "output_type": "stream",
     "text": [
      "1/1 [==============================] - 0s 19ms/step\n",
      "1/1 [==============================] - 0s 19ms/step\n"
     ]
    },
    {
     "name": "stderr",
     "output_type": "stream",
     "text": [
      " 28%|██▊       | 83/300 [00:04<00:11, 19.51it/s]"
     ]
    },
    {
     "name": "stdout",
     "output_type": "stream",
     "text": [
      "1/1 [==============================] - 0s 20ms/step\n",
      "1/1 [==============================] - 0s 20ms/step\n"
     ]
    },
    {
     "name": "stderr",
     "output_type": "stream",
     "text": [
      " 28%|██▊       | 85/300 [00:04<00:10, 19.62it/s]"
     ]
    },
    {
     "name": "stdout",
     "output_type": "stream",
     "text": [
      "1/1 [==============================] - 0s 20ms/step\n",
      "1/1 [==============================] - 0s 22ms/step\n"
     ]
    },
    {
     "name": "stderr",
     "output_type": "stream",
     "text": [
      " 29%|██▉       | 87/300 [00:04<00:11, 19.05it/s]"
     ]
    },
    {
     "name": "stdout",
     "output_type": "stream",
     "text": [
      "1/1 [==============================] - 0s 20ms/step\n",
      "1/1 [==============================] - 0s 19ms/step\n",
      "1/1 [==============================] - 0s 21ms/step\n"
     ]
    },
    {
     "name": "stderr",
     "output_type": "stream",
     "text": [
      " 30%|███       | 90/300 [00:04<00:10, 19.66it/s]"
     ]
    },
    {
     "name": "stdout",
     "output_type": "stream",
     "text": [
      "1/1 [==============================] - 0s 19ms/step\n",
      "1/1 [==============================] - 0s 22ms/step\n",
      "1/1 [==============================] - 0s 21ms/step\n"
     ]
    },
    {
     "name": "stderr",
     "output_type": "stream",
     "text": [
      " 31%|███       | 93/300 [00:04<00:10, 19.84it/s]"
     ]
    },
    {
     "name": "stdout",
     "output_type": "stream",
     "text": [
      "1/1 [==============================] - 0s 19ms/step\n",
      "1/1 [==============================] - 0s 19ms/step\n",
      "1/1 [==============================] - 0s 20ms/step\n"
     ]
    },
    {
     "name": "stderr",
     "output_type": "stream",
     "text": [
      " 32%|███▏      | 96/300 [00:04<00:10, 19.85it/s]"
     ]
    },
    {
     "name": "stdout",
     "output_type": "stream",
     "text": [
      "1/1 [==============================] - 0s 20ms/step\n",
      "1/1 [==============================] - 0s 20ms/step\n"
     ]
    },
    {
     "name": "stderr",
     "output_type": "stream",
     "text": [
      " 33%|███▎      | 98/300 [00:05<00:10, 19.54it/s]"
     ]
    },
    {
     "name": "stdout",
     "output_type": "stream",
     "text": [
      "1/1 [==============================] - 0s 20ms/step\n",
      "1/1 [==============================] - 0s 20ms/step\n",
      "1/1 [==============================] - 0s 20ms/step\n"
     ]
    },
    {
     "name": "stderr",
     "output_type": "stream",
     "text": [
      " 34%|███▎      | 101/300 [00:05<00:10, 19.75it/s]"
     ]
    },
    {
     "name": "stdout",
     "output_type": "stream",
     "text": [
      "1/1 [==============================] - 0s 19ms/step\n",
      "1/1 [==============================] - 0s 19ms/step\n",
      "1/1 [==============================] - 0s 20ms/step\n"
     ]
    },
    {
     "name": "stderr",
     "output_type": "stream",
     "text": [
      " 35%|███▍      | 104/300 [00:05<00:09, 19.99it/s]"
     ]
    },
    {
     "name": "stdout",
     "output_type": "stream",
     "text": [
      "1/1 [==============================] - 0s 19ms/step\n",
      "1/1 [==============================] - 0s 18ms/step\n"
     ]
    },
    {
     "name": "stderr",
     "output_type": "stream",
     "text": [
      " 35%|███▌      | 106/300 [00:05<00:09, 19.86it/s]"
     ]
    },
    {
     "name": "stdout",
     "output_type": "stream",
     "text": [
      "1/1 [==============================] - 0s 20ms/step\n",
      "1/1 [==============================] - 0s 21ms/step\n"
     ]
    },
    {
     "name": "stderr",
     "output_type": "stream",
     "text": [
      " 36%|███▌      | 108/300 [00:05<00:09, 19.84it/s]"
     ]
    },
    {
     "name": "stdout",
     "output_type": "stream",
     "text": [
      "1/1 [==============================] - 0s 23ms/step\n",
      "1/1 [==============================] - 0s 21ms/step\n"
     ]
    },
    {
     "name": "stderr",
     "output_type": "stream",
     "text": [
      " 37%|███▋      | 110/300 [00:05<00:09, 19.09it/s]"
     ]
    },
    {
     "name": "stdout",
     "output_type": "stream",
     "text": [
      "1/1 [==============================] - 0s 20ms/step\n",
      "1/1 [==============================] - 0s 20ms/step\n"
     ]
    },
    {
     "name": "stderr",
     "output_type": "stream",
     "text": [
      " 37%|███▋      | 112/300 [00:05<00:09, 18.89it/s]"
     ]
    },
    {
     "name": "stdout",
     "output_type": "stream",
     "text": [
      "1/1 [==============================] - 0s 21ms/step\n",
      "1/1 [==============================] - 0s 20ms/step\n"
     ]
    },
    {
     "name": "stderr",
     "output_type": "stream",
     "text": [
      " 38%|███▊      | 114/300 [00:05<00:09, 19.10it/s]"
     ]
    },
    {
     "name": "stdout",
     "output_type": "stream",
     "text": [
      "1/1 [==============================] - 0s 19ms/step\n",
      "1/1 [==============================] - 0s 19ms/step\n"
     ]
    },
    {
     "name": "stderr",
     "output_type": "stream",
     "text": [
      " 39%|███▊      | 116/300 [00:06<00:09, 19.16it/s]"
     ]
    },
    {
     "name": "stdout",
     "output_type": "stream",
     "text": [
      "1/1 [==============================] - 0s 20ms/step\n",
      "1/1 [==============================] - 0s 20ms/step\n"
     ]
    },
    {
     "name": "stderr",
     "output_type": "stream",
     "text": [
      " 39%|███▉      | 118/300 [00:06<00:09, 19.33it/s]"
     ]
    },
    {
     "name": "stdout",
     "output_type": "stream",
     "text": [
      "1/1 [==============================] - 0s 21ms/step\n",
      "1/1 [==============================] - 0s 25ms/step\n"
     ]
    },
    {
     "name": "stderr",
     "output_type": "stream",
     "text": [
      " 40%|████      | 120/300 [00:06<00:09, 18.89it/s]"
     ]
    },
    {
     "name": "stdout",
     "output_type": "stream",
     "text": [
      "1/1 [==============================] - 0s 23ms/step\n",
      "1/1 [==============================] - 0s 20ms/step\n"
     ]
    },
    {
     "name": "stderr",
     "output_type": "stream",
     "text": [
      " 41%|████      | 122/300 [00:06<00:09, 18.74it/s]"
     ]
    },
    {
     "name": "stdout",
     "output_type": "stream",
     "text": [
      "1/1 [==============================] - 0s 18ms/step\n",
      "1/1 [==============================] - 0s 20ms/step\n",
      "1/1 [==============================] - 0s 22ms/step\n"
     ]
    },
    {
     "name": "stderr",
     "output_type": "stream",
     "text": [
      " 42%|████▏     | 125/300 [00:06<00:09, 18.90it/s]"
     ]
    },
    {
     "name": "stdout",
     "output_type": "stream",
     "text": [
      "1/1 [==============================] - 0s 21ms/step\n",
      "1/1 [==============================] - 0s 63ms/step\n"
     ]
    },
    {
     "name": "stderr",
     "output_type": "stream",
     "text": [
      " 42%|████▏     | 127/300 [00:06<00:10, 17.24it/s]"
     ]
    },
    {
     "name": "stdout",
     "output_type": "stream",
     "text": [
      "1/1 [==============================] - 0s 20ms/step\n",
      "1/1 [==============================] - 0s 22ms/step\n"
     ]
    },
    {
     "name": "stderr",
     "output_type": "stream",
     "text": [
      " 43%|████▎     | 129/300 [00:06<00:09, 17.55it/s]"
     ]
    },
    {
     "name": "stdout",
     "output_type": "stream",
     "text": [
      "1/1 [==============================] - 0s 19ms/step\n",
      "1/1 [==============================] - 0s 18ms/step\n"
     ]
    },
    {
     "name": "stderr",
     "output_type": "stream",
     "text": [
      " 44%|████▎     | 131/300 [00:06<00:09, 17.96it/s]"
     ]
    },
    {
     "name": "stdout",
     "output_type": "stream",
     "text": [
      "1/1 [==============================] - 0s 20ms/step\n",
      "1/1 [==============================] - 0s 19ms/step\n"
     ]
    },
    {
     "name": "stderr",
     "output_type": "stream",
     "text": [
      " 44%|████▍     | 133/300 [00:06<00:09, 18.42it/s]"
     ]
    },
    {
     "name": "stdout",
     "output_type": "stream",
     "text": [
      "1/1 [==============================] - 0s 20ms/step\n",
      "1/1 [==============================] - 0s 19ms/step\n"
     ]
    },
    {
     "name": "stderr",
     "output_type": "stream",
     "text": [
      " 45%|████▌     | 135/300 [00:07<00:08, 18.72it/s]"
     ]
    },
    {
     "name": "stdout",
     "output_type": "stream",
     "text": [
      "1/1 [==============================] - 0s 20ms/step\n",
      "1/1 [==============================] - 0s 20ms/step\n",
      "1/1 [==============================] - 0s 19ms/step\n"
     ]
    },
    {
     "name": "stderr",
     "output_type": "stream",
     "text": [
      " 46%|████▌     | 138/300 [00:07<00:08, 19.26it/s]"
     ]
    },
    {
     "name": "stdout",
     "output_type": "stream",
     "text": [
      "1/1 [==============================] - 0s 21ms/step\n",
      "1/1 [==============================] - 0s 22ms/step\n"
     ]
    },
    {
     "name": "stderr",
     "output_type": "stream",
     "text": [
      " 47%|████▋     | 140/300 [00:07<00:08, 18.74it/s]"
     ]
    },
    {
     "name": "stdout",
     "output_type": "stream",
     "text": [
      "1/1 [==============================] - 0s 20ms/step\n",
      "1/1 [==============================] - 0s 20ms/step\n"
     ]
    },
    {
     "name": "stderr",
     "output_type": "stream",
     "text": [
      " 47%|████▋     | 142/300 [00:07<00:08, 19.03it/s]"
     ]
    },
    {
     "name": "stdout",
     "output_type": "stream",
     "text": [
      "1/1 [==============================] - 0s 20ms/step\n",
      "1/1 [==============================] - 0s 20ms/step\n"
     ]
    },
    {
     "name": "stderr",
     "output_type": "stream",
     "text": [
      " 48%|████▊     | 144/300 [00:07<00:08, 19.10it/s]"
     ]
    },
    {
     "name": "stdout",
     "output_type": "stream",
     "text": [
      "1/1 [==============================] - 0s 19ms/step\n",
      "1/1 [==============================] - 0s 20ms/step\n",
      "1/1 [==============================] - 0s 20ms/step\n"
     ]
    },
    {
     "name": "stderr",
     "output_type": "stream",
     "text": [
      " 49%|████▉     | 147/300 [00:07<00:07, 19.51it/s]"
     ]
    },
    {
     "name": "stdout",
     "output_type": "stream",
     "text": [
      "1/1 [==============================] - 0s 22ms/step\n",
      "1/1 [==============================] - 0s 21ms/step\n"
     ]
    },
    {
     "name": "stderr",
     "output_type": "stream",
     "text": [
      " 50%|████▉     | 149/300 [00:07<00:07, 19.25it/s]"
     ]
    },
    {
     "name": "stdout",
     "output_type": "stream",
     "text": [
      "1/1 [==============================] - 0s 21ms/step\n",
      "1/1 [==============================] - 0s 25ms/step\n"
     ]
    },
    {
     "name": "stderr",
     "output_type": "stream",
     "text": [
      " 50%|█████     | 151/300 [00:07<00:07, 18.81it/s]"
     ]
    },
    {
     "name": "stdout",
     "output_type": "stream",
     "text": [
      "1/1 [==============================] - 0s 20ms/step\n",
      "1/1 [==============================] - 0s 20ms/step\n",
      "1/1 [==============================] - 0s 20ms/step\n"
     ]
    },
    {
     "name": "stderr",
     "output_type": "stream",
     "text": [
      " 51%|█████▏    | 154/300 [00:08<00:07, 19.20it/s]"
     ]
    },
    {
     "name": "stdout",
     "output_type": "stream",
     "text": [
      "1/1 [==============================] - 0s 19ms/step\n",
      "1/1 [==============================] - 0s 20ms/step\n",
      "1/1 [==============================] - 0s 20ms/step\n"
     ]
    },
    {
     "name": "stderr",
     "output_type": "stream",
     "text": [
      " 52%|█████▏    | 157/300 [00:08<00:07, 19.66it/s]"
     ]
    },
    {
     "name": "stdout",
     "output_type": "stream",
     "text": [
      "1/1 [==============================] - 0s 21ms/step\n",
      "1/1 [==============================] - 0s 22ms/step\n"
     ]
    },
    {
     "name": "stderr",
     "output_type": "stream",
     "text": [
      " 53%|█████▎    | 159/300 [00:08<00:07, 19.65it/s]"
     ]
    },
    {
     "name": "stdout",
     "output_type": "stream",
     "text": [
      "1/1 [==============================] - 0s 24ms/step\n",
      "1/1 [==============================] - 0s 20ms/step\n"
     ]
    },
    {
     "name": "stderr",
     "output_type": "stream",
     "text": [
      " 54%|█████▎    | 161/300 [00:08<00:07, 19.36it/s]"
     ]
    },
    {
     "name": "stdout",
     "output_type": "stream",
     "text": [
      "1/1 [==============================] - 0s 25ms/step\n",
      "1/1 [==============================] - 0s 18ms/step\n"
     ]
    },
    {
     "name": "stderr",
     "output_type": "stream",
     "text": [
      " 54%|█████▍    | 163/300 [00:08<00:07, 19.09it/s]"
     ]
    },
    {
     "name": "stdout",
     "output_type": "stream",
     "text": [
      "1/1 [==============================] - 0s 21ms/step\n",
      "1/1 [==============================] - 0s 19ms/step\n"
     ]
    },
    {
     "name": "stderr",
     "output_type": "stream",
     "text": [
      " 55%|█████▌    | 165/300 [00:08<00:07, 19.14it/s]"
     ]
    },
    {
     "name": "stdout",
     "output_type": "stream",
     "text": [
      "1/1 [==============================] - 0s 19ms/step\n",
      "1/1 [==============================] - 0s 20ms/step\n",
      "1/1 [==============================] - 0s 21ms/step\n"
     ]
    },
    {
     "name": "stderr",
     "output_type": "stream",
     "text": [
      " 56%|█████▌    | 168/300 [00:08<00:06, 19.49it/s]"
     ]
    },
    {
     "name": "stdout",
     "output_type": "stream",
     "text": [
      "1/1 [==============================] - 0s 21ms/step\n",
      "1/1 [==============================] - 0s 20ms/step\n"
     ]
    },
    {
     "name": "stderr",
     "output_type": "stream",
     "text": [
      " 57%|█████▋    | 170/300 [00:08<00:06, 19.58it/s]"
     ]
    },
    {
     "name": "stdout",
     "output_type": "stream",
     "text": [
      "1/1 [==============================] - 0s 20ms/step\n",
      "1/1 [==============================] - 0s 19ms/step\n",
      "1/1 [==============================] - 0s 22ms/step\n"
     ]
    },
    {
     "name": "stderr",
     "output_type": "stream",
     "text": [
      " 58%|█████▊    | 173/300 [00:09<00:06, 18.93it/s]"
     ]
    },
    {
     "name": "stdout",
     "output_type": "stream",
     "text": [
      "1/1 [==============================] - 0s 21ms/step\n",
      "1/1 [==============================] - 0s 20ms/step\n"
     ]
    },
    {
     "name": "stderr",
     "output_type": "stream",
     "text": [
      " 58%|█████▊    | 175/300 [00:09<00:06, 19.16it/s]"
     ]
    },
    {
     "name": "stdout",
     "output_type": "stream",
     "text": [
      "1/1 [==============================] - 0s 21ms/step\n",
      "1/1 [==============================] - 0s 19ms/step\n",
      "1/1 [==============================] - 0s 20ms/step\n"
     ]
    },
    {
     "name": "stderr",
     "output_type": "stream",
     "text": [
      " 59%|█████▉    | 178/300 [00:09<00:06, 19.47it/s]"
     ]
    },
    {
     "name": "stdout",
     "output_type": "stream",
     "text": [
      "1/1 [==============================] - 0s 19ms/step\n",
      "1/1 [==============================] - 0s 20ms/step\n",
      "1/1 [==============================] - 0s 20ms/step\n"
     ]
    },
    {
     "name": "stderr",
     "output_type": "stream",
     "text": [
      " 60%|██████    | 181/300 [00:09<00:05, 19.85it/s]"
     ]
    },
    {
     "name": "stdout",
     "output_type": "stream",
     "text": [
      "1/1 [==============================] - 0s 19ms/step\n",
      "1/1 [==============================] - 0s 20ms/step\n"
     ]
    },
    {
     "name": "stderr",
     "output_type": "stream",
     "text": [
      " 61%|██████    | 183/300 [00:09<00:06, 19.34it/s]"
     ]
    },
    {
     "name": "stdout",
     "output_type": "stream",
     "text": [
      "1/1 [==============================] - 0s 21ms/step\n",
      "1/1 [==============================] - 0s 19ms/step\n"
     ]
    },
    {
     "name": "stderr",
     "output_type": "stream",
     "text": [
      " 62%|██████▏   | 185/300 [00:09<00:05, 19.37it/s]"
     ]
    },
    {
     "name": "stdout",
     "output_type": "stream",
     "text": [
      "1/1 [==============================] - 0s 18ms/step\n",
      "1/1 [==============================] - 0s 22ms/step\n"
     ]
    },
    {
     "name": "stderr",
     "output_type": "stream",
     "text": [
      " 62%|██████▏   | 187/300 [00:09<00:05, 19.50it/s]"
     ]
    },
    {
     "name": "stdout",
     "output_type": "stream",
     "text": [
      "1/1 [==============================] - 0s 23ms/step\n",
      "1/1 [==============================] - 0s 22ms/step\n"
     ]
    },
    {
     "name": "stderr",
     "output_type": "stream",
     "text": [
      " 63%|██████▎   | 189/300 [00:09<00:05, 19.18it/s]"
     ]
    },
    {
     "name": "stdout",
     "output_type": "stream",
     "text": [
      "1/1 [==============================] - 0s 18ms/step\n",
      "1/1 [==============================] - 0s 19ms/step\n",
      "1/1 [==============================] - 0s 21ms/step\n"
     ]
    },
    {
     "name": "stderr",
     "output_type": "stream",
     "text": [
      " 64%|██████▍   | 192/300 [00:10<00:05, 19.60it/s]"
     ]
    },
    {
     "name": "stdout",
     "output_type": "stream",
     "text": [
      "1/1 [==============================] - 0s 19ms/step\n",
      "1/1 [==============================] - 0s 20ms/step\n"
     ]
    },
    {
     "name": "stderr",
     "output_type": "stream",
     "text": [
      " 65%|██████▍   | 194/300 [00:10<00:05, 19.58it/s]"
     ]
    },
    {
     "name": "stdout",
     "output_type": "stream",
     "text": [
      "1/1 [==============================] - 0s 22ms/step\n",
      "1/1 [==============================] - 0s 19ms/step\n"
     ]
    },
    {
     "name": "stderr",
     "output_type": "stream",
     "text": [
      " 65%|██████▌   | 196/300 [00:10<00:05, 19.29it/s]"
     ]
    },
    {
     "name": "stdout",
     "output_type": "stream",
     "text": [
      "1/1 [==============================] - 0s 19ms/step\n",
      "1/1 [==============================] - 0s 20ms/step\n",
      "1/1 [==============================] - 0s 20ms/step\n"
     ]
    },
    {
     "name": "stderr",
     "output_type": "stream",
     "text": [
      " 66%|██████▋   | 199/300 [00:10<00:05, 19.66it/s]"
     ]
    },
    {
     "name": "stdout",
     "output_type": "stream",
     "text": [
      "1/1 [==============================] - 0s 20ms/step\n",
      "1/1 [==============================] - 0s 20ms/step\n"
     ]
    },
    {
     "name": "stderr",
     "output_type": "stream",
     "text": [
      " 67%|██████▋   | 201/300 [00:10<00:05, 19.69it/s]"
     ]
    },
    {
     "name": "stdout",
     "output_type": "stream",
     "text": [
      "1/1 [==============================] - 0s 19ms/step\n",
      "1/1 [==============================] - 0s 19ms/step\n",
      "1/1 [==============================] - 0s 20ms/step\n"
     ]
    },
    {
     "name": "stderr",
     "output_type": "stream",
     "text": [
      " 68%|██████▊   | 204/300 [00:10<00:04, 19.87it/s]"
     ]
    },
    {
     "name": "stdout",
     "output_type": "stream",
     "text": [
      "1/1 [==============================] - 0s 21ms/step\n",
      "1/1 [==============================] - 0s 21ms/step\n"
     ]
    },
    {
     "name": "stderr",
     "output_type": "stream",
     "text": [
      " 69%|██████▊   | 206/300 [00:10<00:04, 19.54it/s]"
     ]
    },
    {
     "name": "stdout",
     "output_type": "stream",
     "text": [
      "1/1 [==============================] - 0s 21ms/step\n",
      "1/1 [==============================] - 0s 20ms/step\n"
     ]
    },
    {
     "name": "stderr",
     "output_type": "stream",
     "text": [
      " 69%|██████▉   | 208/300 [00:10<00:04, 19.17it/s]"
     ]
    },
    {
     "name": "stdout",
     "output_type": "stream",
     "text": [
      "1/1 [==============================] - 0s 20ms/step\n",
      "1/1 [==============================] - 0s 18ms/step\n"
     ]
    },
    {
     "name": "stderr",
     "output_type": "stream",
     "text": [
      " 70%|███████   | 210/300 [00:10<00:04, 19.38it/s]"
     ]
    },
    {
     "name": "stdout",
     "output_type": "stream",
     "text": [
      "1/1 [==============================] - 0s 20ms/step\n",
      "1/1 [==============================] - 0s 19ms/step\n"
     ]
    },
    {
     "name": "stderr",
     "output_type": "stream",
     "text": [
      " 71%|███████   | 212/300 [00:11<00:04, 19.21it/s]"
     ]
    },
    {
     "name": "stdout",
     "output_type": "stream",
     "text": [
      "1/1 [==============================] - 0s 21ms/step\n",
      "1/1 [==============================] - 0s 19ms/step\n",
      "1/1 [==============================] - 0s 18ms/step\n"
     ]
    },
    {
     "name": "stderr",
     "output_type": "stream",
     "text": [
      " 72%|███████▏  | 215/300 [00:11<00:04, 19.79it/s]"
     ]
    },
    {
     "name": "stdout",
     "output_type": "stream",
     "text": [
      "1/1 [==============================] - 0s 19ms/step\n",
      "1/1 [==============================] - 0s 26ms/step\n"
     ]
    },
    {
     "name": "stderr",
     "output_type": "stream",
     "text": [
      " 72%|███████▏  | 217/300 [00:11<00:04, 19.35it/s]"
     ]
    },
    {
     "name": "stdout",
     "output_type": "stream",
     "text": [
      "1/1 [==============================] - 0s 22ms/step\n",
      "1/1 [==============================] - 0s 20ms/step\n",
      "1/1 [==============================] - 0s 20ms/step\n"
     ]
    },
    {
     "name": "stderr",
     "output_type": "stream",
     "text": [
      " 73%|███████▎  | 220/300 [00:11<00:04, 19.69it/s]"
     ]
    },
    {
     "name": "stdout",
     "output_type": "stream",
     "text": [
      "1/1 [==============================] - 0s 20ms/step\n",
      "1/1 [==============================] - 0s 19ms/step\n"
     ]
    },
    {
     "name": "stderr",
     "output_type": "stream",
     "text": [
      " 74%|███████▍  | 222/300 [00:11<00:03, 19.58it/s]"
     ]
    },
    {
     "name": "stdout",
     "output_type": "stream",
     "text": [
      "1/1 [==============================] - 0s 18ms/step\n",
      "1/1 [==============================] - 0s 21ms/step\n",
      "1/1 [==============================] - 0s 19ms/step\n"
     ]
    },
    {
     "name": "stderr",
     "output_type": "stream",
     "text": [
      " 75%|███████▌  | 225/300 [00:11<00:03, 19.74it/s]"
     ]
    },
    {
     "name": "stdout",
     "output_type": "stream",
     "text": [
      "1/1 [==============================] - 0s 21ms/step\n",
      "1/1 [==============================] - 0s 20ms/step\n",
      "1/1 [==============================] - 0s 21ms/step\n"
     ]
    },
    {
     "name": "stderr",
     "output_type": "stream",
     "text": [
      " 76%|███████▌  | 228/300 [00:11<00:03, 19.62it/s]"
     ]
    },
    {
     "name": "stdout",
     "output_type": "stream",
     "text": [
      "1/1 [==============================] - 0s 21ms/step\n",
      "1/1 [==============================] - 0s 21ms/step\n"
     ]
    },
    {
     "name": "stderr",
     "output_type": "stream",
     "text": [
      " 77%|███████▋  | 230/300 [00:11<00:03, 19.64it/s]"
     ]
    },
    {
     "name": "stdout",
     "output_type": "stream",
     "text": [
      "1/1 [==============================] - 0s 21ms/step\n",
      "1/1 [==============================] - 0s 20ms/step\n"
     ]
    },
    {
     "name": "stderr",
     "output_type": "stream",
     "text": [
      " 77%|███████▋  | 232/300 [00:12<00:03, 19.49it/s]"
     ]
    },
    {
     "name": "stdout",
     "output_type": "stream",
     "text": [
      "1/1 [==============================] - 0s 21ms/step\n",
      "1/1 [==============================] - 0s 22ms/step\n"
     ]
    },
    {
     "name": "stderr",
     "output_type": "stream",
     "text": [
      " 78%|███████▊  | 234/300 [00:12<00:03, 19.53it/s]"
     ]
    },
    {
     "name": "stdout",
     "output_type": "stream",
     "text": [
      "1/1 [==============================] - 0s 22ms/step\n",
      "1/1 [==============================] - 0s 20ms/step\n"
     ]
    },
    {
     "name": "stderr",
     "output_type": "stream",
     "text": [
      " 79%|███████▊  | 236/300 [00:12<00:03, 19.62it/s]"
     ]
    },
    {
     "name": "stdout",
     "output_type": "stream",
     "text": [
      "1/1 [==============================] - 0s 36ms/step\n",
      "1/1 [==============================] - 0s 23ms/step\n"
     ]
    },
    {
     "name": "stderr",
     "output_type": "stream",
     "text": [
      " 79%|███████▉  | 238/300 [00:12<00:03, 16.91it/s]"
     ]
    },
    {
     "name": "stdout",
     "output_type": "stream",
     "text": [
      "1/1 [==============================] - 0s 21ms/step\n",
      "1/1 [==============================] - 0s 20ms/step\n"
     ]
    },
    {
     "name": "stderr",
     "output_type": "stream",
     "text": [
      " 80%|████████  | 240/300 [00:12<00:03, 17.64it/s]"
     ]
    },
    {
     "name": "stdout",
     "output_type": "stream",
     "text": [
      "1/1 [==============================] - 0s 21ms/step\n",
      "1/1 [==============================] - 0s 20ms/step\n"
     ]
    },
    {
     "name": "stderr",
     "output_type": "stream",
     "text": [
      " 81%|████████  | 242/300 [00:12<00:03, 18.00it/s]"
     ]
    },
    {
     "name": "stdout",
     "output_type": "stream",
     "text": [
      "1/1 [==============================] - 0s 21ms/step\n",
      "1/1 [==============================] - 0s 18ms/step\n",
      "1/1 [==============================] - 0s 18ms/step\n"
     ]
    },
    {
     "name": "stderr",
     "output_type": "stream",
     "text": [
      " 82%|████████▏ | 245/300 [00:12<00:02, 18.66it/s]"
     ]
    },
    {
     "name": "stdout",
     "output_type": "stream",
     "text": [
      "1/1 [==============================] - 0s 21ms/step\n",
      "1/1 [==============================] - 0s 21ms/step\n",
      "1/1 [==============================] - 0s 21ms/step\n"
     ]
    },
    {
     "name": "stderr",
     "output_type": "stream",
     "text": [
      " 83%|████████▎ | 248/300 [00:12<00:02, 19.13it/s]"
     ]
    },
    {
     "name": "stdout",
     "output_type": "stream",
     "text": [
      "1/1 [==============================] - 0s 36ms/step\n",
      "1/1 [==============================] - 0s 21ms/step\n"
     ]
    },
    {
     "name": "stderr",
     "output_type": "stream",
     "text": [
      " 83%|████████▎ | 250/300 [00:13<00:02, 18.18it/s]"
     ]
    },
    {
     "name": "stdout",
     "output_type": "stream",
     "text": [
      "1/1 [==============================] - 0s 19ms/step\n",
      "1/1 [==============================] - 0s 20ms/step\n"
     ]
    },
    {
     "name": "stderr",
     "output_type": "stream",
     "text": [
      " 84%|████████▍ | 252/300 [00:13<00:02, 18.36it/s]"
     ]
    },
    {
     "name": "stdout",
     "output_type": "stream",
     "text": [
      "1/1 [==============================] - 0s 19ms/step\n",
      "1/1 [==============================] - 0s 20ms/step\n",
      "1/1 [==============================] - 0s 19ms/step\n"
     ]
    },
    {
     "name": "stderr",
     "output_type": "stream",
     "text": [
      " 85%|████████▌ | 255/300 [00:13<00:02, 19.21it/s]"
     ]
    },
    {
     "name": "stdout",
     "output_type": "stream",
     "text": [
      "1/1 [==============================] - 0s 23ms/step\n",
      "1/1 [==============================] - 0s 19ms/step\n"
     ]
    },
    {
     "name": "stderr",
     "output_type": "stream",
     "text": [
      " 86%|████████▌ | 257/300 [00:13<00:02, 18.74it/s]"
     ]
    },
    {
     "name": "stdout",
     "output_type": "stream",
     "text": [
      "1/1 [==============================] - 0s 21ms/step\n",
      "1/1 [==============================] - 0s 26ms/step\n"
     ]
    },
    {
     "name": "stderr",
     "output_type": "stream",
     "text": [
      " 86%|████████▋ | 259/300 [00:13<00:02, 18.14it/s]"
     ]
    },
    {
     "name": "stdout",
     "output_type": "stream",
     "text": [
      "1/1 [==============================] - 0s 24ms/step\n",
      "1/1 [==============================] - 0s 25ms/step\n"
     ]
    },
    {
     "name": "stderr",
     "output_type": "stream",
     "text": [
      " 87%|████████▋ | 261/300 [00:13<00:02, 17.02it/s]"
     ]
    },
    {
     "name": "stdout",
     "output_type": "stream",
     "text": [
      "1/1 [==============================] - 0s 26ms/step\n",
      "1/1 [==============================] - 0s 24ms/step\n"
     ]
    },
    {
     "name": "stderr",
     "output_type": "stream",
     "text": [
      " 88%|████████▊ | 263/300 [00:13<00:02, 16.69it/s]"
     ]
    },
    {
     "name": "stdout",
     "output_type": "stream",
     "text": [
      "1/1 [==============================] - 0s 22ms/step\n",
      "1/1 [==============================] - 0s 22ms/step\n"
     ]
    },
    {
     "name": "stderr",
     "output_type": "stream",
     "text": [
      " 88%|████████▊ | 265/300 [00:13<00:02, 16.86it/s]"
     ]
    },
    {
     "name": "stdout",
     "output_type": "stream",
     "text": [
      "1/1 [==============================] - 0s 22ms/step\n",
      "1/1 [==============================] - 0s 23ms/step\n"
     ]
    },
    {
     "name": "stderr",
     "output_type": "stream",
     "text": [
      " 89%|████████▉ | 267/300 [00:14<00:01, 17.19it/s]"
     ]
    },
    {
     "name": "stdout",
     "output_type": "stream",
     "text": [
      "1/1 [==============================] - 0s 29ms/step\n",
      "1/1 [==============================] - 0s 24ms/step\n"
     ]
    },
    {
     "name": "stderr",
     "output_type": "stream",
     "text": [
      " 90%|████████▉ | 269/300 [00:14<00:01, 16.75it/s]"
     ]
    },
    {
     "name": "stdout",
     "output_type": "stream",
     "text": [
      "1/1 [==============================] - 0s 22ms/step\n",
      "1/1 [==============================] - 0s 22ms/step\n"
     ]
    },
    {
     "name": "stderr",
     "output_type": "stream",
     "text": [
      " 90%|█████████ | 271/300 [00:14<00:01, 16.66it/s]"
     ]
    },
    {
     "name": "stdout",
     "output_type": "stream",
     "text": [
      "1/1 [==============================] - 0s 21ms/step\n",
      "1/1 [==============================] - 0s 21ms/step\n"
     ]
    },
    {
     "name": "stderr",
     "output_type": "stream",
     "text": [
      " 91%|█████████ | 273/300 [00:14<00:01, 16.80it/s]"
     ]
    },
    {
     "name": "stdout",
     "output_type": "stream",
     "text": [
      "1/1 [==============================] - 0s 20ms/step\n",
      "1/1 [==============================] - 0s 20ms/step\n"
     ]
    },
    {
     "name": "stderr",
     "output_type": "stream",
     "text": [
      " 92%|█████████▏| 275/300 [00:14<00:01, 16.90it/s]"
     ]
    },
    {
     "name": "stdout",
     "output_type": "stream",
     "text": [
      "1/1 [==============================] - 0s 26ms/step\n",
      "1/1 [==============================] - 0s 22ms/step\n"
     ]
    },
    {
     "name": "stderr",
     "output_type": "stream",
     "text": [
      " 92%|█████████▏| 277/300 [00:14<00:01, 16.84it/s]"
     ]
    },
    {
     "name": "stdout",
     "output_type": "stream",
     "text": [
      "1/1 [==============================] - 0s 22ms/step\n",
      "1/1 [==============================] - 0s 24ms/step\n"
     ]
    },
    {
     "name": "stderr",
     "output_type": "stream",
     "text": [
      " 93%|█████████▎| 279/300 [00:14<00:01, 16.64it/s]"
     ]
    },
    {
     "name": "stdout",
     "output_type": "stream",
     "text": [
      "1/1 [==============================] - 0s 23ms/step\n",
      "1/1 [==============================] - 0s 22ms/step\n"
     ]
    },
    {
     "name": "stderr",
     "output_type": "stream",
     "text": [
      " 94%|█████████▎| 281/300 [00:14<00:01, 16.66it/s]"
     ]
    },
    {
     "name": "stdout",
     "output_type": "stream",
     "text": [
      "1/1 [==============================] - 0s 21ms/step\n",
      "1/1 [==============================] - 0s 19ms/step\n"
     ]
    },
    {
     "name": "stderr",
     "output_type": "stream",
     "text": [
      " 94%|█████████▍| 283/300 [00:14<00:00, 17.01it/s]"
     ]
    },
    {
     "name": "stdout",
     "output_type": "stream",
     "text": [
      "1/1 [==============================] - 0s 22ms/step\n",
      "1/1 [==============================] - 0s 21ms/step\n"
     ]
    },
    {
     "name": "stderr",
     "output_type": "stream",
     "text": [
      " 95%|█████████▌| 285/300 [00:15<00:00, 17.36it/s]"
     ]
    },
    {
     "name": "stdout",
     "output_type": "stream",
     "text": [
      "1/1 [==============================] - 0s 23ms/step\n",
      "1/1 [==============================] - 0s 35ms/step\n"
     ]
    },
    {
     "name": "stderr",
     "output_type": "stream",
     "text": [
      " 96%|█████████▌| 287/300 [00:15<00:00, 16.36it/s]"
     ]
    },
    {
     "name": "stdout",
     "output_type": "stream",
     "text": [
      "1/1 [==============================] - 0s 25ms/step\n",
      "1/1 [==============================] - 0s 26ms/step\n"
     ]
    },
    {
     "name": "stderr",
     "output_type": "stream",
     "text": [
      " 96%|█████████▋| 289/300 [00:15<00:00, 15.92it/s]"
     ]
    },
    {
     "name": "stdout",
     "output_type": "stream",
     "text": [
      "1/1 [==============================] - 0s 23ms/step\n",
      "1/1 [==============================] - 0s 24ms/step\n"
     ]
    },
    {
     "name": "stderr",
     "output_type": "stream",
     "text": [
      " 97%|█████████▋| 291/300 [00:15<00:00, 16.03it/s]"
     ]
    },
    {
     "name": "stdout",
     "output_type": "stream",
     "text": [
      "1/1 [==============================] - 0s 23ms/step\n",
      "1/1 [==============================] - 0s 28ms/step\n"
     ]
    },
    {
     "name": "stderr",
     "output_type": "stream",
     "text": [
      " 98%|█████████▊| 293/300 [00:15<00:00, 16.27it/s]"
     ]
    },
    {
     "name": "stdout",
     "output_type": "stream",
     "text": [
      "1/1 [==============================] - 0s 26ms/step\n",
      "1/1 [==============================] - 0s 21ms/step\n"
     ]
    },
    {
     "name": "stderr",
     "output_type": "stream",
     "text": [
      " 98%|█████████▊| 295/300 [00:15<00:00, 16.48it/s]"
     ]
    },
    {
     "name": "stdout",
     "output_type": "stream",
     "text": [
      "1/1 [==============================] - 0s 26ms/step\n",
      "1/1 [==============================] - 0s 23ms/step\n"
     ]
    },
    {
     "name": "stderr",
     "output_type": "stream",
     "text": [
      " 99%|█████████▉| 297/300 [00:15<00:00, 16.51it/s]"
     ]
    },
    {
     "name": "stdout",
     "output_type": "stream",
     "text": [
      "1/1 [==============================] - 0s 31ms/step\n",
      "1/1 [==============================] - 0s 22ms/step\n"
     ]
    },
    {
     "name": "stderr",
     "output_type": "stream",
     "text": [
      "100%|█████████▉| 299/300 [00:15<00:00, 15.71it/s]"
     ]
    },
    {
     "name": "stdout",
     "output_type": "stream",
     "text": [
      "1/1 [==============================] - 0s 24ms/step\n"
     ]
    },
    {
     "name": "stderr",
     "output_type": "stream",
     "text": [
      "100%|██████████| 300/300 [00:16<00:00, 18.70it/s]\n"
     ]
    },
    {
     "name": "stdout",
     "output_type": "stream",
     "text": [
      "(2.7541323591955633, 1.1064806629764796)\n"
     ]
    },
    {
     "name": "stderr",
     "output_type": "stream",
     "text": [
      "  0%|          | 0/300 [00:00<?, ?it/s]"
     ]
    },
    {
     "name": "stdout",
     "output_type": "stream",
     "text": [
      "1/1 [==============================] - 0s 22ms/step\n",
      "1/1 [==============================] - 0s 21ms/step\n"
     ]
    },
    {
     "name": "stderr",
     "output_type": "stream",
     "text": [
      "  1%|          | 2/300 [00:00<00:16, 18.07it/s]"
     ]
    },
    {
     "name": "stdout",
     "output_type": "stream",
     "text": [
      "1/1 [==============================] - 0s 19ms/step\n",
      "1/1 [==============================] - 0s 21ms/step\n"
     ]
    },
    {
     "name": "stderr",
     "output_type": "stream",
     "text": [
      "  1%|▏         | 4/300 [00:00<00:16, 18.16it/s]"
     ]
    },
    {
     "name": "stdout",
     "output_type": "stream",
     "text": [
      "1/1 [==============================] - 0s 26ms/step\n",
      "1/1 [==============================] - 0s 25ms/step\n"
     ]
    },
    {
     "name": "stderr",
     "output_type": "stream",
     "text": [
      "  2%|▏         | 6/300 [00:00<00:16, 17.33it/s]"
     ]
    },
    {
     "name": "stdout",
     "output_type": "stream",
     "text": [
      "1/1 [==============================] - 0s 23ms/step\n",
      "1/1 [==============================] - 0s 22ms/step\n"
     ]
    },
    {
     "name": "stderr",
     "output_type": "stream",
     "text": [
      "  3%|▎         | 8/300 [00:00<00:16, 17.68it/s]"
     ]
    },
    {
     "name": "stdout",
     "output_type": "stream",
     "text": [
      "1/1 [==============================] - 0s 19ms/step\n",
      "1/1 [==============================] - 0s 21ms/step\n"
     ]
    },
    {
     "name": "stderr",
     "output_type": "stream",
     "text": [
      "  3%|▎         | 10/300 [00:00<00:16, 17.81it/s]"
     ]
    },
    {
     "name": "stdout",
     "output_type": "stream",
     "text": [
      "1/1 [==============================] - 0s 22ms/step\n",
      "1/1 [==============================] - 0s 23ms/step\n"
     ]
    },
    {
     "name": "stderr",
     "output_type": "stream",
     "text": [
      "  4%|▍         | 12/300 [00:00<00:15, 18.12it/s]"
     ]
    },
    {
     "name": "stdout",
     "output_type": "stream",
     "text": [
      "1/1 [==============================] - 0s 21ms/step\n",
      "1/1 [==============================] - 0s 20ms/step\n"
     ]
    },
    {
     "name": "stderr",
     "output_type": "stream",
     "text": [
      "  5%|▍         | 14/300 [00:00<00:15, 18.65it/s]"
     ]
    },
    {
     "name": "stdout",
     "output_type": "stream",
     "text": [
      "1/1 [==============================] - 0s 22ms/step\n",
      "1/1 [==============================] - 0s 24ms/step\n"
     ]
    },
    {
     "name": "stderr",
     "output_type": "stream",
     "text": [
      "  5%|▌         | 16/300 [00:00<00:15, 18.14it/s]"
     ]
    },
    {
     "name": "stdout",
     "output_type": "stream",
     "text": [
      "1/1 [==============================] - 0s 19ms/step\n",
      "1/1 [==============================] - 0s 19ms/step\n"
     ]
    },
    {
     "name": "stderr",
     "output_type": "stream",
     "text": [
      "  6%|▌         | 18/300 [00:00<00:15, 18.38it/s]"
     ]
    },
    {
     "name": "stdout",
     "output_type": "stream",
     "text": [
      "1/1 [==============================] - 0s 19ms/step\n",
      "1/1 [==============================] - 0s 20ms/step\n",
      "1/1 [==============================] - 0s 20ms/step\n"
     ]
    },
    {
     "name": "stderr",
     "output_type": "stream",
     "text": [
      "  7%|▋         | 21/300 [00:01<00:14, 18.96it/s]"
     ]
    },
    {
     "name": "stdout",
     "output_type": "stream",
     "text": [
      "1/1 [==============================] - 0s 22ms/step\n",
      "1/1 [==============================] - 0s 21ms/step\n"
     ]
    },
    {
     "name": "stderr",
     "output_type": "stream",
     "text": [
      "  8%|▊         | 23/300 [00:01<00:14, 18.90it/s]"
     ]
    },
    {
     "name": "stdout",
     "output_type": "stream",
     "text": [
      "1/1 [==============================] - 0s 18ms/step\n",
      "1/1 [==============================] - 0s 20ms/step\n",
      "1/1 [==============================] - 0s 25ms/step\n"
     ]
    },
    {
     "name": "stderr",
     "output_type": "stream",
     "text": [
      "  9%|▊         | 26/300 [00:01<00:14, 19.31it/s]"
     ]
    },
    {
     "name": "stdout",
     "output_type": "stream",
     "text": [
      "1/1 [==============================] - 0s 22ms/step\n",
      "1/1 [==============================] - 0s 21ms/step\n"
     ]
    },
    {
     "name": "stderr",
     "output_type": "stream",
     "text": [
      "  9%|▉         | 28/300 [00:01<00:14, 18.92it/s]"
     ]
    },
    {
     "name": "stdout",
     "output_type": "stream",
     "text": [
      "1/1 [==============================] - 0s 20ms/step\n",
      "1/1 [==============================] - 0s 20ms/step\n"
     ]
    },
    {
     "name": "stderr",
     "output_type": "stream",
     "text": [
      " 10%|█         | 30/300 [00:01<00:14, 19.07it/s]"
     ]
    },
    {
     "name": "stdout",
     "output_type": "stream",
     "text": [
      "1/1 [==============================] - 0s 21ms/step\n",
      "1/1 [==============================] - 0s 20ms/step\n"
     ]
    },
    {
     "name": "stderr",
     "output_type": "stream",
     "text": [
      " 11%|█         | 32/300 [00:01<00:14, 19.03it/s]"
     ]
    },
    {
     "name": "stdout",
     "output_type": "stream",
     "text": [
      "1/1 [==============================] - 0s 19ms/step\n",
      "1/1 [==============================] - 0s 20ms/step\n",
      "1/1 [==============================] - 0s 19ms/step\n"
     ]
    },
    {
     "name": "stderr",
     "output_type": "stream",
     "text": [
      " 12%|█▏        | 35/300 [00:01<00:13, 19.49it/s]"
     ]
    },
    {
     "name": "stdout",
     "output_type": "stream",
     "text": [
      "1/1 [==============================] - 0s 19ms/step\n",
      "1/1 [==============================] - 0s 25ms/step\n"
     ]
    },
    {
     "name": "stderr",
     "output_type": "stream",
     "text": [
      " 12%|█▏        | 37/300 [00:01<00:13, 19.24it/s]"
     ]
    },
    {
     "name": "stdout",
     "output_type": "stream",
     "text": [
      "1/1 [==============================] - 0s 20ms/step\n",
      "1/1 [==============================] - 0s 18ms/step\n"
     ]
    },
    {
     "name": "stderr",
     "output_type": "stream",
     "text": [
      " 13%|█▎        | 39/300 [00:02<00:19, 13.46it/s]"
     ]
    },
    {
     "name": "stdout",
     "output_type": "stream",
     "text": [
      "1/1 [==============================] - 0s 18ms/step\n",
      "1/1 [==============================] - 0s 23ms/step\n"
     ]
    },
    {
     "name": "stderr",
     "output_type": "stream",
     "text": [
      " 14%|█▎        | 41/300 [00:02<00:17, 14.81it/s]"
     ]
    },
    {
     "name": "stdout",
     "output_type": "stream",
     "text": [
      "1/1 [==============================] - 0s 20ms/step\n",
      "1/1 [==============================] - 0s 20ms/step\n"
     ]
    },
    {
     "name": "stderr",
     "output_type": "stream",
     "text": [
      " 14%|█▍        | 43/300 [00:02<00:16, 15.72it/s]"
     ]
    },
    {
     "name": "stdout",
     "output_type": "stream",
     "text": [
      "1/1 [==============================] - 0s 20ms/step\n",
      "1/1 [==============================] - 0s 22ms/step\n"
     ]
    },
    {
     "name": "stderr",
     "output_type": "stream",
     "text": [
      " 15%|█▌        | 45/300 [00:02<00:15, 16.49it/s]"
     ]
    },
    {
     "name": "stdout",
     "output_type": "stream",
     "text": [
      "1/1 [==============================] - 0s 99ms/step\n",
      "1/1 [==============================] - 0s 22ms/step\n"
     ]
    },
    {
     "name": "stderr",
     "output_type": "stream",
     "text": [
      " 16%|█▌        | 47/300 [00:02<00:17, 14.30it/s]"
     ]
    },
    {
     "name": "stdout",
     "output_type": "stream",
     "text": [
      "1/1 [==============================] - 0s 33ms/step\n",
      "1/1 [==============================] - 0s 19ms/step\n"
     ]
    },
    {
     "name": "stderr",
     "output_type": "stream",
     "text": [
      " 16%|█▋        | 49/300 [00:02<00:16, 14.84it/s]"
     ]
    },
    {
     "name": "stdout",
     "output_type": "stream",
     "text": [
      "1/1 [==============================] - 0s 21ms/step\n",
      "1/1 [==============================] - 0s 24ms/step\n"
     ]
    },
    {
     "name": "stderr",
     "output_type": "stream",
     "text": [
      " 17%|█▋        | 51/300 [00:02<00:15, 15.86it/s]"
     ]
    },
    {
     "name": "stdout",
     "output_type": "stream",
     "text": [
      "1/1 [==============================] - 0s 19ms/step\n",
      "1/1 [==============================] - 0s 22ms/step\n"
     ]
    },
    {
     "name": "stderr",
     "output_type": "stream",
     "text": [
      " 18%|█▊        | 53/300 [00:03<00:14, 16.58it/s]"
     ]
    },
    {
     "name": "stdout",
     "output_type": "stream",
     "text": [
      "1/1 [==============================] - 0s 21ms/step\n",
      "1/1 [==============================] - 0s 21ms/step\n"
     ]
    },
    {
     "name": "stderr",
     "output_type": "stream",
     "text": [
      " 18%|█▊        | 55/300 [00:03<00:14, 17.17it/s]"
     ]
    },
    {
     "name": "stdout",
     "output_type": "stream",
     "text": [
      "1/1 [==============================] - 0s 20ms/step\n",
      "1/1 [==============================] - 0s 21ms/step\n"
     ]
    },
    {
     "name": "stderr",
     "output_type": "stream",
     "text": [
      " 19%|█▉        | 57/300 [00:03<00:13, 17.75it/s]"
     ]
    },
    {
     "name": "stdout",
     "output_type": "stream",
     "text": [
      "1/1 [==============================] - 0s 21ms/step\n",
      "1/1 [==============================] - 0s 20ms/step\n"
     ]
    },
    {
     "name": "stderr",
     "output_type": "stream",
     "text": [
      " 20%|█▉        | 59/300 [00:03<00:13, 18.13it/s]"
     ]
    },
    {
     "name": "stdout",
     "output_type": "stream",
     "text": [
      "1/1 [==============================] - 0s 20ms/step\n",
      "1/1 [==============================] - 0s 22ms/step\n"
     ]
    },
    {
     "name": "stderr",
     "output_type": "stream",
     "text": [
      " 20%|██        | 61/300 [00:03<00:12, 18.46it/s]"
     ]
    },
    {
     "name": "stdout",
     "output_type": "stream",
     "text": [
      "1/1 [==============================] - 0s 19ms/step\n",
      "1/1 [==============================] - 0s 22ms/step\n"
     ]
    },
    {
     "name": "stderr",
     "output_type": "stream",
     "text": [
      " 21%|██        | 63/300 [00:03<00:12, 18.86it/s]"
     ]
    },
    {
     "name": "stdout",
     "output_type": "stream",
     "text": [
      "1/1 [==============================] - 0s 22ms/step\n",
      "1/1 [==============================] - 0s 23ms/step\n"
     ]
    },
    {
     "name": "stderr",
     "output_type": "stream",
     "text": [
      " 22%|██▏       | 65/300 [00:03<00:12, 18.77it/s]"
     ]
    },
    {
     "name": "stdout",
     "output_type": "stream",
     "text": [
      "1/1 [==============================] - 0s 18ms/step\n",
      "1/1 [==============================] - 0s 20ms/step\n"
     ]
    },
    {
     "name": "stderr",
     "output_type": "stream",
     "text": [
      " 22%|██▏       | 67/300 [00:03<00:12, 18.77it/s]"
     ]
    },
    {
     "name": "stdout",
     "output_type": "stream",
     "text": [
      "1/1 [==============================] - 0s 20ms/step\n",
      "1/1 [==============================] - 0s 23ms/step\n"
     ]
    },
    {
     "name": "stderr",
     "output_type": "stream",
     "text": [
      " 23%|██▎       | 69/300 [00:03<00:12, 18.82it/s]"
     ]
    },
    {
     "name": "stdout",
     "output_type": "stream",
     "text": [
      "1/1 [==============================] - 0s 22ms/step\n",
      "1/1 [==============================] - 0s 19ms/step\n"
     ]
    },
    {
     "name": "stderr",
     "output_type": "stream",
     "text": [
      " 24%|██▎       | 71/300 [00:04<00:12, 18.90it/s]"
     ]
    },
    {
     "name": "stdout",
     "output_type": "stream",
     "text": [
      "1/1 [==============================] - 0s 19ms/step\n",
      "1/1 [==============================] - 0s 20ms/step\n",
      "1/1 [==============================] - 0s 20ms/step\n"
     ]
    },
    {
     "name": "stderr",
     "output_type": "stream",
     "text": [
      " 25%|██▍       | 74/300 [00:04<00:11, 19.38it/s]"
     ]
    },
    {
     "name": "stdout",
     "output_type": "stream",
     "text": [
      "1/1 [==============================] - 0s 24ms/step\n",
      "1/1 [==============================] - 0s 22ms/step\n"
     ]
    },
    {
     "name": "stderr",
     "output_type": "stream",
     "text": [
      " 25%|██▌       | 76/300 [00:04<00:12, 18.46it/s]"
     ]
    },
    {
     "name": "stdout",
     "output_type": "stream",
     "text": [
      "1/1 [==============================] - 0s 19ms/step\n",
      "1/1 [==============================] - 0s 19ms/step\n"
     ]
    },
    {
     "name": "stderr",
     "output_type": "stream",
     "text": [
      " 26%|██▌       | 78/300 [00:04<00:11, 18.74it/s]"
     ]
    },
    {
     "name": "stdout",
     "output_type": "stream",
     "text": [
      "1/1 [==============================] - 0s 21ms/step\n",
      "1/1 [==============================] - 0s 21ms/step\n",
      "1/1 [==============================] - 0s 20ms/step\n"
     ]
    },
    {
     "name": "stderr",
     "output_type": "stream",
     "text": [
      " 27%|██▋       | 81/300 [00:04<00:11, 19.26it/s]"
     ]
    },
    {
     "name": "stdout",
     "output_type": "stream",
     "text": [
      "1/1 [==============================] - 0s 21ms/step\n",
      "1/1 [==============================] - 0s 19ms/step\n",
      "1/1 [==============================] - 0s 20ms/step\n"
     ]
    },
    {
     "name": "stderr",
     "output_type": "stream",
     "text": [
      " 28%|██▊       | 84/300 [00:04<00:11, 19.60it/s]"
     ]
    },
    {
     "name": "stdout",
     "output_type": "stream",
     "text": [
      "1/1 [==============================] - 0s 22ms/step\n",
      "1/1 [==============================] - 0s 20ms/step\n"
     ]
    },
    {
     "name": "stderr",
     "output_type": "stream",
     "text": [
      " 29%|██▊       | 86/300 [00:04<00:11, 19.19it/s]"
     ]
    },
    {
     "name": "stdout",
     "output_type": "stream",
     "text": [
      "1/1 [==============================] - 0s 23ms/step\n",
      "1/1 [==============================] - 0s 21ms/step\n"
     ]
    },
    {
     "name": "stderr",
     "output_type": "stream",
     "text": [
      " 29%|██▉       | 88/300 [00:04<00:11, 19.22it/s]"
     ]
    },
    {
     "name": "stdout",
     "output_type": "stream",
     "text": [
      "1/1 [==============================] - 0s 21ms/step\n",
      "1/1 [==============================] - 0s 19ms/step\n"
     ]
    },
    {
     "name": "stderr",
     "output_type": "stream",
     "text": [
      " 30%|███       | 90/300 [00:05<00:11, 18.99it/s]"
     ]
    },
    {
     "name": "stdout",
     "output_type": "stream",
     "text": [
      "1/1 [==============================] - 0s 18ms/step\n",
      "1/1 [==============================] - 0s 18ms/step\n"
     ]
    },
    {
     "name": "stderr",
     "output_type": "stream",
     "text": [
      " 31%|███       | 92/300 [00:05<00:10, 18.97it/s]"
     ]
    },
    {
     "name": "stdout",
     "output_type": "stream",
     "text": [
      "1/1 [==============================] - 0s 21ms/step\n",
      "1/1 [==============================] - 0s 19ms/step\n",
      "1/1 [==============================] - 0s 19ms/step\n"
     ]
    },
    {
     "name": "stderr",
     "output_type": "stream",
     "text": [
      " 32%|███▏      | 95/300 [00:05<00:10, 19.41it/s]"
     ]
    },
    {
     "name": "stdout",
     "output_type": "stream",
     "text": [
      "1/1 [==============================] - 0s 22ms/step\n",
      "1/1 [==============================] - 0s 19ms/step\n"
     ]
    },
    {
     "name": "stderr",
     "output_type": "stream",
     "text": [
      " 32%|███▏      | 97/300 [00:05<00:10, 19.03it/s]"
     ]
    },
    {
     "name": "stdout",
     "output_type": "stream",
     "text": [
      "1/1 [==============================] - 0s 22ms/step\n",
      "1/1 [==============================] - 0s 22ms/step\n",
      "1/1 [==============================] - 0s 22ms/step\n"
     ]
    },
    {
     "name": "stderr",
     "output_type": "stream",
     "text": [
      " 33%|███▎      | 100/300 [00:05<00:10, 19.21it/s]"
     ]
    },
    {
     "name": "stdout",
     "output_type": "stream",
     "text": [
      "1/1 [==============================] - 0s 20ms/step\n",
      "1/1 [==============================] - 0s 20ms/step\n"
     ]
    },
    {
     "name": "stderr",
     "output_type": "stream",
     "text": [
      " 34%|███▍      | 102/300 [00:05<00:10, 19.28it/s]"
     ]
    },
    {
     "name": "stdout",
     "output_type": "stream",
     "text": [
      "1/1 [==============================] - 0s 19ms/step\n",
      "1/1 [==============================] - 0s 20ms/step\n",
      "1/1 [==============================] - 0s 19ms/step\n"
     ]
    },
    {
     "name": "stderr",
     "output_type": "stream",
     "text": [
      " 35%|███▌      | 105/300 [00:05<00:09, 19.63it/s]"
     ]
    },
    {
     "name": "stdout",
     "output_type": "stream",
     "text": [
      "1/1 [==============================] - 0s 19ms/step\n",
      "1/1 [==============================] - 0s 20ms/step\n"
     ]
    },
    {
     "name": "stderr",
     "output_type": "stream",
     "text": [
      " 36%|███▌      | 107/300 [00:05<00:10, 18.94it/s]"
     ]
    },
    {
     "name": "stdout",
     "output_type": "stream",
     "text": [
      "1/1 [==============================] - 0s 20ms/step\n",
      "1/1 [==============================] - 0s 22ms/step\n"
     ]
    },
    {
     "name": "stderr",
     "output_type": "stream",
     "text": [
      " 36%|███▋      | 109/300 [00:06<00:10, 19.08it/s]"
     ]
    },
    {
     "name": "stdout",
     "output_type": "stream",
     "text": [
      "1/1 [==============================] - 0s 20ms/step\n",
      "1/1 [==============================] - 0s 19ms/step\n"
     ]
    },
    {
     "name": "stderr",
     "output_type": "stream",
     "text": [
      " 37%|███▋      | 111/300 [00:06<00:10, 18.32it/s]"
     ]
    },
    {
     "name": "stdout",
     "output_type": "stream",
     "text": [
      "1/1 [==============================] - 0s 19ms/step\n",
      "1/1 [==============================] - 0s 20ms/step\n",
      "1/1 [==============================] - 0s 19ms/step\n"
     ]
    },
    {
     "name": "stderr",
     "output_type": "stream",
     "text": [
      " 38%|███▊      | 114/300 [00:06<00:09, 18.94it/s]"
     ]
    },
    {
     "name": "stdout",
     "output_type": "stream",
     "text": [
      "1/1 [==============================] - 0s 21ms/step\n",
      "1/1 [==============================] - 0s 23ms/step\n"
     ]
    },
    {
     "name": "stderr",
     "output_type": "stream",
     "text": [
      " 39%|███▊      | 116/300 [00:06<00:09, 18.66it/s]"
     ]
    },
    {
     "name": "stdout",
     "output_type": "stream",
     "text": [
      "1/1 [==============================] - 0s 27ms/step\n",
      "1/1 [==============================] - 0s 19ms/step\n"
     ]
    },
    {
     "name": "stderr",
     "output_type": "stream",
     "text": [
      " 39%|███▉      | 118/300 [00:06<00:09, 18.59it/s]"
     ]
    },
    {
     "name": "stdout",
     "output_type": "stream",
     "text": [
      "1/1 [==============================] - 0s 18ms/step\n",
      "1/1 [==============================] - 0s 21ms/step\n",
      "1/1 [==============================] - 0s 19ms/step\n"
     ]
    },
    {
     "name": "stderr",
     "output_type": "stream",
     "text": [
      " 40%|████      | 121/300 [00:06<00:09, 19.36it/s]"
     ]
    },
    {
     "name": "stdout",
     "output_type": "stream",
     "text": [
      "1/1 [==============================] - 0s 19ms/step\n",
      "1/1 [==============================] - 0s 21ms/step\n"
     ]
    },
    {
     "name": "stderr",
     "output_type": "stream",
     "text": [
      " 41%|████      | 123/300 [00:06<00:09, 19.34it/s]"
     ]
    },
    {
     "name": "stdout",
     "output_type": "stream",
     "text": [
      "1/1 [==============================] - 0s 20ms/step\n",
      "1/1 [==============================] - 0s 21ms/step\n"
     ]
    },
    {
     "name": "stderr",
     "output_type": "stream",
     "text": [
      " 42%|████▏     | 125/300 [00:06<00:09, 18.88it/s]"
     ]
    },
    {
     "name": "stdout",
     "output_type": "stream",
     "text": [
      "1/1 [==============================] - 0s 20ms/step\n",
      "1/1 [==============================] - 0s 20ms/step\n",
      "1/1 [==============================] - 0s 20ms/step\n"
     ]
    },
    {
     "name": "stderr",
     "output_type": "stream",
     "text": [
      " 43%|████▎     | 128/300 [00:07<00:08, 19.20it/s]"
     ]
    },
    {
     "name": "stdout",
     "output_type": "stream",
     "text": [
      "1/1 [==============================] - 0s 19ms/step\n",
      "1/1 [==============================] - 0s 19ms/step\n",
      "1/1 [==============================] - 0s 19ms/step\n"
     ]
    },
    {
     "name": "stderr",
     "output_type": "stream",
     "text": [
      " 44%|████▎     | 131/300 [00:07<00:08, 19.52it/s]"
     ]
    },
    {
     "name": "stdout",
     "output_type": "stream",
     "text": [
      "1/1 [==============================] - 0s 19ms/step\n",
      "1/1 [==============================] - 0s 19ms/step\n"
     ]
    },
    {
     "name": "stderr",
     "output_type": "stream",
     "text": [
      " 44%|████▍     | 133/300 [00:07<00:08, 19.50it/s]"
     ]
    },
    {
     "name": "stdout",
     "output_type": "stream",
     "text": [
      "1/1 [==============================] - 0s 19ms/step\n",
      "1/1 [==============================] - 0s 22ms/step\n"
     ]
    },
    {
     "name": "stderr",
     "output_type": "stream",
     "text": [
      " 45%|████▌     | 135/300 [00:07<00:08, 19.34it/s]"
     ]
    },
    {
     "name": "stdout",
     "output_type": "stream",
     "text": [
      "1/1 [==============================] - 0s 22ms/step\n",
      "1/1 [==============================] - 0s 18ms/step\n"
     ]
    },
    {
     "name": "stderr",
     "output_type": "stream",
     "text": [
      " 46%|████▌     | 137/300 [00:07<00:08, 19.23it/s]"
     ]
    },
    {
     "name": "stdout",
     "output_type": "stream",
     "text": [
      "1/1 [==============================] - 0s 21ms/step\n",
      "1/1 [==============================] - 0s 22ms/step\n"
     ]
    },
    {
     "name": "stderr",
     "output_type": "stream",
     "text": [
      " 46%|████▋     | 139/300 [00:07<00:08, 19.09it/s]"
     ]
    },
    {
     "name": "stdout",
     "output_type": "stream",
     "text": [
      "1/1 [==============================] - 0s 20ms/step\n",
      "1/1 [==============================] - 0s 19ms/step\n",
      "1/1 [==============================] - 0s 20ms/step\n"
     ]
    },
    {
     "name": "stderr",
     "output_type": "stream",
     "text": [
      " 47%|████▋     | 142/300 [00:07<00:08, 19.43it/s]"
     ]
    },
    {
     "name": "stdout",
     "output_type": "stream",
     "text": [
      "1/1 [==============================] - 0s 20ms/step\n",
      "1/1 [==============================] - 0s 22ms/step\n"
     ]
    },
    {
     "name": "stderr",
     "output_type": "stream",
     "text": [
      " 48%|████▊     | 144/300 [00:07<00:08, 19.15it/s]"
     ]
    },
    {
     "name": "stdout",
     "output_type": "stream",
     "text": [
      "1/1 [==============================] - 0s 21ms/step\n",
      "1/1 [==============================] - 0s 19ms/step\n"
     ]
    },
    {
     "name": "stderr",
     "output_type": "stream",
     "text": [
      " 49%|████▊     | 146/300 [00:07<00:08, 19.18it/s]"
     ]
    },
    {
     "name": "stdout",
     "output_type": "stream",
     "text": [
      "1/1 [==============================] - 0s 19ms/step\n",
      "1/1 [==============================] - 0s 19ms/step\n",
      "1/1 [==============================] - 0s 20ms/step\n"
     ]
    },
    {
     "name": "stderr",
     "output_type": "stream",
     "text": [
      " 50%|████▉     | 149/300 [00:08<00:07, 19.63it/s]"
     ]
    },
    {
     "name": "stdout",
     "output_type": "stream",
     "text": [
      "1/1 [==============================] - 0s 21ms/step\n",
      "1/1 [==============================] - 0s 19ms/step\n"
     ]
    },
    {
     "name": "stderr",
     "output_type": "stream",
     "text": [
      " 50%|█████     | 151/300 [00:08<00:07, 19.49it/s]"
     ]
    },
    {
     "name": "stdout",
     "output_type": "stream",
     "text": [
      "1/1 [==============================] - 0s 19ms/step\n",
      "1/1 [==============================] - 0s 21ms/step\n",
      "1/1 [==============================] - 0s 19ms/step\n"
     ]
    },
    {
     "name": "stderr",
     "output_type": "stream",
     "text": [
      " 51%|█████▏    | 154/300 [00:08<00:07, 19.55it/s]"
     ]
    },
    {
     "name": "stdout",
     "output_type": "stream",
     "text": [
      "1/1 [==============================] - 0s 21ms/step\n",
      "1/1 [==============================] - 0s 73ms/step\n"
     ]
    },
    {
     "name": "stderr",
     "output_type": "stream",
     "text": [
      " 52%|█████▏    | 156/300 [00:08<00:08, 17.42it/s]"
     ]
    },
    {
     "name": "stdout",
     "output_type": "stream",
     "text": [
      "1/1 [==============================] - 0s 24ms/step\n",
      "1/1 [==============================] - 0s 24ms/step\n"
     ]
    },
    {
     "name": "stderr",
     "output_type": "stream",
     "text": [
      " 53%|█████▎    | 158/300 [00:08<00:08, 17.07it/s]"
     ]
    },
    {
     "name": "stdout",
     "output_type": "stream",
     "text": [
      "1/1 [==============================] - 0s 20ms/step\n",
      "1/1 [==============================] - 0s 19ms/step\n"
     ]
    },
    {
     "name": "stderr",
     "output_type": "stream",
     "text": [
      " 53%|█████▎    | 160/300 [00:08<00:08, 17.46it/s]"
     ]
    },
    {
     "name": "stdout",
     "output_type": "stream",
     "text": [
      "1/1 [==============================] - 0s 20ms/step\n",
      "1/1 [==============================] - 0s 20ms/step\n",
      "1/1 [==============================] - 0s 19ms/step\n"
     ]
    },
    {
     "name": "stderr",
     "output_type": "stream",
     "text": [
      " 54%|█████▍    | 163/300 [00:08<00:07, 18.51it/s]"
     ]
    },
    {
     "name": "stdout",
     "output_type": "stream",
     "text": [
      "1/1 [==============================] - 0s 19ms/step\n",
      "1/1 [==============================] - 0s 19ms/step\n"
     ]
    },
    {
     "name": "stderr",
     "output_type": "stream",
     "text": [
      " 55%|█████▌    | 165/300 [00:08<00:07, 18.66it/s]"
     ]
    },
    {
     "name": "stdout",
     "output_type": "stream",
     "text": [
      "1/1 [==============================] - 0s 22ms/step\n",
      "1/1 [==============================] - 0s 20ms/step\n"
     ]
    },
    {
     "name": "stderr",
     "output_type": "stream",
     "text": [
      " 56%|█████▌    | 167/300 [00:09<00:07, 18.70it/s]"
     ]
    },
    {
     "name": "stdout",
     "output_type": "stream",
     "text": [
      "1/1 [==============================] - 0s 19ms/step\n",
      "1/1 [==============================] - 0s 18ms/step\n"
     ]
    },
    {
     "name": "stderr",
     "output_type": "stream",
     "text": [
      " 56%|█████▋    | 169/300 [00:09<00:07, 18.62it/s]"
     ]
    },
    {
     "name": "stdout",
     "output_type": "stream",
     "text": [
      "1/1 [==============================] - 0s 35ms/step\n",
      "1/1 [==============================] - 0s 20ms/step\n"
     ]
    },
    {
     "name": "stderr",
     "output_type": "stream",
     "text": [
      " 57%|█████▋    | 171/300 [00:09<00:07, 18.10it/s]"
     ]
    },
    {
     "name": "stdout",
     "output_type": "stream",
     "text": [
      "1/1 [==============================] - 0s 21ms/step\n",
      "1/1 [==============================] - 0s 18ms/step\n"
     ]
    },
    {
     "name": "stderr",
     "output_type": "stream",
     "text": [
      " 58%|█████▊    | 173/300 [00:09<00:06, 18.43it/s]"
     ]
    },
    {
     "name": "stdout",
     "output_type": "stream",
     "text": [
      "1/1 [==============================] - 0s 20ms/step\n",
      "1/1 [==============================] - 0s 18ms/step\n",
      "1/1 [==============================] - 0s 20ms/step\n"
     ]
    },
    {
     "name": "stderr",
     "output_type": "stream",
     "text": [
      " 59%|█████▊    | 176/300 [00:09<00:06, 19.14it/s]"
     ]
    },
    {
     "name": "stdout",
     "output_type": "stream",
     "text": [
      "1/1 [==============================] - 0s 20ms/step\n",
      "1/1 [==============================] - 0s 19ms/step\n",
      "1/1 [==============================] - 0s 19ms/step\n"
     ]
    },
    {
     "name": "stderr",
     "output_type": "stream",
     "text": [
      " 60%|█████▉    | 179/300 [00:09<00:06, 19.46it/s]"
     ]
    },
    {
     "name": "stdout",
     "output_type": "stream",
     "text": [
      "1/1 [==============================] - 0s 20ms/step\n",
      "1/1 [==============================] - 0s 21ms/step\n"
     ]
    },
    {
     "name": "stderr",
     "output_type": "stream",
     "text": [
      " 60%|██████    | 181/300 [00:09<00:06, 19.30it/s]"
     ]
    },
    {
     "name": "stdout",
     "output_type": "stream",
     "text": [
      "1/1 [==============================] - 0s 19ms/step\n",
      "1/1 [==============================] - 0s 20ms/step\n"
     ]
    },
    {
     "name": "stderr",
     "output_type": "stream",
     "text": [
      " 61%|██████    | 183/300 [00:09<00:06, 19.34it/s]"
     ]
    },
    {
     "name": "stdout",
     "output_type": "stream",
     "text": [
      "1/1 [==============================] - 0s 21ms/step\n",
      "1/1 [==============================] - 0s 36ms/step\n"
     ]
    },
    {
     "name": "stderr",
     "output_type": "stream",
     "text": [
      " 62%|██████▏   | 185/300 [00:10<00:06, 18.75it/s]"
     ]
    },
    {
     "name": "stdout",
     "output_type": "stream",
     "text": [
      "1/1 [==============================] - 0s 25ms/step\n",
      "1/1 [==============================] - 0s 19ms/step\n"
     ]
    },
    {
     "name": "stderr",
     "output_type": "stream",
     "text": [
      " 62%|██████▏   | 187/300 [00:10<00:06, 18.70it/s]"
     ]
    },
    {
     "name": "stdout",
     "output_type": "stream",
     "text": [
      "1/1 [==============================] - 0s 19ms/step\n",
      "1/1 [==============================] - 0s 19ms/step\n",
      "1/1 [==============================] - 0s 19ms/step\n"
     ]
    },
    {
     "name": "stderr",
     "output_type": "stream",
     "text": [
      " 63%|██████▎   | 190/300 [00:10<00:05, 19.25it/s]"
     ]
    },
    {
     "name": "stdout",
     "output_type": "stream",
     "text": [
      "1/1 [==============================] - 0s 19ms/step\n",
      "1/1 [==============================] - 0s 26ms/step\n"
     ]
    },
    {
     "name": "stderr",
     "output_type": "stream",
     "text": [
      " 64%|██████▍   | 192/300 [00:10<00:05, 19.09it/s]"
     ]
    },
    {
     "name": "stdout",
     "output_type": "stream",
     "text": [
      "1/1 [==============================] - 0s 21ms/step\n",
      "1/1 [==============================] - 0s 21ms/step\n"
     ]
    },
    {
     "name": "stderr",
     "output_type": "stream",
     "text": [
      " 65%|██████▍   | 194/300 [00:10<00:05, 19.04it/s]"
     ]
    },
    {
     "name": "stdout",
     "output_type": "stream",
     "text": [
      "1/1 [==============================] - 0s 20ms/step\n",
      "1/1 [==============================] - 0s 18ms/step\n",
      "1/1 [==============================] - 0s 20ms/step\n"
     ]
    },
    {
     "name": "stderr",
     "output_type": "stream",
     "text": [
      " 66%|██████▌   | 197/300 [00:10<00:05, 19.39it/s]"
     ]
    },
    {
     "name": "stdout",
     "output_type": "stream",
     "text": [
      "1/1 [==============================] - 0s 20ms/step\n",
      "1/1 [==============================] - 0s 21ms/step\n"
     ]
    },
    {
     "name": "stderr",
     "output_type": "stream",
     "text": [
      " 66%|██████▋   | 199/300 [00:10<00:05, 19.51it/s]"
     ]
    },
    {
     "name": "stdout",
     "output_type": "stream",
     "text": [
      "1/1 [==============================] - 0s 20ms/step\n",
      "1/1 [==============================] - 0s 19ms/step\n",
      "1/1 [==============================] - 0s 23ms/step\n"
     ]
    },
    {
     "name": "stderr",
     "output_type": "stream",
     "text": [
      " 67%|██████▋   | 202/300 [00:10<00:05, 19.33it/s]"
     ]
    },
    {
     "name": "stdout",
     "output_type": "stream",
     "text": [
      "1/1 [==============================] - 0s 21ms/step\n",
      "1/1 [==============================] - 0s 19ms/step\n"
     ]
    },
    {
     "name": "stderr",
     "output_type": "stream",
     "text": [
      " 68%|██████▊   | 204/300 [00:11<00:04, 19.36it/s]"
     ]
    },
    {
     "name": "stdout",
     "output_type": "stream",
     "text": [
      "1/1 [==============================] - 0s 20ms/step\n",
      "1/1 [==============================] - 0s 21ms/step\n"
     ]
    },
    {
     "name": "stderr",
     "output_type": "stream",
     "text": [
      " 69%|██████▊   | 206/300 [00:11<00:04, 19.40it/s]"
     ]
    },
    {
     "name": "stdout",
     "output_type": "stream",
     "text": [
      "1/1 [==============================] - 0s 19ms/step\n",
      "1/1 [==============================] - 0s 22ms/step\n"
     ]
    },
    {
     "name": "stderr",
     "output_type": "stream",
     "text": [
      " 69%|██████▉   | 208/300 [00:11<00:04, 18.93it/s]"
     ]
    },
    {
     "name": "stdout",
     "output_type": "stream",
     "text": [
      "1/1 [==============================] - 0s 21ms/step\n",
      "1/1 [==============================] - 0s 18ms/step\n",
      "1/1 [==============================] - 0s 19ms/step\n"
     ]
    },
    {
     "name": "stderr",
     "output_type": "stream",
     "text": [
      " 70%|███████   | 211/300 [00:11<00:04, 19.47it/s]"
     ]
    },
    {
     "name": "stdout",
     "output_type": "stream",
     "text": [
      "1/1 [==============================] - 0s 20ms/step\n",
      "1/1 [==============================] - 0s 24ms/step\n"
     ]
    },
    {
     "name": "stderr",
     "output_type": "stream",
     "text": [
      " 71%|███████   | 213/300 [00:11<00:04, 19.26it/s]"
     ]
    },
    {
     "name": "stdout",
     "output_type": "stream",
     "text": [
      "1/1 [==============================] - 0s 20ms/step\n",
      "1/1 [==============================] - 0s 21ms/step\n"
     ]
    },
    {
     "name": "stderr",
     "output_type": "stream",
     "text": [
      " 72%|███████▏  | 215/300 [00:11<00:04, 19.16it/s]"
     ]
    },
    {
     "name": "stdout",
     "output_type": "stream",
     "text": [
      "1/1 [==============================] - 0s 20ms/step\n",
      "1/1 [==============================] - 0s 19ms/step\n",
      "1/1 [==============================] - 0s 19ms/step\n"
     ]
    },
    {
     "name": "stderr",
     "output_type": "stream",
     "text": [
      " 73%|███████▎  | 218/300 [00:11<00:04, 19.51it/s]"
     ]
    },
    {
     "name": "stdout",
     "output_type": "stream",
     "text": [
      "1/1 [==============================] - 0s 20ms/step\n",
      "1/1 [==============================] - 0s 20ms/step\n",
      "1/1 [==============================] - 0s 20ms/step\n"
     ]
    },
    {
     "name": "stderr",
     "output_type": "stream",
     "text": [
      " 74%|███████▎  | 221/300 [00:11<00:04, 19.72it/s]"
     ]
    },
    {
     "name": "stdout",
     "output_type": "stream",
     "text": [
      "1/1 [==============================] - 0s 20ms/step\n",
      "1/1 [==============================] - 0s 20ms/step\n"
     ]
    },
    {
     "name": "stderr",
     "output_type": "stream",
     "text": [
      " 74%|███████▍  | 223/300 [00:11<00:03, 19.62it/s]"
     ]
    },
    {
     "name": "stdout",
     "output_type": "stream",
     "text": [
      "1/1 [==============================] - 0s 23ms/step\n",
      "1/1 [==============================] - 0s 20ms/step\n"
     ]
    },
    {
     "name": "stderr",
     "output_type": "stream",
     "text": [
      " 75%|███████▌  | 225/300 [00:12<00:03, 19.27it/s]"
     ]
    },
    {
     "name": "stdout",
     "output_type": "stream",
     "text": [
      "1/1 [==============================] - 0s 19ms/step\n",
      "1/1 [==============================] - 0s 20ms/step\n",
      "1/1 [==============================] - 0s 21ms/step\n"
     ]
    },
    {
     "name": "stderr",
     "output_type": "stream",
     "text": [
      " 76%|███████▌  | 228/300 [00:12<00:03, 19.59it/s]"
     ]
    },
    {
     "name": "stdout",
     "output_type": "stream",
     "text": [
      "1/1 [==============================] - 0s 21ms/step\n",
      "1/1 [==============================] - 0s 20ms/step\n",
      "1/1 [==============================] - 0s 19ms/step\n"
     ]
    },
    {
     "name": "stderr",
     "output_type": "stream",
     "text": [
      " 77%|███████▋  | 231/300 [00:12<00:03, 19.52it/s]"
     ]
    },
    {
     "name": "stdout",
     "output_type": "stream",
     "text": [
      "1/1 [==============================] - 0s 19ms/step\n",
      "1/1 [==============================] - 0s 20ms/step\n",
      "1/1 [==============================] - 0s 18ms/step\n"
     ]
    },
    {
     "name": "stderr",
     "output_type": "stream",
     "text": [
      " 78%|███████▊  | 234/300 [00:12<00:03, 19.71it/s]"
     ]
    },
    {
     "name": "stdout",
     "output_type": "stream",
     "text": [
      "1/1 [==============================] - 0s 20ms/step\n",
      "1/1 [==============================] - 0s 23ms/step\n"
     ]
    },
    {
     "name": "stderr",
     "output_type": "stream",
     "text": [
      " 79%|███████▊  | 236/300 [00:12<00:03, 19.37it/s]"
     ]
    },
    {
     "name": "stdout",
     "output_type": "stream",
     "text": [
      "1/1 [==============================] - 0s 19ms/step\n",
      "1/1 [==============================] - 0s 20ms/step\n",
      "1/1 [==============================] - 0s 20ms/step\n"
     ]
    },
    {
     "name": "stderr",
     "output_type": "stream",
     "text": [
      " 80%|███████▉  | 239/300 [00:12<00:03, 19.81it/s]"
     ]
    },
    {
     "name": "stdout",
     "output_type": "stream",
     "text": [
      "1/1 [==============================] - 0s 20ms/step\n",
      "1/1 [==============================] - 0s 19ms/step\n"
     ]
    },
    {
     "name": "stderr",
     "output_type": "stream",
     "text": [
      " 80%|████████  | 241/300 [00:12<00:03, 19.62it/s]"
     ]
    },
    {
     "name": "stdout",
     "output_type": "stream",
     "text": [
      "1/1 [==============================] - 0s 21ms/step\n",
      "1/1 [==============================] - 0s 19ms/step\n",
      "1/1 [==============================] - 0s 20ms/step\n"
     ]
    },
    {
     "name": "stderr",
     "output_type": "stream",
     "text": [
      " 81%|████████▏ | 244/300 [00:13<00:02, 19.78it/s]"
     ]
    },
    {
     "name": "stdout",
     "output_type": "stream",
     "text": [
      "1/1 [==============================] - 0s 19ms/step\n",
      "1/1 [==============================] - 0s 20ms/step\n",
      "1/1 [==============================] - 0s 20ms/step\n"
     ]
    },
    {
     "name": "stderr",
     "output_type": "stream",
     "text": [
      " 82%|████████▏ | 247/300 [00:13<00:02, 19.49it/s]"
     ]
    },
    {
     "name": "stdout",
     "output_type": "stream",
     "text": [
      "1/1 [==============================] - 0s 18ms/step\n",
      "1/1 [==============================] - 0s 20ms/step\n",
      "1/1 [==============================] - 0s 19ms/step\n"
     ]
    },
    {
     "name": "stderr",
     "output_type": "stream",
     "text": [
      " 83%|████████▎ | 250/300 [00:13<00:02, 19.78it/s]"
     ]
    },
    {
     "name": "stdout",
     "output_type": "stream",
     "text": [
      "1/1 [==============================] - 0s 27ms/step\n",
      "1/1 [==============================] - 0s 19ms/step\n"
     ]
    },
    {
     "name": "stderr",
     "output_type": "stream",
     "text": [
      " 84%|████████▍ | 252/300 [00:13<00:02, 19.08it/s]"
     ]
    },
    {
     "name": "stdout",
     "output_type": "stream",
     "text": [
      "1/1 [==============================] - 0s 19ms/step\n",
      "1/1 [==============================] - 0s 19ms/step\n",
      "1/1 [==============================] - 0s 20ms/step\n"
     ]
    },
    {
     "name": "stderr",
     "output_type": "stream",
     "text": [
      " 85%|████████▌ | 255/300 [00:13<00:02, 19.39it/s]"
     ]
    },
    {
     "name": "stdout",
     "output_type": "stream",
     "text": [
      "1/1 [==============================] - 0s 21ms/step\n",
      "1/1 [==============================] - 0s 35ms/step\n"
     ]
    },
    {
     "name": "stderr",
     "output_type": "stream",
     "text": [
      " 86%|████████▌ | 257/300 [00:13<00:02, 18.63it/s]"
     ]
    },
    {
     "name": "stdout",
     "output_type": "stream",
     "text": [
      "1/1 [==============================] - 0s 19ms/step\n",
      "1/1 [==============================] - 0s 19ms/step\n"
     ]
    },
    {
     "name": "stderr",
     "output_type": "stream",
     "text": [
      " 86%|████████▋ | 259/300 [00:13<00:02, 18.89it/s]"
     ]
    },
    {
     "name": "stdout",
     "output_type": "stream",
     "text": [
      "1/1 [==============================] - 0s 22ms/step\n",
      "1/1 [==============================] - 0s 42ms/step\n"
     ]
    },
    {
     "name": "stderr",
     "output_type": "stream",
     "text": [
      " 87%|████████▋ | 261/300 [00:13<00:02, 17.25it/s]"
     ]
    },
    {
     "name": "stdout",
     "output_type": "stream",
     "text": [
      "1/1 [==============================] - 0s 19ms/step\n",
      "1/1 [==============================] - 0s 18ms/step\n",
      "1/1 [==============================] - 0s 19ms/step\n"
     ]
    },
    {
     "name": "stderr",
     "output_type": "stream",
     "text": [
      " 88%|████████▊ | 264/300 [00:14<00:01, 18.15it/s]"
     ]
    },
    {
     "name": "stdout",
     "output_type": "stream",
     "text": [
      "1/1 [==============================] - 0s 19ms/step\n",
      "1/1 [==============================] - 0s 21ms/step\n",
      "1/1 [==============================] - 0s 20ms/step\n"
     ]
    },
    {
     "name": "stderr",
     "output_type": "stream",
     "text": [
      " 89%|████████▉ | 267/300 [00:14<00:01, 18.80it/s]"
     ]
    },
    {
     "name": "stdout",
     "output_type": "stream",
     "text": [
      "1/1 [==============================] - 0s 20ms/step\n",
      "1/1 [==============================] - 0s 19ms/step\n"
     ]
    },
    {
     "name": "stderr",
     "output_type": "stream",
     "text": [
      " 90%|████████▉ | 269/300 [00:14<00:01, 18.72it/s]"
     ]
    },
    {
     "name": "stdout",
     "output_type": "stream",
     "text": [
      "1/1 [==============================] - 0s 20ms/step\n",
      "1/1 [==============================] - 0s 19ms/step\n"
     ]
    },
    {
     "name": "stderr",
     "output_type": "stream",
     "text": [
      " 90%|█████████ | 271/300 [00:14<00:01, 18.87it/s]"
     ]
    },
    {
     "name": "stdout",
     "output_type": "stream",
     "text": [
      "1/1 [==============================] - 0s 18ms/step\n",
      "1/1 [==============================] - 0s 20ms/step\n"
     ]
    },
    {
     "name": "stderr",
     "output_type": "stream",
     "text": [
      " 91%|█████████ | 273/300 [00:14<00:01, 19.16it/s]"
     ]
    },
    {
     "name": "stdout",
     "output_type": "stream",
     "text": [
      "1/1 [==============================] - 0s 20ms/step\n",
      "1/1 [==============================] - 0s 22ms/step\n"
     ]
    },
    {
     "name": "stderr",
     "output_type": "stream",
     "text": [
      " 92%|█████████▏| 275/300 [00:14<00:01, 19.37it/s]"
     ]
    },
    {
     "name": "stdout",
     "output_type": "stream",
     "text": [
      "1/1 [==============================] - 0s 20ms/step\n",
      "1/1 [==============================] - 0s 18ms/step\n",
      "1/1 [==============================] - 0s 20ms/step\n"
     ]
    },
    {
     "name": "stderr",
     "output_type": "stream",
     "text": [
      " 93%|█████████▎| 278/300 [00:14<00:01, 19.68it/s]"
     ]
    },
    {
     "name": "stdout",
     "output_type": "stream",
     "text": [
      "1/1 [==============================] - 0s 22ms/step\n",
      "1/1 [==============================] - 0s 21ms/step\n"
     ]
    },
    {
     "name": "stderr",
     "output_type": "stream",
     "text": [
      " 93%|█████████▎| 280/300 [00:14<00:01, 19.24it/s]"
     ]
    },
    {
     "name": "stdout",
     "output_type": "stream",
     "text": [
      "1/1 [==============================] - 0s 21ms/step\n",
      "1/1 [==============================] - 0s 29ms/step\n"
     ]
    },
    {
     "name": "stderr",
     "output_type": "stream",
     "text": [
      " 94%|█████████▍| 282/300 [00:15<00:00, 18.81it/s]"
     ]
    },
    {
     "name": "stdout",
     "output_type": "stream",
     "text": [
      "1/1 [==============================] - 0s 31ms/step\n",
      "1/1 [==============================] - 0s 30ms/step\n"
     ]
    },
    {
     "name": "stderr",
     "output_type": "stream",
     "text": [
      " 95%|█████████▍| 284/300 [00:15<00:00, 17.25it/s]"
     ]
    },
    {
     "name": "stdout",
     "output_type": "stream",
     "text": [
      "1/1 [==============================] - 0s 26ms/step\n",
      "1/1 [==============================] - 0s 23ms/step\n"
     ]
    },
    {
     "name": "stderr",
     "output_type": "stream",
     "text": [
      " 95%|█████████▌| 286/300 [00:15<00:00, 16.89it/s]"
     ]
    },
    {
     "name": "stdout",
     "output_type": "stream",
     "text": [
      "1/1 [==============================] - 0s 23ms/step\n",
      "1/1 [==============================] - 0s 32ms/step\n"
     ]
    },
    {
     "name": "stderr",
     "output_type": "stream",
     "text": [
      " 96%|█████████▌| 288/300 [00:15<00:00, 16.24it/s]"
     ]
    },
    {
     "name": "stdout",
     "output_type": "stream",
     "text": [
      "1/1 [==============================] - 0s 26ms/step\n",
      "1/1 [==============================] - 0s 25ms/step\n"
     ]
    },
    {
     "name": "stderr",
     "output_type": "stream",
     "text": [
      " 97%|█████████▋| 290/300 [00:15<00:00, 16.18it/s]"
     ]
    },
    {
     "name": "stdout",
     "output_type": "stream",
     "text": [
      "1/1 [==============================] - 0s 30ms/step\n",
      "1/1 [==============================] - 0s 29ms/step\n"
     ]
    },
    {
     "name": "stderr",
     "output_type": "stream",
     "text": [
      " 97%|█████████▋| 292/300 [00:15<00:00, 15.88it/s]"
     ]
    },
    {
     "name": "stdout",
     "output_type": "stream",
     "text": [
      "1/1 [==============================] - 0s 28ms/step\n",
      "1/1 [==============================] - 0s 26ms/step\n"
     ]
    },
    {
     "name": "stderr",
     "output_type": "stream",
     "text": [
      " 98%|█████████▊| 294/300 [00:15<00:00, 15.89it/s]"
     ]
    },
    {
     "name": "stdout",
     "output_type": "stream",
     "text": [
      "1/1 [==============================] - 0s 23ms/step\n",
      "1/1 [==============================] - 0s 26ms/step\n"
     ]
    },
    {
     "name": "stderr",
     "output_type": "stream",
     "text": [
      " 99%|█████████▊| 296/300 [00:15<00:00, 16.12it/s]"
     ]
    },
    {
     "name": "stdout",
     "output_type": "stream",
     "text": [
      "1/1 [==============================] - 0s 26ms/step\n",
      "1/1 [==============================] - 0s 26ms/step\n"
     ]
    },
    {
     "name": "stderr",
     "output_type": "stream",
     "text": [
      " 99%|█████████▉| 298/300 [00:16<00:00, 15.69it/s]"
     ]
    },
    {
     "name": "stdout",
     "output_type": "stream",
     "text": [
      "1/1 [==============================] - 0s 20ms/step\n",
      "1/1 [==============================] - 0s 20ms/step\n"
     ]
    },
    {
     "name": "stderr",
     "output_type": "stream",
     "text": [
      "100%|██████████| 300/300 [00:16<00:00, 18.48it/s]"
     ]
    },
    {
     "name": "stdout",
     "output_type": "stream",
     "text": [
      "(19.030276425666763, 3.8949194681253814)\n"
     ]
    },
    {
     "name": "stderr",
     "output_type": "stream",
     "text": [
      "\n"
     ]
    }
   ],
   "source": [
    "def calc_mse(generator):\n",
    "    mse = []\n",
    "    for sample, _ in tqdm(generator):\n",
    "        pred = autoencoder.predict(sample)\n",
    "\n",
    "        se = pred - sample\n",
    "        se = se ** 2\n",
    "        se = se.sum()\n",
    "        mse.append(se)\n",
    "    mse = np.asarray(mse)\n",
    "    return mse.mean(), mse.std()\n",
    "\n",
    "true_generator = BatchGenerator(\"./data/screw_dataset/val/wo_screw\", 1)\n",
    "anomaly_generator = BatchGenerator(\"./data/screw_dataset/val/torx\", 1)\n",
    "print(calc_mse(true_generator))\n",
    "print(calc_mse(anomaly_generator))"
   ]
  },
  {
   "cell_type": "code",
   "execution_count": 10,
   "id": "digital-bahrain",
   "metadata": {},
   "outputs": [
    {
     "name": "stdout",
     "output_type": "stream",
     "text": [
      "1/1 [==============================] - 0s 30ms/step\n"
     ]
    },
    {
     "data": {
      "image/png": "[encoded data removed]",
      "text/plain": [
       "<Figure size 1080x1080 with 9 Axes>"
      ]
     },
     "metadata": {
      "needs_background": "light"
     },
     "output_type": "display_data"
    }
   ],
   "source": [
    "plt.figure(figsize=(15,15))\n",
    "test_generator = BatchGenerator(\"./data/screw_dataset/train/wo_screw\", 9)\n",
    "\n",
    "# batch = next(test_generator)\n",
    "batch = next(iter(test_generator))[0]\n",
    "\n",
    "preds = autoencoder.predict(batch)\n",
    "for i, (gt, pred) in enumerate(zip(batch, preds)):\n",
    "    plt.subplot(3,3,i+1)\n",
    "    \n",
    "    gt = gt[..., 0]\n",
    "    pred = pred[..., 0]\n",
    "    error = abs(gt - pred)\n",
    "    error = error > 0.17\n",
    "    error = np.uint8(error * 255)\n",
    "    \n",
    "    pred = np.uint8(pred * 255)\n",
    "    pred = cv2.bitwise_and(pred, error)\n",
    "    pred = cv2.resize(pred, None, fx=2, fy=2)\n",
    "    plt.imshow(cv2.cvtColor(pred, cv2.COLOR_GRAY2RGB))\n",
    "plt.show()"
   ]
  },
  {
   "cell_type": "code",
   "execution_count": null,
   "id": "going-hands",
   "metadata": {},
   "outputs": [],
   "source": []
  }
 ],
 "metadata": {
  "kernelspec": {
   "display_name": "Python 3.10.6 64-bit",
   "language": "python",
   "name": "python3"
  },
  "language_info": {
   "codemirror_mode": {
    "name": "ipython",
    "version": 3
   },
   "file_extension": ".py",
   "mimetype": "text/x-python",
   "name": "python",
   "nbconvert_exporter": "python",
   "pygments_lexer": "ipython3",
   "version": "3.10.6"
  },
  "vscode": {
   "interpreter": {
    "hash": "26de051ba29f2982a8de78e945f0abaf191376122a1563185a90213a26c5da77"
   }
  }
 },
 "nbformat": 4,
 "nbformat_minor": 5
}
