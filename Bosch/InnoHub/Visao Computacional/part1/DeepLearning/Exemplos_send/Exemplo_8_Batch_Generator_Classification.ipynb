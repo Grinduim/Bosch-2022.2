{
 "cells": [
  {
   "cell_type": "markdown",
   "id": "portable-diploma",
   "metadata": {},
   "source": [
    "### Simple BatchGenerator for Binary Classification\n",
    "\n"
   ]
  },
  {
   "cell_type": "code",
   "execution_count": 1,
   "id": "accompanied-plaza",
   "metadata": {},
   "outputs": [],
   "source": [
    "import os\n",
    "import cv2\n",
    "import matplotlib.pyplot as plt\n",
    "from tensorflow.keras.preprocessing.image import ImageDataGenerator\n",
    "import numpy as np\n"
   ]
  },
  {
   "cell_type": "markdown",
   "id": "robust-championship",
   "metadata": {},
   "source": [
    "#### Load Data\n"
   ]
  },
  {
   "cell_type": "code",
   "execution_count": 2,
   "id": "beginning-atlas",
   "metadata": {},
   "outputs": [],
   "source": [
    "dataset_path = \"../dataset/cat_dog\"\n",
    "train_dataset = os.path.join(dataset_path ,\"training_set\")\n",
    "test_dataset = os.path.join(dataset_path, \"test_set\")\n",
    "batch_size = 8\n",
    "input_shape = (160, 160)\n",
    "classes = [\"cats\", 'dogs']\n",
    "\n"
   ]
  },
  {
   "cell_type": "markdown",
   "id": "reduced-teaching",
   "metadata": {},
   "source": [
    "#### Building Train/Test Generators\n"
   ]
  },
  {
   "cell_type": "code",
   "execution_count": null,
   "id": "popular-coordinate",
   "metadata": {},
   "outputs": [],
   "source": []
  },
  {
   "cell_type": "markdown",
   "id": "brief-bulletin",
   "metadata": {},
   "source": [
    "#### Sample visualization\n"
   ]
  },
  {
   "cell_type": "code",
   "execution_count": null,
   "id": "municipal-longitude",
   "metadata": {},
   "outputs": [],
   "source": [
    "\n"
   ]
  },
  {
   "cell_type": "markdown",
   "id": "russian-tackle",
   "metadata": {},
   "source": [
    "#### Visualize train sample"
   ]
  },
  {
   "cell_type": "code",
   "execution_count": null,
   "id": "bridal-merchandise",
   "metadata": {},
   "outputs": [],
   "source": []
  },
  {
   "cell_type": "markdown",
   "id": "adolescent-graham",
   "metadata": {},
   "source": [
    "#### Visualize test sample"
   ]
  },
  {
   "cell_type": "code",
   "execution_count": null,
   "id": "therapeutic-equilibrium",
   "metadata": {},
   "outputs": [],
   "source": []
  },
  {
   "cell_type": "code",
   "execution_count": null,
   "id": "square-somalia",
   "metadata": {},
   "outputs": [],
   "source": []
  }
 ],
 "metadata": {
  "kernelspec": {
   "display_name": "Python 3",
   "language": "python",
   "name": "python3"
  },
  "language_info": {
   "codemirror_mode": {
    "name": "ipython",
    "version": 3
   },
   "file_extension": ".py",
   "mimetype": "text/x-python",
   "name": "python",
   "nbconvert_exporter": "python",
   "pygments_lexer": "ipython3",
   "version": "3.8.6"
  }
 },
 "nbformat": 4,
 "nbformat_minor": 5
}
