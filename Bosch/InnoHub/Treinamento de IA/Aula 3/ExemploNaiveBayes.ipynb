{
 "cells": [
  {
   "cell_type": "code",
   "execution_count": 69,
   "metadata": {},
   "outputs": [],
   "source": [
    "import pandas as pd\n",
    "import numpy as np\n",
    "from sklearn.naive_bayes import GaussianNB\n",
    "from sklearn import preprocessing"
   ]
  },
  {
   "cell_type": "code",
   "execution_count": 70,
   "metadata": {},
   "outputs": [],
   "source": [
    "\n",
    "dados = {'Renda': ['Alta', 'Média', 'Média', 'Baixa', 'Baixa', 'Baixa', 'Baixa', 'Alta', 'Baixa', 'Media'],\n",
    "         'Idade': ['Jovem', 'Idoso', 'Adulto', 'Adulto', 'Adulto', 'Idoso', 'Jovem', 'Jovem', 'Jovem', 'Jovem'],\n",
    "         'Valor_Empréstimo': ['Alto', 'Alto', 'Médio', 'Médio', 'Médio', 'Baixo', 'Alto', 'Médio', 'Baixo', 'Baixo'],\n",
    "         'Emprestou': ['Sim', 'Não', 'Não', 'Não', 'Não', 'Sim', 'Não', 'Sim', 'Sim', 'Sim']\n",
    "         }\n",
    "\n",
    "dados = pd.DataFrame(dados)\n"
   ]
  },
  {
   "cell_type": "code",
   "execution_count": 71,
   "metadata": {},
   "outputs": [
    {
     "name": "stdout",
     "output_type": "stream",
     "text": [
      "\n"
     ]
    }
   ],
   "source": [
    "renda_lbenconder = preprocessing.LabelEncoder()\n",
    "idade_lbenconder = preprocessing.LabelEncoder()\n",
    "valor_lbenconder = preprocessing.LabelEncoder()\n",
    "emprestou_lbenconder = preprocessing.LabelEncoder()\n",
    "\n",
    "renda_lbenconder.fit(dados['Renda'].unique())\n",
    "idade_lbenconder.fit(dados['Idade'].unique())\n",
    "valor_lbenconder.fit(dados['Valor_Empréstimo'].unique())\n",
    "emprestou_lbenconder.fit(dados['Emprestou'].unique())\n",
    "print()"
   ]
  },
  {
   "cell_type": "code",
   "execution_count": 72,
   "metadata": {},
   "outputs": [],
   "source": [
    "dados[\"Renda\"] = renda_lbenconder.transform(dados[\"Renda\"])\n",
    "dados[\"Idade\"] = idade_lbenconder.transform(dados[\"Idade\"])\n",
    "dados[\"Valor_Empréstimo\"] = valor_lbenconder.transform(dados[\"Valor_Empréstimo\"])\n",
    "dados[\"Emprestou\"] = emprestou_lbenconder.transform(dados[\"Emprestou\"])\n",
    "\n",
    "previsor = dados[[\"Renda\",\"Idade\",\"Valor_Empréstimo\"]]\n",
    "classe = dados[\"Emprestou\"]"
   ]
  },
  {
   "cell_type": "code",
   "execution_count": 73,
   "metadata": {},
   "outputs": [
    {
     "name": "stdout",
     "output_type": "stream",
     "text": [
      "Previsão de 80.0%\n"
     ]
    }
   ],
   "source": [
    "gnb = GaussianNB()\n",
    "gnb.fit(previsor,classe)\n",
    "print(f\"Previsão de {gnb.score(previsor,classe)*100}%\")"
   ]
  },
  {
   "cell_type": "code",
   "execution_count": 74,
   "metadata": {},
   "outputs": [
    {
     "name": "stdout",
     "output_type": "stream",
     "text": [
      "[0 1]\n",
      "['Sim' 'Não']\n"
     ]
    }
   ],
   "source": [
    "previsao = {\n",
    "    'Renda': ['Média', 'Alta'],\n",
    "    'Idade': ['Jovem', 'Jovem'],\n",
    "    'Valor_Empréstimo': ['Baixo', 'Alto']\n",
    "}\n",
    "\n",
    "previsao = pd.DataFrame(previsao)\n",
    "\n",
    "previsao['Renda']  = renda_lbenconder.transform(previsao['Renda'])\n",
    "previsao['Idade'] = idade_lbenconder.transform(previsao['Idade'])\n",
    "previsao['Valor_Empréstimo'] = valor_lbenconder.transform(previsao['Valor_Empréstimo'])\n",
    "\n",
    "print(gnb.predict(previsao))\n",
    "print(emprestou_lbenconder.inverse_transform(previsao['Valor_Empréstimo']))"
   ]
  }
 ],
 "metadata": {
  "kernelspec": {
   "display_name": "Python 3.10.6 64-bit",
   "language": "python",
   "name": "python3"
  },
  "language_info": {
   "codemirror_mode": {
    "name": "ipython",
    "version": 3
   },
   "file_extension": ".py",
   "mimetype": "text/x-python",
   "name": "python",
   "nbconvert_exporter": "python",
   "pygments_lexer": "ipython3",
   "version": "3.10.6"
  },
  "orig_nbformat": 4,
  "vscode": {
   "interpreter": {
    "hash": "26de051ba29f2982a8de78e945f0abaf191376122a1563185a90213a26c5da77"
   }
  }
 },
 "nbformat": 4,
 "nbformat_minor": 2
}
