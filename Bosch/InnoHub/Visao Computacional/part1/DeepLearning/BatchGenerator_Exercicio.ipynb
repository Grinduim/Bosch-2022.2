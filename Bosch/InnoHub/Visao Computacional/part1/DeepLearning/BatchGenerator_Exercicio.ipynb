{
 "cells": [
  {
   "cell_type": "code",
   "execution_count": null,
   "metadata": {},
   "outputs": [],
   "source": []
  },
  {
   "cell_type": "code",
   "execution_count": 4,
   "metadata": {},
   "outputs": [],
   "source": [
    "import numpy as np \n",
    "from tensorflow.keras.utils import Sequence \n",
    "import albumentations as A\n",
    "import cv2\n",
    "import matplotlib.pyplot as plt\n",
    "import os "
   ]
  },
  {
   "cell_type": "code",
   "execution_count": null,
   "metadata": {},
   "outputs": [],
   "source": [
    "dataset_path = 'dataset\\obj_detection'\n",
    "images_path = os.path.join(dataset_path, \"images\")\n",
    "annotation_trn = os.path.join(dataset_path, \"train_labels.csv\")\n",
    "annotation_tst = os.path.join(dataset_path, \"test_labels.csv\")"
   ]
  },
  {
   "cell_type": "code",
   "execution_count": null,
   "metadata": {},
   "outputs": [],
   "source": [
    "class BatchGenerator(Sequence):\n",
    "\n",
    "    def __init__(self, images_path, annotations_path, input_shape, batch_size=16, shuffle=True, jitter = True, debug = False):\n",
    "        self._images_path = images_path\n",
    "        self._annotations_path = annotations_path\n",
    "        self._annotations_path = annotations_path\n",
    "\n",
    "        self._input_shape = input_shape\n",
    "\n",
    "        self._batch_size = batch_size\n",
    "        self._shuffle = shuffle\n",
    "        self._jitter = jitter\n",
    "        self._debug = debug\n",
    "\n",
    "        self._images = []\n",
    "        self._labels = {}\n",
    "        self._samples_per_label = {}\n",
    "\n",
    "        ship_header = True\n",
    "\n",
    "        with open(self._annotations_path, 'r') as af:\n",
    "            \n"
   ]
  }
 ],
 "metadata": {
  "kernelspec": {
   "display_name": "Python 3.10.6 ('venv': venv)",
   "language": "python",
   "name": "python3"
  },
  "language_info": {
   "codemirror_mode": {
    "name": "ipython",
    "version": 3
   },
   "file_extension": ".py",
   "mimetype": "text/x-python",
   "name": "python",
   "nbconvert_exporter": "python",
   "pygments_lexer": "ipython3",
   "version": "3.10.6"
  },
  "orig_nbformat": 4,
  "vscode": {
   "interpreter": {
    "hash": "a80b582d59fa5d074de585d748d2a0bbed64151eee73640ea315bbdba31157ac"
   }
  }
 },
 "nbformat": 4,
 "nbformat_minor": 2
}
