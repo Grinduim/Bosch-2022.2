{
 "cells": [
  {
   "cell_type": "markdown",
   "metadata": {},
   "source": [
    "# INTRODUÇÃO TÉCNICA A INTELIGÊNCIA ARTIFICIAL B!\n",
    "\n",
    "-----------------------\n",
    "\n",
    "## Métricas de Desempenho\n",
    "\n",
    "\n",
    "### Exercício Classificação Multi-Classe\n",
    "\n",
    "\n",
    "Este exercício consiste na avaliação dos resultados de um problema de **Classificação Multi Classe**. Utilizando todas as métricas de desempenho apresentadas.\n",
    "\n",
    " * Métricas de Erro\n",
    "     * Matriz de Confusão\n",
    "     * Acurácia\n",
    "     * Precisão\n",
    "     * Recall\n",
    "     * F1-Score\n",
    " * Custo Computacional\n",
    " * Convergência  \n",
    " \n",
    " \n",
    "*Obs*: *Podem ser utilizadas as funções de avaliação próprias do sklearn como por exemplo\n",
    "**plot_confusion_matrix**, **accuracy_scores**, **precision_recall_fscore_support** visto que o objetivo do exercício é mais focado na análise em si do que no desenvolvimento das métricas.*\n",
    " \n",
    "-----------------------\n",
    " \n",
    " **Problema** : \n",
    " \n",
    "Utilizaremos o dataset de Multi-Classes [Iris](https://archive.ics.uci.edu/ml/datasets/iris). \n",
    "\n",
    "\n",
    "É um dos datasets mais utilizados em problemas de classificação multi-casse.\n",
    " \n",
    " \n",
    "A partir dos valores de comprimento e largura da sépala e pétalas de cada planta Iris, podemos classifica-la entre 3 variedades diferentes:\n",
    "\n",
    "* Setosa\n",
    "* Versicolore \n",
    "* Virginica\n",
    " \n",
    " \n",
    " \n",
    " > Mais infos sobre o dataset pode ser encontrado [aqui](http://rexa.info/paper/2fb499aa4d6a7071a6ba53c679ccca7055813114)\n",
    "-----------------------\n"
   ]
  },
  {
   "cell_type": "code",
   "execution_count": 103,
   "metadata": {},
   "outputs": [],
   "source": [
    "# Carregar Pacotes\n",
    "\n",
    "import io\n",
    "import sklearn\n",
    "import numpy as np\n",
    "import pandas as pd\n",
    "from sklearn.model_selection import train_test_split\n",
    "\n",
    "# Ignorar warnings\n",
    "import warnings\n",
    "warnings.filterwarnings('ignore')"
   ]
  },
  {
   "cell_type": "markdown",
   "metadata": {},
   "source": [
    "## Carregando os Dados"
   ]
  },
  {
   "cell_type": "code",
   "execution_count": 104,
   "metadata": {},
   "outputs": [
    {
     "name": "stdout",
     "output_type": "stream",
     "text": [
      "     150    4  setosa  versicolor  virginica\n",
      "0    5.1  3.5     1.4         0.2          0\n",
      "1    4.9  3.0     1.4         0.2          0\n",
      "2    4.7  3.2     1.3         0.2          0\n",
      "3    4.6  3.1     1.5         0.2          0\n",
      "4    5.0  3.6     1.4         0.2          0\n",
      "..   ...  ...     ...         ...        ...\n",
      "145  6.7  3.0     5.2         2.3          2\n",
      "146  6.3  2.5     5.0         1.9          2\n",
      "147  6.5  3.0     5.2         2.0          2\n",
      "148  6.2  3.4     5.4         2.3          2\n",
      "149  5.9  3.0     5.1         1.8          2\n",
      "\n",
      "[150 rows x 5 columns]\n"
     ]
    }
   ],
   "source": [
    "df = pd.read_csv(\"iris.csv\", header=0)\n",
    "df.head()\n",
    "print(df)"
   ]
  },
  {
   "cell_type": "code",
   "execution_count": 105,
   "metadata": {},
   "outputs": [],
   "source": [
    "x= df.iloc[:,:-1] #variavel independente \n",
    "y= df.iloc[:, -1] # variavel dependente "
   ]
  },
  {
   "cell_type": "code",
   "execution_count": 106,
   "metadata": {},
   "outputs": [
    {
     "name": "stdout",
     "output_type": "stream",
     "text": [
      "Tamanho do Dataset Completo 150 amostras\n",
      "Setosa 50 amostras, Versicolor 50 amostras, Virginica 50 amostras\n"
     ]
    }
   ],
   "source": [
    "labels=[\"Setosa\", \"Versicolor\", \"Virginica\"]\n",
    "print(\"Tamanho do Dataset Completo {} amostras\".format(len(x)))\n",
    "print(\"{} {} amostras, {} {} amostras, {} {} amostras\".format(\n",
    "        labels[0], y.value_counts()[0],\n",
    "        labels[1], y.value_counts()[1],\n",
    "        labels[2], y.value_counts()[2]))\n",
    "\n",
    "#dividindo o dataset em dados de treino e de prod\n",
    "x_train, x_test, y_train, y_test = train_test_split(x, y, test_size=0.30, random_state=9, shuffle=True)"
   ]
  },
  {
   "cell_type": "markdown",
   "metadata": {},
   "source": [
    "# Treinando os dados já separados "
   ]
  },
  {
   "cell_type": "code",
   "execution_count": 135,
   "metadata": {},
   "outputs": [
    {
     "name": "stdout",
     "output_type": "stream",
     "text": [
      "5\n"
     ]
    },
    {
     "data": {
      "text/html": [
       "<style>#sk-container-id-19 {color: black;background-color: white;}#sk-container-id-19 pre{padding: 0;}#sk-container-id-19 div.sk-toggleable {background-color: white;}#sk-container-id-19 label.sk-toggleable__label {cursor: pointer;display: block;width: 100%;margin-bottom: 0;padding: 0.3em;box-sizing: border-box;text-align: center;}#sk-container-id-19 label.sk-toggleable__label-arrow:before {content: \"▸\";float: left;margin-right: 0.25em;color: #696969;}#sk-container-id-19 label.sk-toggleable__label-arrow:hover:before {color: black;}#sk-container-id-19 div.sk-estimator:hover label.sk-toggleable__label-arrow:before {color: black;}#sk-container-id-19 div.sk-toggleable__content {max-height: 0;max-width: 0;overflow: hidden;text-align: left;background-color: #f0f8ff;}#sk-container-id-19 div.sk-toggleable__content pre {margin: 0.2em;color: black;border-radius: 0.25em;background-color: #f0f8ff;}#sk-container-id-19 input.sk-toggleable__control:checked~div.sk-toggleable__content {max-height: 200px;max-width: 100%;overflow: auto;}#sk-container-id-19 input.sk-toggleable__control:checked~label.sk-toggleable__label-arrow:before {content: \"▾\";}#sk-container-id-19 div.sk-estimator input.sk-toggleable__control:checked~label.sk-toggleable__label {background-color: #d4ebff;}#sk-container-id-19 div.sk-label input.sk-toggleable__control:checked~label.sk-toggleable__label {background-color: #d4ebff;}#sk-container-id-19 input.sk-hidden--visually {border: 0;clip: rect(1px 1px 1px 1px);clip: rect(1px, 1px, 1px, 1px);height: 1px;margin: -1px;overflow: hidden;padding: 0;position: absolute;width: 1px;}#sk-container-id-19 div.sk-estimator {font-family: monospace;background-color: #f0f8ff;border: 1px dotted black;border-radius: 0.25em;box-sizing: border-box;margin-bottom: 0.5em;}#sk-container-id-19 div.sk-estimator:hover {background-color: #d4ebff;}#sk-container-id-19 div.sk-parallel-item::after {content: \"\";width: 100%;border-bottom: 1px solid gray;flex-grow: 1;}#sk-container-id-19 div.sk-label:hover label.sk-toggleable__label {background-color: #d4ebff;}#sk-container-id-19 div.sk-serial::before {content: \"\";position: absolute;border-left: 1px solid gray;box-sizing: border-box;top: 0;bottom: 0;left: 50%;z-index: 0;}#sk-container-id-19 div.sk-serial {display: flex;flex-direction: column;align-items: center;background-color: white;padding-right: 0.2em;padding-left: 0.2em;position: relative;}#sk-container-id-19 div.sk-item {position: relative;z-index: 1;}#sk-container-id-19 div.sk-parallel {display: flex;align-items: stretch;justify-content: center;background-color: white;position: relative;}#sk-container-id-19 div.sk-item::before, #sk-container-id-19 div.sk-parallel-item::before {content: \"\";position: absolute;border-left: 1px solid gray;box-sizing: border-box;top: 0;bottom: 0;left: 50%;z-index: -1;}#sk-container-id-19 div.sk-parallel-item {display: flex;flex-direction: column;z-index: 1;position: relative;background-color: white;}#sk-container-id-19 div.sk-parallel-item:first-child::after {align-self: flex-end;width: 50%;}#sk-container-id-19 div.sk-parallel-item:last-child::after {align-self: flex-start;width: 50%;}#sk-container-id-19 div.sk-parallel-item:only-child::after {width: 0;}#sk-container-id-19 div.sk-dashed-wrapped {border: 1px dashed gray;margin: 0 0.4em 0.5em 0.4em;box-sizing: border-box;padding-bottom: 0.4em;background-color: white;}#sk-container-id-19 div.sk-label label {font-family: monospace;font-weight: bold;display: inline-block;line-height: 1.2em;}#sk-container-id-19 div.sk-label-container {text-align: center;}#sk-container-id-19 div.sk-container {/* jupyter's `normalize.less` sets `[hidden] { display: none; }` but bootstrap.min.css set `[hidden] { display: none !important; }` so we also need the `!important` here to be able to override the default hidden behavior on the sphinx rendered scikit-learn.org. See: https://github.com/scikit-learn/scikit-learn/issues/21755 */display: inline-block !important;position: relative;}#sk-container-id-19 div.sk-text-repr-fallback {display: none;}</style><div id=\"sk-container-id-19\" class=\"sk-top-container\"><div class=\"sk-text-repr-fallback\"><pre>LinearSVC(max_iter=10000, random_state=5)</pre><b>In a Jupyter environment, please rerun this cell to show the HTML representation or trust the notebook. <br />On GitHub, the HTML representation is unable to render, please try loading this page with nbviewer.org.</b></div><div class=\"sk-container\" hidden><div class=\"sk-item\"><div class=\"sk-estimator sk-toggleable\"><input class=\"sk-toggleable__control sk-hidden--visually\" id=\"sk-estimator-id-19\" type=\"checkbox\" checked><label for=\"sk-estimator-id-19\" class=\"sk-toggleable__label sk-toggleable__label-arrow\">LinearSVC</label><div class=\"sk-toggleable__content\"><pre>LinearSVC(max_iter=10000, random_state=5)</pre></div></div></div></div></div>"
      ],
      "text/plain": [
       "LinearSVC(max_iter=10000, random_state=5)"
      ]
     },
     "execution_count": 135,
     "metadata": {},
     "output_type": "execute_result"
    }
   ],
   "source": [
    "from random import randint, random\n",
    "from sklearn import svm\n",
    "\n",
    "random_state = randint(0,20)\n",
    "print(random_state)\n",
    "model = svm.LinearSVC(max_iter=10000, random_state=random_state)\n",
    "model.fit(x_train, y_train)\n"
   ]
  },
  {
   "cell_type": "code",
   "execution_count": 136,
   "metadata": {},
   "outputs": [
    {
     "data": {
      "text/plain": [
       "array([2, 1, 2, 2, 1, 0, 0, 0, 1, 0, 0, 1, 1, 1, 0, 1, 0, 1, 2, 0, 0, 0,\n",
       "       2, 0, 2, 1, 0, 2, 0, 2, 2, 2, 0, 1, 1, 1, 1, 0, 2, 0, 0, 2, 1, 0,\n",
       "       2], dtype=int64)"
      ]
     },
     "execution_count": 136,
     "metadata": {},
     "output_type": "execute_result"
    }
   ],
   "source": [
    "y_pred = model.predict(x_test)\n",
    "y_pred"
   ]
  },
  {
   "cell_type": "markdown",
   "metadata": {},
   "source": [
    "## Matriz de Confusão\n"
   ]
  },
  {
   "cell_type": "code",
   "execution_count": 140,
   "metadata": {},
   "outputs": [
    {
     "name": "stdout",
     "output_type": "stream",
     "text": [
      "0\n"
     ]
    },
    {
     "data": {
      "text/plain": [
       "Text(33.0, 0.5, 'Valor Real')"
      ]
     },
     "execution_count": 140,
     "metadata": {},
     "output_type": "execute_result"
    },
    {
     "data": {
      "image/png": "[encoded data removed]",
      "text/plain": [
       "<Figure size 432x288 with 1 Axes>"
      ]
     },
     "metadata": {
      "needs_background": "light"
     },
     "output_type": "display_data"
    }
   ],
   "source": [
    "\n",
    "from sklearn.metrics import confusion_matrix\n",
    "import seaborn as sns\n",
    "import matplotlib.pyplot as plt\n",
    "cm = confusion_matrix(y_test, y_pred)\n",
    "\n",
    "T1 = cm[0,0]\n",
    "T2 = cm[1,1]\n",
    "T3 = cm[2,2]\n",
    "F1 = cm[1,0] + cm[2,0]\n",
    "F2 = cm[0,1] + cm[2,1]\n",
    "F3 = cm[0,2] + cm[1,2]\n",
    "T1,F2,F3,F1,T2,F3,F1,F2,T3 = cm.ravel()\n",
    "print(F2)\n",
    "\n",
    "group_names = ['T1','F2','F3','F1','T2','F3','F1','F2','T3']\n",
    "\n",
    "group_counts = [ '{0:0.0f}'.format(value) for value in cm.flatten()]\n",
    "\n",
    "group_percentages = ['{0:.2%}'.format(value) for value in\n",
    "                     cm.flatten()/np.sum(cm)]\n",
    "\n",
    "labels = [f'{v1}\\n{v2}\\n{v3}' for v1, v2, v3 in\n",
    "          zip(group_names,group_counts,group_percentages)]\n",
    "\n",
    "labels = np.asarray(labels).reshape(3,3)\n",
    "sns.heatmap(cm,annot=labels, fmt='', cmap=\"Blues\",cbar=False)\n",
    "plt.xlabel(\"Valor Previsto\")\n",
    "plt.ylabel(\"Valor Real\")\n"
   ]
  },
  {
   "cell_type": "markdown",
   "metadata": {},
   "source": [
    "# Acurácia"
   ]
  },
  {
   "cell_type": "code",
   "execution_count": 138,
   "metadata": {},
   "outputs": [
    {
     "name": "stdout",
     "output_type": "stream",
     "text": [
      "Acurácia de 100.00%\n"
     ]
    }
   ],
   "source": [
    "acuracia = (T1+ T2 + T3)/ cm.sum()\n",
    "print(f\"Acurácia de {acuracia*100:0.2f}%\")"
   ]
  },
  {
   "cell_type": "markdown",
   "metadata": {},
   "source": [
    "# Precisão"
   ]
  },
  {
   "cell_type": "code",
   "execution_count": 139,
   "metadata": {},
   "outputs": [],
   "source": [
    "precisao = (T1+ T2 + T3)/ "
   ]
  }
 ],
 "metadata": {
  "kernelspec": {
   "display_name": "Python 3.10.6 64-bit",
   "language": "python",
   "name": "python3"
  },
  "language_info": {
   "codemirror_mode": {
    "name": "ipython",
    "version": 3
   },
   "file_extension": ".py",
   "mimetype": "text/x-python",
   "name": "python",
   "nbconvert_exporter": "python",
   "pygments_lexer": "ipython3",
   "version": "3.10.6"
  },
  "vscode": {
   "interpreter": {
    "hash": "26de051ba29f2982a8de78e945f0abaf191376122a1563185a90213a26c5da77"
   }
  }
 },
 "nbformat": 4,
 "nbformat_minor": 4
}
