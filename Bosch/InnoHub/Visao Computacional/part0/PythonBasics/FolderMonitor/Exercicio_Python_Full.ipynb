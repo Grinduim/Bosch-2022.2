{
 "cells": [
  {
   "cell_type": "markdown",
   "id": "reverse-absorption",
   "metadata": {},
   "source": [
    "# Exercício Python\n",
    "\n",
    "----------------------\n",
    "\n",
    "#### Parte 1: \n",
    "\n",
    "Criar uma classe **FolderMonitor** para monitorar arquivos adicionados dentro de uma pasta `src`. \n",
    "Quando um arquivo novo for adicionado, o mesmo será movido para uma pasta `dest`.\n",
    "\n",
    "Cada pedaço do programa terá requisitos específicos a serem cumpridos.\n",
    "\n",
    "Todas as iterações precisam apresentar mensagens informando o usuário de erros, ou operações bem sucedidas.\n",
    "Utilizar o comando `input()` do python para iteragir com o usuário. \n",
    "\n",
    "\n",
    "**Pode Utilizar qualquer IDE de sua preferência**\n",
    "\n",
    "\n",
    "O ideal é utilizar os conhecimentos aprendidos neste treinamento.\n",
    " * Threads\n",
    " * Encapsulamento\n",
    " * Classes em Python\n",
    " * Exceptions\n",
    " * bibliotecas python\n",
    "\n",
    "\n",
    "#### Parte 2: \n",
    "\n",
    "O programa deverá ser transformado em um executável (único árquivo). Que deverá ser controlado por console.\n"
   ]
  },
  {
   "cell_type": "markdown",
   "id": "fantastic-discount",
   "metadata": {},
   "source": [
    "#### Import some libs\n"
   ]
  },
  {
   "cell_type": "code",
   "execution_count": 5,
   "id": "worth-simpson",
   "metadata": {},
   "outputs": [],
   "source": [
    "import os\n",
    "import glob\n",
    "import time\n",
    "import shutil\n",
    "from threading import Thread"
   ]
  },
  {
   "cell_type": "markdown",
   "id": "proper-plant",
   "metadata": {},
   "source": [
    "----------\n",
    "Criar uma Exception Customizada caso a Pasta nao existir\n"
   ]
  },
  {
   "cell_type": "code",
   "execution_count": 11,
   "id": "twenty-coaching",
   "metadata": {},
   "outputs": [
    {
     "name": "stdout",
     "output_type": "stream",
     "text": [
      "teste : teste mensagem\n"
     ]
    }
   ],
   "source": [
    "class FolderDoesNotExist(Exception):\n",
    "    \n",
    "    def __init__(self, folder, msg):\n",
    "        self._folder = folder \n",
    "        self._msg = msg\n",
    "        \n",
    "    def __str__(self):\n",
    "        return f\"{self._msg} : {self._folder}\"\n",
    "        \n",
    "\n",
    "try:\n",
    "    raise FolderDoesNotExist(\"teste mensagem\", \"teste\")\n",
    "except FolderDoesNotExist as e:\n",
    "    print(e)"
   ]
  },
  {
   "cell_type": "markdown",
   "id": "national-wheel",
   "metadata": {},
   "source": [
    "----------\n",
    "Função para perguntar diretório da pasta à ser monitorada\n",
    "\n",
    "Requisitos:\n",
    " * Caso a pasta não exsistir, perguntar se deseja criar a pasta ou não?\n",
    " * Mensagens para usuário"
   ]
  },
  {
   "cell_type": "code",
   "execution_count": 7,
   "id": "changed-value",
   "metadata": {},
   "outputs": [
    {
     "name": "stdout",
     "output_type": "stream",
     "text": [
      "Qual pasta deseja monitorar?src1\n",
      "Esta pasta não existe, deseja criar? (s/n)s\n"
     ]
    }
   ],
   "source": [
    "def _set_src_folder():\n",
    "    src_ = input(\"Qual pasta deseja monitorar?\")\n",
    "    \n",
    "    if not os.path.isdir(src_):\n",
    "        answer_ = input(\"Esta pasta não existe, deseja criar? (s/n)\").lower()\n",
    "        while answer_ not in [\"s\", \"n\"]:\n",
    "            answer_ = input(\"Não entendi, deseja criar a pasta? (s/n)\").lower()\n",
    "        if answer_ == \"n\":\n",
    "            print(\"Então não tem o que fazer\")\n",
    "            exit(0)\n",
    "        else:\n",
    "            os.makedirs(src_)\n",
    "            \n",
    "    return src_\n",
    "\n",
    "src = _set_src_folder()"
   ]
  },
  {
   "cell_type": "markdown",
   "id": "stylish-politics",
   "metadata": {},
   "source": [
    "----------\n",
    "Função para perguntar o diretório da pasta destino\n",
    "\n",
    "\n",
    "Requisitos:\n",
    " * Caso a pasta não exsistir, perguntar se deseja criar a pasta ou não?\n",
    " * Mensagens para usuário"
   ]
  },
  {
   "cell_type": "code",
   "execution_count": 8,
   "id": "opponent-greek",
   "metadata": {},
   "outputs": [
    {
     "name": "stdout",
     "output_type": "stream",
     "text": [
      "Qual destino dos arquivos?dst1\n",
      "pasta não existe, criando pasta...\n"
     ]
    }
   ],
   "source": [
    "def _set_dst_folder():\n",
    "    dst_ = input(\"Qual destino dos arquivos?\")\n",
    "    while dst_ == \"\":\n",
    "        dst_ = input(\"Destino inválido, qual destino dos arquivos?\")\n",
    "        if dst_ == \"\":\n",
    "            continue\n",
    "    if not os.path.isdir(dst_):\n",
    "        print(\"pasta não existe, criando pasta...\")\n",
    "        os.makedirs(dst_)\n",
    "    return dst_\n",
    "\n",
    "dst = _set_dst_folder()"
   ]
  },
  {
   "cell_type": "markdown",
   "id": "oriented-tourist",
   "metadata": {},
   "source": [
    "----------------\n",
    "**Classe FolderMonitor** para realizar o monitoramento da Pasta\n",
    "\n",
    "Requisitos:\n",
    " * Fazer o monitoramento da pasta em uma Thread.\n",
    " * Opção para alterar o valor da pasta destino dentro da classe. (@property, @property.setter)\n",
    "     * Levantar Exceção caso a pasta não exista.\n",
    " "
   ]
  },
  {
   "cell_type": "code",
   "execution_count": 14,
   "id": "subsequent-eligibility",
   "metadata": {},
   "outputs": [],
   "source": [
    "class FolderMonitor:\n",
    "    \n",
    "    def __init__(self, folder_path, dst_folder):\n",
    "        \n",
    "        self._folder_path = folder_path\n",
    "        self._dst_folder = dst_folder\n",
    "        \n",
    "        self._monitor_run = True\n",
    "        self._monitor_thread = Thread(target=self.monitor)\n",
    "        self._monitor_thread.daemon = True\n",
    "        self._monitor_thread.start()\n",
    "                       \n",
    "     \n",
    "    def monitor(self):\n",
    "        while self._monitor_run:\n",
    "            files = glob.glob(os.path.join(self._folder_path, \"**/*\"), recursive=True)\n",
    "            for src_ in files:\n",
    "                print(src_)\n",
    "                dst_ = os.path.join(self._dst_folder, os.path.basename(src_))\n",
    "                shutil.move(src_, dst_)\n",
    "            time.sleep(1)\n",
    "                \n",
    "        \n",
    "    def stop(self):\n",
    "        self._monitor_run = False\n",
    "        self._monitor_thread.join()\n",
    "        print('End!!')\n",
    "        \n",
    "    @property\n",
    "    def dst_folder(self):\n",
    "        return self._dst_folder\n",
    "    \n",
    "    \n",
    "    @dst_folder.setter\n",
    "    def dst_folder(self, new_path):\n",
    "        if not os.path.isdir(new_path):\n",
    "                raise FolderDoesNotExist(\"Caminho da pasta não existe\", new_path)\n",
    "        self._dst_folder = new_path\n",
    "\n",
    "folder_monitor = FolderMonitor(src, dst)"
   ]
  },
  {
   "cell_type": "markdown",
   "id": "rational-laser",
   "metadata": {},
   "source": [
    "----------\n",
    "**Monitorando**\n",
    "\n",
    "Requisitos:\n",
    "   * Usuário pode utilizar o comando `sair` para encerrar o monitoramento\n",
    "   * Usuário pode utilizar um comando para alterar o caminho da pasta destino em durante à execução"
   ]
  },
  {
   "cell_type": "code",
   "execution_count": 15,
   "id": "underlying-serial",
   "metadata": {},
   "outputs": [
    {
     "name": "stdout",
     "output_type": "stream",
     "text": [
      "monitorando...\n",
      "dst:dst2\n",
      "src1\\art.jpg\n",
      "sair\n",
      "Saindo...\n"
     ]
    }
   ],
   "source": [
    "print(\"monitorando...\")\n",
    "while 1:\n",
    "    answer = input()\n",
    "    if answer == 'sair':\n",
    "        print(\"Saindo...\")\n",
    "        break\n",
    "    \n",
    "    if answer.find('dst:') == 0:\n",
    "        new_path = answer.split(\":\")[1]\n",
    "        try:\n",
    "            folder_monitor.dst_folder = new_path\n",
    "        except FolderDoesNotExist:            \n",
    "            os.makedirs(new_path)\n",
    "            \n",
    "            "
   ]
  },
  {
   "cell_type": "code",
   "execution_count": null,
   "id": "provincial-container",
   "metadata": {},
   "outputs": [],
   "source": []
  }
 ],
 "metadata": {
  "kernelspec": {
   "display_name": "Python 3.10.6 64-bit",
   "language": "python",
   "name": "python3"
  },
  "language_info": {
   "codemirror_mode": {
    "name": "ipython",
    "version": 3
   },
   "file_extension": ".py",
   "mimetype": "text/x-python",
   "name": "python",
   "nbconvert_exporter": "python",
   "pygments_lexer": "ipython3",
   "version": "3.10.6"
  },
  "vscode": {
   "interpreter": {
    "hash": "26de051ba29f2982a8de78e945f0abaf191376122a1563185a90213a26c5da77"
   }
  }
 },
 "nbformat": 4,
 "nbformat_minor": 5
}
