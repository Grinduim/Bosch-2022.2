{
 "cells": [
  {
   "cell_type": "markdown",
   "id": "advance-operations",
   "metadata": {},
   "source": [
    "# Converter um modelo do keras para tensorflow\n",
    "\n",
    "Ao utilizar o modulo DNN do opencv é possível que possamos rodar o modelo do tensorflow diretamente com o Opencv, contudo pra que isso seja possível, devemos respeitar algumas limitações do modulo OpenCV.\n",
    "Algumas limitações conhecidas:\n",
    "* Não há suporte direto para ativações LeaKY ReLU\n",
    "* O modelo deve estar no formato .pb e não .h5 (keras)\n",
    "* Variaveis de treinamento não devem estar incluidas no modelo final"
   ]
  },
  {
   "cell_type": "code",
   "execution_count": 1,
   "id": "reflected-gospel",
   "metadata": {},
   "outputs": [],
   "source": [
    "import os\n",
    "import time\n",
    "\n",
    "import cv2\n",
    "import numpy as np\n",
    "import tensorflow as tf\n",
    "from tensorflow import keras\n",
    "from tensorflow.python.framework.convert_to_constants import convert_variables_to_constants_v2"
   ]
  },
  {
   "cell_type": "markdown",
   "id": "determined-source",
   "metadata": {},
   "source": [
    "# Carregar modelo e alterar seu formato\n",
    "Por vezes salvar um modelo (.h5) sem otimizador conseguimos reduzir o tamanho do nosso modelo em até 3x, essas tipo de situação é mais recorrente quando utilizamos otimizadores como Adam, Adadelta, Adagrad, etc"
   ]
  },
  {
   "cell_type": "code",
   "execution_count": 2,
   "id": "nearby-studio",
   "metadata": {},
   "outputs": [],
   "source": [
    "MODEL_PATH = \"./nose_tracker_best_loss.h5\""
   ]
  },
  {
   "cell_type": "code",
   "execution_count": 3,
   "id": "computational-marshall",
   "metadata": {},
   "outputs": [
    {
     "name": "stdout",
     "output_type": "stream",
     "text": [
      "INFO:tensorflow:Assets written to: ./nose_tracker_best_loss\\assets\n"
     ]
    }
   ],
   "source": [
    "# Salva no formato keras e tensorflow\n",
    "keras_model = keras.models.load_model(MODEL_PATH, compile=False)\n",
    "keras_model.save(f\"{os.path.splitext(MODEL_PATH)[0]}_no_opt.h5\", include_optimizer=False)\n",
    "\n",
    "frozen_graph_filename = os.path.splitext(MODEL_PATH)[0]\n",
    "keras_model.save(frozen_graph_filename)"
   ]
  },
  {
   "cell_type": "markdown",
   "id": "visible-truth",
   "metadata": {},
   "source": [
    "# Congelar o grafo e remover variaveis de treinamento"
   ]
  },
  {
   "cell_type": "code",
   "execution_count": 4,
   "id": "tired-topic",
   "metadata": {},
   "outputs": [],
   "source": [
    "loaded = tf.saved_model.load(frozen_graph_filename)\n",
    "infer = loaded.signatures['serving_default']\n",
    "\n",
    "f = tf.function(infer).get_concrete_function(\n",
    "    **{keras_model.input.name: tf.TensorSpec(shape=keras_model.input_shape,\n",
    "                                                  dtype=tf.float32)})\n",
    "f2 = convert_variables_to_constants_v2(f)\n",
    "graph_def = f2.graph.as_graph_def()\n",
    "\n",
    "# Export frozen graph\n",
    "with tf.io.gfile.GFile(frozen_graph_filename + \".pb\", 'wb') as f:\n",
    "    f.write(graph_def.SerializeToString())"
   ]
  },
  {
   "cell_type": "markdown",
   "id": "exclusive-patrol",
   "metadata": {},
   "source": [
    "# Comparar predições Keras vs Opencv"
   ]
  },
  {
   "cell_type": "code",
   "execution_count": 5,
   "id": "recorded-amplifier",
   "metadata": {},
   "outputs": [
    {
     "name": "stdout",
     "output_type": "stream",
     "text": [
      "\n",
      "Prediction diff between opencv vs keras = 1.4901161193847656e-07\n"
     ]
    }
   ],
   "source": [
    "random_input = np.random.rand(*((1,) + tuple(keras_model.input.shape[1:]))).astype(np.float32)\n",
    "pred_keras = keras_model.predict(random_input)\n",
    "\n",
    "random_input = np.transpose(random_input, [0, 3, 1, 2])\n",
    "model_dnn = cv2.dnn.readNetFromTensorflow(f\"{frozen_graph_filename}.pb\")\n",
    "model_dnn.setInput(random_input)\n",
    "pred_opencv = model_dnn.forward()\n",
    "\n",
    "diff = abs(pred_keras - pred_opencv).sum()\n",
    "print(f\"\\nPrediction diff between opencv vs keras = {diff}\")\n"
   ]
  },
  {
   "cell_type": "markdown",
   "id": "martial-local",
   "metadata": {},
   "source": [
    "# Comaparar velocidade Keras vs Opencv"
   ]
  },
  {
   "cell_type": "code",
   "execution_count": 6,
   "id": "grave-oliver",
   "metadata": {},
   "outputs": [
    {
     "name": "stdout",
     "output_type": "stream",
     "text": [
      "4.687013387680054\n",
      "0.354564905166626\n"
     ]
    }
   ],
   "source": [
    "started_time = time.time()\n",
    "for _ in range(100):\n",
    "    random_input = np.random.rand(*((1,) + tuple(keras_model.input.shape[1:]))).astype(np.float32)\n",
    "    pred_keras = keras_model.predict(random_input)\n",
    "print(time.time() - started_time)\n",
    "\n",
    "started_time = time.time()\n",
    "for _ in range(100):\n",
    "    random_input = np.random.rand(*((1,) + tuple(keras_model.input.shape[1:]))).astype(np.float32)\n",
    "    random_input = np.transpose(random_input, [0, 3, 1, 2])\n",
    "    model_dnn.setInput(random_input)\n",
    "    pred_opencv = model_dnn.forward()\n",
    "print(time.time() - started_time)"
   ]
  },
  {
   "cell_type": "markdown",
   "id": "alien-remove",
   "metadata": {},
   "source": [
    "# Inferencia com Opencv"
   ]
  },
  {
   "cell_type": "code",
   "execution_count": 7,
   "id": "adjusted-scanner",
   "metadata": {},
   "outputs": [
    {
     "ename": "KeyboardInterrupt",
     "evalue": "",
     "output_type": "error",
     "traceback": [
      "\u001b[1;31m---------------------------------------------------------------------------\u001b[0m",
      "\u001b[1;31mKeyboardInterrupt\u001b[0m                         Traceback (most recent call last)",
      "\u001b[1;32m<ipython-input-7-68679cfa6a20>\u001b[0m in \u001b[0;36m<module>\u001b[1;34m\u001b[0m\n\u001b[0;32m     10\u001b[0m     \u001b[0mbatch\u001b[0m \u001b[1;33m=\u001b[0m \u001b[0mnp\u001b[0m\u001b[1;33m.\u001b[0m\u001b[0mtranspose\u001b[0m\u001b[1;33m(\u001b[0m\u001b[0mbatch\u001b[0m\u001b[1;33m,\u001b[0m \u001b[1;33m[\u001b[0m\u001b[1;36m0\u001b[0m\u001b[1;33m,\u001b[0m \u001b[1;36m3\u001b[0m\u001b[1;33m,\u001b[0m \u001b[1;36m1\u001b[0m\u001b[1;33m,\u001b[0m \u001b[1;36m2\u001b[0m\u001b[1;33m]\u001b[0m\u001b[1;33m)\u001b[0m\u001b[1;33m\u001b[0m\u001b[1;33m\u001b[0m\u001b[0m\n\u001b[0;32m     11\u001b[0m     \u001b[0mmodel_dnn\u001b[0m\u001b[1;33m.\u001b[0m\u001b[0msetInput\u001b[0m\u001b[1;33m(\u001b[0m\u001b[0mbatch\u001b[0m\u001b[1;33m)\u001b[0m\u001b[1;33m\u001b[0m\u001b[1;33m\u001b[0m\u001b[0m\n\u001b[1;32m---> 12\u001b[1;33m     \u001b[0mx\u001b[0m\u001b[1;33m,\u001b[0m \u001b[0my\u001b[0m \u001b[1;33m=\u001b[0m \u001b[0mmodel_dnn\u001b[0m\u001b[1;33m.\u001b[0m\u001b[0mforward\u001b[0m\u001b[1;33m(\u001b[0m\u001b[1;33m)\u001b[0m\u001b[1;33m[\u001b[0m\u001b[1;36m0\u001b[0m\u001b[1;33m]\u001b[0m\u001b[1;33m\u001b[0m\u001b[1;33m\u001b[0m\u001b[0m\n\u001b[0m\u001b[0;32m     13\u001b[0m     \u001b[0mx\u001b[0m \u001b[1;33m=\u001b[0m \u001b[0mint\u001b[0m\u001b[1;33m(\u001b[0m\u001b[0mx\u001b[0m\u001b[1;33m*\u001b[0m\u001b[0mframe\u001b[0m\u001b[1;33m.\u001b[0m\u001b[0mshape\u001b[0m\u001b[1;33m[\u001b[0m\u001b[1;36m1\u001b[0m\u001b[1;33m]\u001b[0m\u001b[1;33m)\u001b[0m\u001b[1;33m\u001b[0m\u001b[1;33m\u001b[0m\u001b[0m\n\u001b[0;32m     14\u001b[0m     \u001b[0my\u001b[0m \u001b[1;33m=\u001b[0m \u001b[0mint\u001b[0m\u001b[1;33m(\u001b[0m\u001b[0my\u001b[0m\u001b[1;33m*\u001b[0m\u001b[0mframe\u001b[0m\u001b[1;33m.\u001b[0m\u001b[0mshape\u001b[0m\u001b[1;33m[\u001b[0m\u001b[1;36m0\u001b[0m\u001b[1;33m]\u001b[0m\u001b[1;33m)\u001b[0m\u001b[1;33m\u001b[0m\u001b[1;33m\u001b[0m\u001b[0m\n",
      "\u001b[1;31mKeyboardInterrupt\u001b[0m: "
     ]
    }
   ],
   "source": [
    "cap = cv2.VideoCapture(0)\n",
    "\n",
    "while True:\n",
    "    ret, frame = cap.read()\n",
    "    if not ret:\n",
    "        raise Exception(\"Ooops...\")\n",
    "    batch = cv2.resize(frame, (112, 112))\n",
    "    batch = batch / 255\n",
    "    batch = batch[np.newaxis]\n",
    "    batch = np.transpose(batch, [0, 3, 1, 2])\n",
    "    model_dnn.setInput(batch)\n",
    "    x, y = model_dnn.forward()[0]\n",
    "    x = int(x*frame.shape[1])\n",
    "    y = int(y*frame.shape[0])\n",
    "    cv2.circle(frame, (x, y), 10, (0, 0, 255), -1)\n",
    "    cv2.imshow(\"debug\", frame)\n",
    "    key = cv2.waitKey(1)\n",
    "    if key == ord(\"q\"):\n",
    "        break\n",
    "cv2.destroyAllWindows()\n",
    "cap.release()"
   ]
  },
  {
   "cell_type": "code",
   "execution_count": null,
   "id": "statewide-diagram",
   "metadata": {},
   "outputs": [],
   "source": []
  }
 ],
 "metadata": {
  "kernelspec": {
   "display_name": "Python 3",
   "language": "python",
   "name": "python3"
  },
  "language_info": {
   "codemirror_mode": {
    "name": "ipython",
    "version": 3
   },
   "file_extension": ".py",
   "mimetype": "text/x-python",
   "name": "python",
   "nbconvert_exporter": "python",
   "pygments_lexer": "ipython3",
   "version": "3.6.8"
  }
 },
 "nbformat": 4,
 "nbformat_minor": 5
}
