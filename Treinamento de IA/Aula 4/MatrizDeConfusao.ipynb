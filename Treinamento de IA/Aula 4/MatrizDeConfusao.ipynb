{
 "cells": [
  {
   "cell_type": "code",
   "execution_count": null,
   "metadata": {},
   "outputs": [],
   "source": [
    "# vendo parametros e matriz de confusão ->  \n",
    "import seaborn as sns\n",
    "import numpy as np\n",
    "import matplotlib.pyplot as plt\n",
    "import pandas as pd\n",
    "from sklearn import metrics\n",
    "\n",
    "dados_de_teste = {\n",
    "'Resultado_Predito_Virus': ['Tem Vírus', 'Não tem Vírus', 'Tem Vírus', 'Tem Vírus', 'Não tem Vírus', 'Tem Vírus', 'Tem Vírus', 'Tem Vírus', 'Tem Vírus', 'Tem Vírus'], \n",
    "\n",
    "'Resultado_Real_Virus'   : ['Tem Vírus', 'Não tem Vírus', 'Tem Vírus', 'Tem Vírus', 'Tem Vírus', 'Não tem Vírus', 'Tem Vírus', 'Não tem Vírus', 'Tem Vírus', 'Tem Vírus']\n",
    "}\n",
    "\n",
    "df = pd.DataFrame(matriz_confusaom )"
   ]
  }
 ],
 "metadata": {
  "language_info": {
   "name": "python"
  },
  "orig_nbformat": 4
 },
 "nbformat": 4,
 "nbformat_minor": 2
}
