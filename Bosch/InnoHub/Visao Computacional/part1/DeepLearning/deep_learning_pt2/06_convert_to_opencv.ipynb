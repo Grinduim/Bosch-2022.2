{
 "cells": [
  {
   "cell_type": "markdown",
   "id": "advance-operations",
   "metadata": {},
   "source": [
    "# Converter um modelo do keras para tensorflow\n",
    "\n",
    "Ao utilizar o modulo DNN do opencv é possível que possamos rodar o modelo do tensorflow diretamente com o Opencv, contudo pra que isso seja possível, devemos respeitar algumas limitações do modulo OpenCV.\n",
    "Algumas limitações conhecidas:\n",
    "* Não há suporte direto para ativações LeaKY ReLU\n",
    "* O modelo deve estar no formato .pb e não .h5 (keras)\n",
    "* Variaveis de treinamento não devem estar incluidas no modelo final"
   ]
  },
  {
   "cell_type": "code",
   "execution_count": 1,
   "id": "reflected-gospel",
   "metadata": {},
   "outputs": [],
   "source": [
    "import os\n",
    "import time\n",
    "\n",
    "import cv2\n",
    "import numpy as np\n",
    "import tensorflow as tf\n",
    "from tensorflow import keras\n",
    "from tensorflow.python.framework.convert_to_constants import convert_variables_to_constants_v2"
   ]
  },
  {
   "cell_type": "markdown",
   "id": "determined-source",
   "metadata": {},
   "source": [
    "# Carregar modelo e alterar seu formato\n",
    "Por vezes salvar um modelo (.h5) sem otimizador conseguimos reduzir o tamanho do nosso modelo em até 3x, essas tipo de situação é mais recorrente quando utilizamos otimizadores como Adam, Adadelta, Adagrad, etc"
   ]
  },
  {
   "cell_type": "code",
   "execution_count": 2,
   "id": "nearby-studio",
   "metadata": {},
   "outputs": [],
   "source": [
    "MODEL_PATH = \"./nose_tracker_best_loss.h5\""
   ]
  },
  {
   "cell_type": "code",
   "execution_count": 4,
   "id": "computational-marshall",
   "metadata": {},
   "outputs": [
    {
     "name": "stdout",
     "output_type": "stream",
     "text": [
      "WARNING:tensorflow:Compiled the loaded model, but the compiled metrics have yet to be built. `model.compile_metrics` will be empty until you train or evaluate the model.\n",
      "WARNING:tensorflow:Compiled the loaded model, but the compiled metrics have yet to be built. `model.compile_metrics` will be empty until you train or evaluate the model.\n"
     ]
    },
    {
     "name": "stderr",
     "output_type": "stream",
     "text": [
      "WARNING:absl:Found untraced functions such as _jit_compiled_convolution_op, _jit_compiled_convolution_op, _jit_compiled_convolution_op, _jit_compiled_convolution_op, _jit_compiled_convolution_op while saving (showing 5 of 21). These functions will not be directly callable after loading.\n"
     ]
    },
    {
     "name": "stdout",
     "output_type": "stream",
     "text": [
      "INFO:tensorflow:Assets written to: ./nose_tracker_best_loss\\assets\n"
     ]
    },
    {
     "name": "stderr",
     "output_type": "stream",
     "text": [
      "INFO:tensorflow:Assets written to: ./nose_tracker_best_loss\\assets\n"
     ]
    }
   ],
   "source": [
    "# Salva no formato keras e tensorflow\n",
    "keras_model = keras.models.load_model(MODEL_PATH, compile=False)\n",
    "keras_model.save(f\"{os.path.splitext(MODEL_PATH)[0]}_no_opt.h5\", include_optimizer=False)\n",
    "\n",
    "frozen_graph_filename = os.path.splitext(MODEL_PATH)[0]\n",
    "keras_model.save(frozen_graph_filename)"
   ]
  },
  {
   "cell_type": "markdown",
   "id": "visible-truth",
   "metadata": {},
   "source": [
    "# Congelar o grafo e remover variaveis de treinamento"
   ]
  },
  {
   "cell_type": "code",
   "execution_count": 5,
   "id": "tired-topic",
   "metadata": {},
   "outputs": [],
   "source": [
    "loaded = tf.saved_model.load(frozen_graph_filename)\n",
    "infer = loaded.signatures['serving_default']\n",
    "\n",
    "f = tf.function(infer).get_concrete_function(\n",
    "    **{keras_model.input.name: tf.TensorSpec(shape=keras_model.input_shape,\n",
    "                                                  dtype=tf.float32)})\n",
    "f2 = convert_variables_to_constants_v2(f)\n",
    "graph_def = f2.graph.as_graph_def()\n",
    "\n",
    "# Export frozen graph\n",
    "with tf.io.gfile.GFile(frozen_graph_filename + \".pb\", 'wb') as f:\n",
    "    f.write(graph_def.SerializeToString())"
   ]
  },
  {
   "cell_type": "markdown",
   "id": "exclusive-patrol",
   "metadata": {},
   "source": [
    "# Comparar predições Keras vs Opencv"
   ]
  },
  {
   "cell_type": "code",
   "execution_count": 6,
   "id": "recorded-amplifier",
   "metadata": {},
   "outputs": [
    {
     "name": "stdout",
     "output_type": "stream",
     "text": [
      "1/1 [==============================] - 1s 880ms/step\n"
     ]
    },
    {
     "ename": "error",
     "evalue": "OpenCV(4.6.0) D:\\a\\opencv-python\\opencv-python\\opencv\\modules\\dnn\\src\\net.cpp:79: error: (-215:Assertion failed) !empty() in function 'cv::dnn::dnn4_v20220524::Net::forward'\n",
     "output_type": "error",
     "traceback": [
      "\u001b[1;31m---------------------------------------------------------------------------\u001b[0m",
      "\u001b[1;31merror\u001b[0m                                     Traceback (most recent call last)",
      "Cell \u001b[1;32mIn [6], line 7\u001b[0m\n\u001b[0;32m      5\u001b[0m model_dnn \u001b[38;5;241m=\u001b[39m cv2\u001b[38;5;241m.\u001b[39mdnn\u001b[38;5;241m.\u001b[39mreadNetFromTensorflow(\u001b[38;5;124mf\u001b[39m\u001b[38;5;124m\"\u001b[39m\u001b[38;5;132;01m{\u001b[39;00mfrozen_graph_filename\u001b[38;5;132;01m}\u001b[39;00m\u001b[38;5;124m.pb\u001b[39m\u001b[38;5;124m\"\u001b[39m)\n\u001b[0;32m      6\u001b[0m model_dnn\u001b[38;5;241m.\u001b[39msetInput(random_input)\n\u001b[1;32m----> 7\u001b[0m pred_opencv \u001b[38;5;241m=\u001b[39m \u001b[43mmodel_dnn\u001b[49m\u001b[38;5;241;43m.\u001b[39;49m\u001b[43mforward\u001b[49m\u001b[43m(\u001b[49m\u001b[43m)\u001b[49m\n\u001b[0;32m      9\u001b[0m diff \u001b[38;5;241m=\u001b[39m \u001b[38;5;28mabs\u001b[39m(pred_keras \u001b[38;5;241m-\u001b[39m pred_opencv)\u001b[38;5;241m.\u001b[39msum()\n\u001b[0;32m     10\u001b[0m \u001b[38;5;28mprint\u001b[39m(\u001b[38;5;124mf\u001b[39m\u001b[38;5;124m\"\u001b[39m\u001b[38;5;130;01m\\n\u001b[39;00m\u001b[38;5;124mPrediction diff between opencv vs keras = \u001b[39m\u001b[38;5;132;01m{\u001b[39;00mdiff\u001b[38;5;132;01m}\u001b[39;00m\u001b[38;5;124m\"\u001b[39m)\n",
      "\u001b[1;31merror\u001b[0m: OpenCV(4.6.0) D:\\a\\opencv-python\\opencv-python\\opencv\\modules\\dnn\\src\\net.cpp:79: error: (-215:Assertion failed) !empty() in function 'cv::dnn::dnn4_v20220524::Net::forward'\n"
     ]
    }
   ],
   "source": [
    "random_input = np.random.rand(*((1,) + tuple(keras_model.input.shape[1:]))).astype(np.float32)\n",
    "pred_keras = keras_model.predict(random_input)\n",
    "\n",
    "random_input = np.transpose(random_input, [0, 3, 1, 2])\n",
    "model_dnn = cv2.dnn.readNetFromTensorflow(f\"{frozen_graph_filename}.pb\")\n",
    "model_dnn.setInput(random_input)\n",
    "pred_opencv = model_dnn.forward()\n",
    "\n",
    "diff = abs(pred_keras - pred_opencv).sum()\n",
    "print(f\"\\nPrediction diff between opencv vs keras = {diff}\")\n"
   ]
  },
  {
   "cell_type": "markdown",
   "id": "martial-local",
   "metadata": {},
   "source": [
    "# Comaparar velocidade Keras vs Opencv"
   ]
  },
  {
   "cell_type": "code",
   "execution_count": null,
   "id": "grave-oliver",
   "metadata": {},
   "outputs": [],
   "source": [
    "started_time = time.time()\n",
    "for _ in range(100):\n",
    "    random_input = np.random.rand(*((1,) + tuple(keras_model.input.shape[1:]))).astype(np.float32)\n",
    "    pred_keras = keras_model.predict(random_input)\n",
    "print(time.time() - started_time)\n",
    "\n",
    "started_time = time.time()\n",
    "for _ in range(100):\n",
    "    random_input = np.random.rand(*((1,) + tuple(keras_model.input.shape[1:]))).astype(np.float32)\n",
    "    random_input = np.transpose(random_input, [0, 3, 1, 2])\n",
    "    model_dnn.setInput(random_input)\n",
    "    pred_opencv = model_dnn.forward()\n",
    "print(time.time() - started_time)"
   ]
  },
  {
   "cell_type": "markdown",
   "id": "alien-remove",
   "metadata": {},
   "source": [
    "# Inferencia com Opencv"
   ]
  },
  {
   "cell_type": "code",
   "execution_count": null,
   "id": "adjusted-scanner",
   "metadata": {},
   "outputs": [],
   "source": [
    "cap = cv2.VideoCapture(0)\n",
    "\n",
    "while True:\n",
    "    ret, frame = cap.read()\n",
    "    if not ret:\n",
    "        raise Exception(\"Ooops...\")\n",
    "    batch = cv2.resize(frame, (112, 112))\n",
    "    batch = batch / 255\n",
    "    batch = batch[np.newaxis]\n",
    "    batch = np.transpose(batch, [0, 3, 1, 2])\n",
    "    model_dnn.setInput(batch)\n",
    "    x, y = model_dnn.forward()[0]\n",
    "    x = int(x*frame.shape[1])\n",
    "    y = int(y*frame.shape[0])\n",
    "    cv2.circle(frame, (x, y), 10, (0, 0, 255), -1)\n",
    "    cv2.imshow(\"debug\", frame)\n",
    "    key = cv2.waitKey(1)\n",
    "    if key == ord(\"q\"):\n",
    "        break\n",
    "cv2.destroyAllWindows()\n",
    "cap.release()"
   ]
  },
  {
   "cell_type": "code",
   "execution_count": null,
   "id": "statewide-diagram",
   "metadata": {},
   "outputs": [],
   "source": []
  }
 ],
 "metadata": {
  "kernelspec": {
   "display_name": "Python 3.10.6 ('venv': venv)",
   "language": "python",
   "name": "python3"
  },
  "language_info": {
   "codemirror_mode": {
    "name": "ipython",
    "version": 3
   },
   "file_extension": ".py",
   "mimetype": "text/x-python",
   "name": "python",
   "nbconvert_exporter": "python",
   "pygments_lexer": "ipython3",
   "version": "3.10.6"
  },
  "vscode": {
   "interpreter": {
    "hash": "a80b582d59fa5d074de585d748d2a0bbed64151eee73640ea315bbdba31157ac"
   }
  }
 },
 "nbformat": 4,
 "nbformat_minor": 5
}
