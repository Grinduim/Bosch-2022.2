{
 "cells": [
  {
   "cell_type": "markdown",
   "metadata": {},
   "source": [
    "Para este exercício, vamos utilizar os 10 primeiros dias da tabela utilizada na problemática (que será mostrada no próximo slide), para saber se o time irá treinar ou não. Utilizando Python, construa:\n"
   ]
  },
  {
   "cell_type": "code",
   "execution_count": 2,
   "metadata": {},
   "outputs": [],
   "source": [
    "import pandas as pd\n",
    "import numpy as np\n",
    "from sklearn  import preprocessing\n",
    "from sklearn.naive_bayes import GaussianNB"
   ]
  },
  {
   "cell_type": "code",
   "execution_count": 3,
   "metadata": {},
   "outputs": [],
   "source": [
    "dados = {\n",
    "    'Tempo':[\"Ensolarado\",\"Ensolarado\",\"Nublado\",\"Chuvoso\",\"Chuvoso\",\"Chuvoso\",\"Nublado\",\"Ensolarado\",\"Ensolarado\",\"Chuvoso\"],\n",
    "    'Humidade':[\"Alta\",\"Alta\",\"Alta\",\"Alta\",\"Normal\",\"Normal\",\"Normal\",\"Alta\",\"Normal\",\"Normal\"],\n",
    "    'Vento':[\"Fraco\",\"Forte\",\"Fraco\",\"Fraco\",\"Fraco\",\"Forte\",\"Forte\",\"Fraco\",\"Fraco\",\"Fraco\"],\n",
    "    'Treinou':[\"Não\",\"Não\",\"Sim\",\"Sim\",\"Sim\",\"Não\",\"Sim\",\"Não\",\"Sim\",\"Sim\"],\n",
    "}\n",
    "dados = pd.DataFrame(dados)"
   ]
  },
  {
   "cell_type": "code",
   "execution_count": 4,
   "metadata": {},
   "outputs": [],
   "source": [
    "# Criando p LabelEncoder\n",
    "tempo_lbEncoder  = preprocessing.LabelEncoder()\n",
    "humidade_lbEncoder = preprocessing.LabelEncoder()\n",
    "vento_lbEncoder = preprocessing.LabelEncoder()\n",
    "treino_lbEncoder = preprocessing.LabelEncoder()"
   ]
  },
  {
   "cell_type": "code",
   "execution_count": 5,
   "metadata": {},
   "outputs": [
    {
     "name": "stdout",
     "output_type": "stream",
     "text": [
      "\n"
     ]
    }
   ],
   "source": [
    "# usando o label enconder para atribuir numero as variasveis\n",
    "''' Aqui basicamente, o enconder associa cada label em um numero, mas não substituir'''\n",
    "tempo_lbEncoder.fit(dados[\"Tempo\"].unique())\n",
    "vento_lbEncoder.fit(dados[\"Vento\"].unique())\n",
    "treino_lbEncoder.fit(dados[\"Treinou\"].unique())\n",
    "humidade_lbEncoder.fit(dados[\"Humidade\"].unique())\n",
    "print()"
   ]
  },
  {
   "cell_type": "code",
   "execution_count": 6,
   "metadata": {},
   "outputs": [],
   "source": [
    "#transformando o dataset qualitativo em quantitativo\n",
    "'''Já Aqui ele faz a tranformação/substituição nos valores'''\n",
    "dados[\"Tempo\"] = tempo_lbEncoder.transform(dados[\"Tempo\"])\n",
    "dados[\"Humidade\"] = humidade_lbEncoder.transform(dados[\"Humidade\"])\n",
    "dados[\"Vento\"] = vento_lbEncoder.transform(dados[\"Vento\"])\n",
    "dados[\"Treinou\"] = treino_lbEncoder.transform(dados[\"Treinou\"])"
   ]
  },
  {
   "cell_type": "code",
   "execution_count": 7,
   "metadata": {},
   "outputs": [],
   "source": [
    "#Separando o dataset nas variaveis dependentes e independentes\n",
    "previsor = dados[[\"Tempo\",\"Humidade\",\"Vento\"]] #basicamente os independentes \n",
    "classe = dados[\"Treinou\"] # variavel dependente"
   ]
  },
  {
   "cell_type": "code",
   "execution_count": 8,
   "metadata": {},
   "outputs": [
    {
     "name": "stdout",
     "output_type": "stream",
     "text": [
      "\n"
     ]
    }
   ],
   "source": [
    "# criando e classificando o naiveBayes\n",
    "gnb = GaussianNB()\n",
    "gnb.fit(previsor,classe)\n",
    "print()"
   ]
  },
  {
   "cell_type": "code",
   "execution_count": 9,
   "metadata": {},
   "outputs": [
    {
     "name": "stdout",
     "output_type": "stream",
     "text": [
      "Precisão de 90.0%\n"
     ]
    }
   ],
   "source": [
    "#precisao do modelo\n",
    "print(f\"Precisão de {gnb.score(previsor,classe)*100}%\")"
   ]
  },
  {
   "cell_type": "code",
   "execution_count": 10,
   "metadata": {},
   "outputs": [],
   "source": [
    "#Testando os dados no modelo \n",
    "dados_prev = {\n",
    "    'Tempo':[\"Ensolarado\",\"Nublado\",\"Nublado\",\"Chuvoso\"],\n",
    "    'Humidade':[\"Normal\",\"Alta\",\"Normal\",\"Alta\"],\n",
    "    'Vento':[\"Forte\",\"Forte\",\"Fraco\",\"Forte\"],\n",
    "}\n",
    "dados_prev = pd.DataFrame(dados_prev)\n",
    "\n",
    "#transformando dados qualitativos em quantificados\n",
    "dados_prev[\"Tempo\"] = tempo_lbEncoder.transform(dados_prev[\"Tempo\"])\n",
    "dados_prev[\"Humidade\"] = humidade_lbEncoder.transform(dados_prev[\"Humidade\"])\n",
    "dados_prev[\"Vento\"] = vento_lbEncoder.transform(dados_prev[\"Vento\"])"
   ]
  },
  {
   "cell_type": "code",
   "execution_count": 11,
   "metadata": {},
   "outputs": [
    {
     "name": "stdout",
     "output_type": "stream",
     "text": [
      "[0 1 1 0]\n",
      "['Não' 'Sim' 'Sim' 'Não']\n",
      "[[0.6715144  0.3284856 ]\n",
      " [0.40756566 0.59243434]\n",
      " [0.00771096 0.99228904]\n",
      " [0.86747732 0.13252268]]\n"
     ]
    }
   ],
   "source": [
    "print(gnb.predict(dados_prev))\n",
    "print(treino_lbEncoder.inverse_transform(gnb.predict(dados_prev)))\n",
    "print(gnb.predict_proba(dados_prev))"
   ]
  }
 ],
 "metadata": {
  "kernelspec": {
   "display_name": "Python 3.10.6 64-bit",
   "language": "python",
   "name": "python3"
  },
  "language_info": {
   "codemirror_mode": {
    "name": "ipython",
    "version": 3
   },
   "file_extension": ".py",
   "mimetype": "text/x-python",
   "name": "python",
   "nbconvert_exporter": "python",
   "pygments_lexer": "ipython3",
   "version": "3.10.6"
  },
  "orig_nbformat": 4,
  "vscode": {
   "interpreter": {
    "hash": "26de051ba29f2982a8de78e945f0abaf191376122a1563185a90213a26c5da77"
   }
  }
 },
 "nbformat": 4,
 "nbformat_minor": 2
}
