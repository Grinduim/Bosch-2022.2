{
 "cells": [
  {
   "cell_type": "code",
   "execution_count": 6,
   "metadata": {},
   "outputs": [
    {
     "name": "stdout",
     "output_type": "stream",
     "text": [
      "array normal: [ 0  1  2  3  4  5  6  7  8  9 10 11 12 13 14 15]\n",
      "array booll: [False  True False  True False  True False  True False  True False  True\n",
      " False  True False  True]\n",
      "arrau impar: [ 1  3  5  7  9 11 13 15]\n"
     ]
    }
   ],
   "source": [
    "import numpy as np\n",
    "array = np.arange(16)\n",
    "print(f\"array normal: {array}\")\n",
    "array_bool = (array%2!=0)\n",
    "print(f\"array booll: {array_bool}\")\n",
    "array_impar = array[array%2!=0]\n",
    "print(f\"arrau impar: {array_impar}\")"
   ]
  }
 ],
 "metadata": {
  "kernelspec": {
   "display_name": "Python 3.10.6 64-bit",
   "language": "python",
   "name": "python3"
  },
  "language_info": {
   "codemirror_mode": {
    "name": "ipython",
    "version": 3
   },
   "file_extension": ".py",
   "mimetype": "text/x-python",
   "name": "python",
   "nbconvert_exporter": "python",
   "pygments_lexer": "ipython3",
   "version": "3.10.6"
  },
  "orig_nbformat": 4,
  "vscode": {
   "interpreter": {
    "hash": "26de051ba29f2982a8de78e945f0abaf191376122a1563185a90213a26c5da77"
   }
  }
 },
 "nbformat": 4,
 "nbformat_minor": 2
}
