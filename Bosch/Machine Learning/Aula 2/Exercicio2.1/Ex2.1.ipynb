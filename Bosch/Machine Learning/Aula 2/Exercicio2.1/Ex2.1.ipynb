{
 "cells": [
  {
   "cell_type": "markdown",
   "metadata": {},
   "source": [
    "Uma fábrica produz massa pronta para pasteis. Diariamente é medida a densidade da mistura das massas em máquinas diferentes. Dadas as medições a seguir, calcule a média, mediana, desvio padrão e crie o gráfico boxplot utilizando a biblioteca pandas.\n"
   ]
  },
  {
   "cell_type": "code",
   "execution_count": 22,
   "metadata": {},
   "outputs": [],
   "source": [
    "import pandas as pd \n",
    "import seaborn as sns"
   ]
  },
  {
   "cell_type": "code",
   "execution_count": 23,
   "metadata": {},
   "outputs": [
    {
     "data": {
      "text/html": [
       "<div>\n",
       "<style scoped>\n",
       "    .dataframe tbody tr th:only-of-type {\n",
       "        vertical-align: middle;\n",
       "    }\n",
       "\n",
       "    .dataframe tbody tr th {\n",
       "        vertical-align: top;\n",
       "    }\n",
       "\n",
       "    .dataframe thead th {\n",
       "        text-align: right;\n",
       "    }\n",
       "</style>\n",
       "<table border=\"1\" class=\"dataframe\">\n",
       "  <thead>\n",
       "    <tr style=\"text-align: right;\">\n",
       "      <th></th>\n",
       "      <th>Mistura 1</th>\n",
       "      <th>Mistura 2</th>\n",
       "      <th>Mistura 3</th>\n",
       "    </tr>\n",
       "  </thead>\n",
       "  <tbody>\n",
       "    <tr>\n",
       "      <th>0</th>\n",
       "      <td>22.02</td>\n",
       "      <td>21.49</td>\n",
       "      <td>20.33</td>\n",
       "    </tr>\n",
       "    <tr>\n",
       "      <th>1</th>\n",
       "      <td>23.83</td>\n",
       "      <td>22.67</td>\n",
       "      <td>21.67</td>\n",
       "    </tr>\n",
       "    <tr>\n",
       "      <th>2</th>\n",
       "      <td>26.67</td>\n",
       "      <td>24.62</td>\n",
       "      <td>24.67</td>\n",
       "    </tr>\n",
       "    <tr>\n",
       "      <th>3</th>\n",
       "      <td>25.38</td>\n",
       "      <td>24.18</td>\n",
       "      <td>22.45</td>\n",
       "    </tr>\n",
       "    <tr>\n",
       "      <th>4</th>\n",
       "      <td>25.49</td>\n",
       "      <td>22.78</td>\n",
       "      <td>22.29</td>\n",
       "    </tr>\n",
       "    <tr>\n",
       "      <th>5</th>\n",
       "      <td>23.50</td>\n",
       "      <td>22.56</td>\n",
       "      <td>21.95</td>\n",
       "    </tr>\n",
       "    <tr>\n",
       "      <th>6</th>\n",
       "      <td>25.90</td>\n",
       "      <td>24.46</td>\n",
       "      <td>20.49</td>\n",
       "    </tr>\n",
       "    <tr>\n",
       "      <th>7</th>\n",
       "      <td>24.89</td>\n",
       "      <td>23.79</td>\n",
       "      <td>21.81</td>\n",
       "    </tr>\n",
       "    <tr>\n",
       "      <th>8</th>\n",
       "      <td>22.02</td>\n",
       "      <td>22.02</td>\n",
       "      <td>22.02</td>\n",
       "    </tr>\n",
       "    <tr>\n",
       "      <th>9</th>\n",
       "      <td>23.83</td>\n",
       "      <td>22.02</td>\n",
       "      <td>22.02</td>\n",
       "    </tr>\n",
       "  </tbody>\n",
       "</table>\n",
       "</div>"
      ],
      "text/plain": [
       "   Mistura 1  Mistura 2  Mistura 3\n",
       "0      22.02      21.49      20.33\n",
       "1      23.83      22.67      21.67\n",
       "2      26.67      24.62      24.67\n",
       "3      25.38      24.18      22.45\n",
       "4      25.49      22.78      22.29\n",
       "5      23.50      22.56      21.95\n",
       "6      25.90      24.46      20.49\n",
       "7      24.89      23.79      21.81\n",
       "8      22.02      22.02      22.02\n",
       "9      23.83      22.02      22.02"
      ]
     },
     "execution_count": 23,
     "metadata": {},
     "output_type": "execute_result"
    }
   ],
   "source": [
    "dados = {'Mistura 1': [22.02, 23.83, 26.67, 25.38, 25.49, 23.50, 25.90, 24.89, 22.02,23.83],\n",
    "         'Mistura 2': [21.49, 22.67, 24.62, 24.18, 22.78, 22.56, 24.46, 23.79, 22.02,22.02],\n",
    "         'Mistura 3': [20.33, 21.67, 24.67, 22.45, 22.29, 21.95, 20.49, 21.81, 22.02,22.02]}\n",
    "dados = pd.DataFrame(dados)\n",
    "dados"
   ]
  },
  {
   "cell_type": "code",
   "execution_count": 24,
   "metadata": {},
   "outputs": [],
   "source": [
    "mist_1 = dados.iloc[:,0]\n",
    "mist_2 = dados.iloc[:,1]\n",
    "mist_3 = dados.iloc[:,2]"
   ]
  },
  {
   "cell_type": "code",
   "execution_count": 25,
   "metadata": {},
   "outputs": [
    {
     "name": "stdout",
     "output_type": "stream",
     "text": [
      "Media: 24.353\n",
      "Mediana: 24.36\n",
      "Desvio : 1.5831757816349883\n"
     ]
    }
   ],
   "source": [
    "\n",
    "# mistura 1 \n",
    "print(f\"Media: {mist_1.mean()}\")\n",
    "print(f\"Mediana: {mist_1.median()}\")\n",
    "print(f\"Desvio : {mist_1.std()}\")\n"
   ]
  },
  {
   "cell_type": "code",
   "execution_count": 26,
   "metadata": {},
   "outputs": [
    {
     "name": "stdout",
     "output_type": "stream",
     "text": [
      "Media: 23.059000000000005\n",
      "Mediana: 22.725\n",
      "Desvio : 1.1199945436375032\n"
     ]
    }
   ],
   "source": [
    "# mistura 2 \n",
    "print(f\"Media: {mist_2.mean()}\")\n",
    "print(f\"Mediana: {mist_2.median()}\")\n",
    "print(f\"Desvio : {mist_2.std()}\")\n"
   ]
  },
  {
   "cell_type": "code",
   "execution_count": 27,
   "metadata": {},
   "outputs": [
    {
     "name": "stdout",
     "output_type": "stream",
     "text": [
      "Media: 21.970000000000002\n",
      "Mediana: 21.985\n",
      "Desvio : 1.1843329111548182\n"
     ]
    }
   ],
   "source": [
    "# mistura 1 \n",
    "print(f\"Media: {mist_3.mean()}\")\n",
    "print(f\"Mediana: {mist_3.median()}\")\n",
    "print(f\"Desvio : {mist_3.std()}\")\n"
   ]
  },
  {
   "cell_type": "code",
   "execution_count": 28,
   "metadata": {},
   "outputs": [
    {
     "data": {
      "image/png": "[encoded data removed]",
      "text/plain": [
       "<Figure size 640x480 with 1 Axes>"
      ]
     },
     "metadata": {},
     "output_type": "display_data"
    }
   ],
   "source": [
    "plot = dados.boxplot(column=[\"Mistura 1\", \"Mistura 2\", \"Mistura 3\"], grid = False)"
   ]
  },
  {
   "cell_type": "code",
   "execution_count": null,
   "metadata": {},
   "outputs": [],
   "source": [
    "sns.catplot(data=dados, kind=\"swarm\", y=\"total_bill\")"
   ]
  }
 ],
 "metadata": {
  "kernelspec": {
   "display_name": "Python 3.10.6 64-bit",
   "language": "python",
   "name": "python3"
  },
  "language_info": {
   "codemirror_mode": {
    "name": "ipython",
    "version": 3
   },
   "file_extension": ".py",
   "mimetype": "text/x-python",
   "name": "python",
   "nbconvert_exporter": "python",
   "pygments_lexer": "ipython3",
   "version": "3.10.6"
  },
  "orig_nbformat": 4,
  "vscode": {
   "interpreter": {
    "hash": "26de051ba29f2982a8de78e945f0abaf191376122a1563185a90213a26c5da77"
   }
  }
 },
 "nbformat": 4,
 "nbformat_minor": 2
}
