{
 "cells": [
  {
   "cell_type": "code",
   "execution_count": 2,
   "metadata": {},
   "outputs": [],
   "source": [
    "import cv2\n",
    "import numpy as np\n",
    "import random\n"
   ]
  },
  {
   "cell_type": "code",
   "execution_count": 22,
   "metadata": {},
   "outputs": [],
   "source": [
    "def doguinho():\n",
    "    doguinho = cv2.imread(\"doguinhons/dog.jpg\")\n",
    "    doguinho_hsv = cv2.cvtColor(doguinho, cv2.COLOR_BGR2HSV)\n",
    "    doguinho_wb = cv2.cvtColor(doguinho, cv2.COLOR_BGR2GRAY)\n",
    "    cv2.imshow(\"cinza\", doguinho_wb)\n",
    "    cv2.imshow(\"RGB\", doguinho)\n",
    "    cv2.imshow(\"Outra escala\", doguinho_hsv)\n",
    "    cv2.waitKey(0) & 0xFF\n",
    "    cv2.destroyAllWindows()\n"
   ]
  },
  {
   "cell_type": "code",
   "execution_count": 10,
   "metadata": {},
   "outputs": [],
   "source": [
    "\n",
    "def funcao(event, x, y, flags, param):\n",
    "    global a, b, c\n",
    "    if event == cv2.EVENT_LBUTTONDOWN:\n",
    "        a = random.randint(0, 255)\n",
    "        b = random.randint(0, 255)\n",
    "        c = random.randint(0, 255)\n",
    "\n",
    "\n",
    "a = 0\n",
    "b = 0\n",
    "c = 0\n",
    "cv2.namedWindow(\"janela\")\n",
    "cv2.setMouseCallback(\"janela\", funcao)\n",
    "while(True):\n",
    "    img = np.full((512, 512, 3), (a, b, c), np.uint8)\n",
    "    cv2.imshow('janela', img)\n",
    "    if cv2.waitKey(10) & 0xFF == 27:\n",
    "        break\n",
    "cv2.destroyAllWindows()\n"
   ]
  },
  {
   "cell_type": "markdown",
   "metadata": {},
   "source": [
    "# Exercicio, scrool - bola azul, double click verde\n"
   ]
  },
  {
   "cell_type": "code",
   "execution_count": 39,
   "metadata": {},
   "outputs": [
    {
     "ename": "KeyboardInterrupt",
     "evalue": "",
     "output_type": "error",
     "traceback": [
      "\u001b[1;31m---------------------------------------------------------------------------\u001b[0m",
      "\u001b[1;31mKeyboardInterrupt\u001b[0m                         Traceback (most recent call last)",
      "\u001b[1;32m<ipython-input-39-e8b86efc6eae>\u001b[0m in \u001b[0;36m<module>\u001b[1;34m\u001b[0m\n\u001b[0;32m     17\u001b[0m \u001b[0mcv2\u001b[0m\u001b[1;33m.\u001b[0m\u001b[0msetMouseCallback\u001b[0m\u001b[1;33m(\u001b[0m\u001b[1;34m\"bolinhas\"\u001b[0m\u001b[1;33m,\u001b[0m\u001b[0mmouse_listner\u001b[0m\u001b[1;33m)\u001b[0m\u001b[1;33m\u001b[0m\u001b[1;33m\u001b[0m\u001b[0m\n\u001b[0;32m     18\u001b[0m \u001b[1;32mwhile\u001b[0m\u001b[1;33m(\u001b[0m\u001b[1;32mTrue\u001b[0m\u001b[1;33m)\u001b[0m\u001b[1;33m:\u001b[0m\u001b[1;33m\u001b[0m\u001b[1;33m\u001b[0m\u001b[0m\n\u001b[1;32m---> 19\u001b[1;33m     \u001b[0mcv2\u001b[0m\u001b[1;33m.\u001b[0m\u001b[0mimshow\u001b[0m\u001b[1;33m(\u001b[0m\u001b[1;34m\"bolinhas\"\u001b[0m\u001b[1;33m,\u001b[0m\u001b[0mbolinhas\u001b[0m\u001b[1;33m)\u001b[0m\u001b[1;33m\u001b[0m\u001b[1;33m\u001b[0m\u001b[0m\n\u001b[0m\u001b[0;32m     20\u001b[0m     \u001b[0mcv2\u001b[0m\u001b[1;33m.\u001b[0m\u001b[0mellipse\u001b[0m\u001b[1;33m(\u001b[0m\u001b[0mbolinhas\u001b[0m\u001b[1;33m,\u001b[0m\u001b[1;33m(\u001b[0m\u001b[1;36m20\u001b[0m\u001b[1;33m,\u001b[0m\u001b[1;36m30\u001b[0m\u001b[1;33m)\u001b[0m\u001b[1;33m,\u001b[0m\u001b[1;33m(\u001b[0m\u001b[1;36m50\u001b[0m\u001b[1;33m,\u001b[0m\u001b[1;36m10\u001b[0m\u001b[1;33m)\u001b[0m\u001b[1;33m,\u001b[0m\u001b[1;36m0\u001b[0m\u001b[1;33m,\u001b[0m\u001b[1;36m0\u001b[0m\u001b[1;33m,\u001b[0m\u001b[1;36m360\u001b[0m\u001b[1;33m,\u001b[0m\u001b[1;33m(\u001b[0m\u001b[1;36m0\u001b[0m\u001b[1;33m,\u001b[0m\u001b[1;36m0\u001b[0m\u001b[1;33m,\u001b[0m\u001b[1;36m255\u001b[0m\u001b[1;33m)\u001b[0m\u001b[1;33m,\u001b[0m\u001b[1;33m-\u001b[0m\u001b[1;36m1\u001b[0m\u001b[1;33m)\u001b[0m\u001b[1;33m\u001b[0m\u001b[1;33m\u001b[0m\u001b[0m\n\u001b[0;32m     21\u001b[0m     \u001b[1;32mif\u001b[0m \u001b[0mcv2\u001b[0m\u001b[1;33m.\u001b[0m\u001b[0mwaitKey\u001b[0m\u001b[1;33m(\u001b[0m\u001b[1;36m10\u001b[0m\u001b[1;33m)\u001b[0m \u001b[1;33m&\u001b[0m \u001b[1;36m0xFF\u001b[0m \u001b[1;33m==\u001b[0m \u001b[1;36m27\u001b[0m\u001b[1;33m:\u001b[0m\u001b[1;33m\u001b[0m\u001b[1;33m\u001b[0m\u001b[0m\n",
      "\u001b[1;31mKeyboardInterrupt\u001b[0m: "
     ]
    },
    {
     "ename": "",
     "evalue": "",
     "output_type": "error",
     "traceback": [
      "\u001b[1;31mThe Kernel crashed while executing code in the the current cell or a previous cell. Please review the code in the cell(s) to identify a possible cause of the failure. Click <a href='https://aka.ms/vscodeJupyterKernelCrash'>here</a> for more info. View Jupyter <a href='command:jupyter.viewOutput'>log</a> for further details."
     ]
    }
   ],
   "source": [
    "def mouse_listner(event, x, y, flags, param):\n",
    "    global bolinhas, height, width\n",
    "    if event == cv2.EVENT_MOUSEWHEEL:\n",
    "        print(x)\n",
    "        cv2.circle(bolinhas, (x, y), 30, (255, 0, 0), -1)\n",
    "    elif event == cv2.EVENT_LBUTTONDBLCLK:\n",
    "        print(\"Ellipsis\")\n",
    "        if x >= width/2:\n",
    "            print(x)\n",
    "            cv2.ellipse(bolinhas, (x, y), (50, 30), 0, 0, 360, (0, 255, 0), -1)\n",
    "\n",
    "\n",
    "height = 720\n",
    "width = 1280\n",
    "bolinhas = np.full((height, width, 3), (0, 0, 0), np.uint8)\n",
    "\n",
    "cv2.namedWindow(\"bolinhas\")\n",
    "cv2.setMouseCallback(\"bolinhas\", mouse_listner)\n",
    "while(True):\n",
    "    cv2.imshow(\"bolinhas\", bolinhas)\n",
    "    cv2.ellipse(bolinhas, (20, 30), (50, 10), 0, 0, 360, (0, 0, 255), -1)\n",
    "    if cv2.waitKey(10) & 0xFF == 27:\n",
    "        break\n",
    "cv2.destroyAllWindows()\n"
   ]
  },
  {
   "cell_type": "markdown",
   "metadata": {},
   "source": [
    "# AUMENTANDO AS CORES DIGTANDO AS LETRAS\n"
   ]
  },
  {
   "cell_type": "code",
   "execution_count": 31,
   "metadata": {},
   "outputs": [],
   "source": [
    "b = 0\n",
    "g = 0\n",
    "r = 0\n",
    "\n",
    "tela_cores = np.full((1920, 1280, 3), (0, 0, 0), np.uint8)\n",
    "\n",
    "cv2.imshow(\"mostra cores\", tela_cores)\n",
    "\n",
    "def mouse_listener(event,x,y,flag,param):\n",
    "    global tela_cores\n",
    "    if( event == cv2.EVENT_LBUTTONDOWN):\n",
    "        cv2.circle(tela_cores,(x,y),30,(b,g,r),-1)\n",
    "\n",
    "cv2.setMouseCallback(\"mostra cores\",mouse_listener)\n",
    "while(True):\n",
    "\n",
    "    tela_cores_copy = tela_cores.copy()\n",
    "    font = cv2.FONT_ITALIC\n",
    "\n",
    "    cv2.putText(tela_cores_copy, f\"Red = {r}\", (20, 50), font,\n",
    "                1, (255, 255, 255), 4, cv2.LINE_AA)\n",
    "    cv2.putText(tela_cores_copy, f\"Blue = {b}\", (20, 100), font,\n",
    "                1, (255, 255, 255), 4, cv2.LINE_AA)\n",
    "    cv2.putText(tela_cores_copy, f\"Green = {g}\", (20, 150), font,\n",
    "                1, (255, 255, 255), 4, cv2.LINE_AA)\n",
    "\n",
    "    cv2.imshow(\"mostra cores\", tela_cores_copy)\n",
    "\n",
    "    key = cv2.waitKey(20) & 0xFF\n",
    "\n",
    "    if key == 27:\n",
    "        break\n",
    "    if(key == 82 | 114):\n",
    "        r += 10\n",
    "    elif key == 66 | 98:\n",
    "        b += 10\n",
    "    elif key == 71 | 103:\n",
    "        g += 10\n",
    "\n",
    "cv2.destroyAllWindows()\n"
   ]
  },
  {
   "cell_type": "code",
   "execution_count": null,
   "metadata": {},
   "outputs": [],
   "source": []
  }
 ],
 "metadata": {
  "kernelspec": {
   "display_name": "Python 3.8.8 ('base')",
   "language": "python",
   "name": "python3"
  },
  "language_info": {
   "codemirror_mode": {
    "name": "ipython",
    "version": 3
   },
   "file_extension": ".py",
   "mimetype": "text/x-python",
   "name": "python",
   "nbconvert_exporter": "python",
   "pygments_lexer": "ipython3",
   "version": "3.8.8"
  },
  "orig_nbformat": 4,
  "vscode": {
   "interpreter": {
    "hash": "ad2bdc8ecc057115af97d19610ffacc2b4e99fae6737bb82f5d7fb13d2f2c186"
   }
  }
 },
 "nbformat": 4,
 "nbformat_minor": 2
}
