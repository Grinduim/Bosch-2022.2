{
 "cells": [
  {
   "cell_type": "code",
   "execution_count": 9,
   "metadata": {},
   "outputs": [],
   "source": [
    "import pandas as pd\n",
    "titanic =  pd.read_csv(\"materiais/dados/train.csv\")\n"
   ]
  },
  {
   "cell_type": "code",
   "execution_count": 12,
   "metadata": {},
   "outputs": [],
   "source": [
    "def calculate_percentage(val, total):\n",
    "    \"\"\"Calculates the percentage of a value over a total\"\"\"\n",
    "\n",
    "    percent = float(val / total)\n",
    "    beautiful_percent = (\"%.2f\" % (percent * 100) + \"%\")\n",
    "    return beautiful_percent"
   ]
  },
  {
   "cell_type": "code",
   "execution_count": 10,
   "metadata": {},
   "outputs": [],
   "source": [
    "total = titanic.Survived.count()\n",
    "qtd_mortos =  titanic.Survived[titanic[\"Survived\"]==0].count()\n",
    "qtd_sobreviveram = titanic.Survived[titanic[\"Survived\"]==1].count()"
   ]
  },
  {
   "cell_type": "code",
   "execution_count": 13,
   "metadata": {},
   "outputs": [
    {
     "name": "stdout",
     "output_type": "stream",
     "text": [
      "61.62%\n",
      "38.38%\n"
     ]
    }
   ],
   "source": [
    "print(calculate_percentage(qtd_mortos,total))\n",
    "print(calculate_percentage(qtd_sobreviveram,total))"
   ]
  },
  {
   "cell_type": "code",
   "execution_count": 17,
   "metadata": {},
   "outputs": [
    {
     "data": {
      "text/plain": [
       "Index(['PassengerId', 'Survived', 'Pclass', 'Name', 'Sex', 'Age', 'SibSp',\n",
       "       'Parch', 'Ticket', 'Fare', 'Cabin', 'Embarked'],\n",
       "      dtype='object')"
      ]
     },
     "execution_count": 17,
     "metadata": {},
     "output_type": "execute_result"
    }
   ],
   "source": [
    "titanic.columns"
   ]
  },
  {
   "cell_type": "markdown",
   "metadata": {},
   "source": [
    "Dados sobre os mortos, se possuem familia ou não"
   ]
  },
  {
   "cell_type": "code",
   "execution_count": 75,
   "metadata": {},
   "outputs": [
    {
     "data": {
      "text/plain": [
       "151"
      ]
     },
     "execution_count": 75,
     "metadata": {},
     "output_type": "execute_result"
    }
   ],
   "source": [
    "mortos_com_familia = titanic.Survived[(titanic[\"Survived\"] == 0) & (titanic[\"SibSp\"]> 0)].count()\n",
    "mortos_com_familia"
   ]
  },
  {
   "cell_type": "code",
   "execution_count": 79,
   "metadata": {},
   "outputs": [
    {
     "data": {
      "text/plain": [
       "398"
      ]
     },
     "execution_count": 79,
     "metadata": {},
     "output_type": "execute_result"
    }
   ],
   "source": [
    "mortos_sem_familia = titanic.Survived[(titanic[\"Survived\"] == 0) & (titanic[\"SibSp\"] == 0)].count()\n",
    "mortos_sem_familia"
   ]
  },
  {
   "cell_type": "code",
   "execution_count": 82,
   "metadata": {},
   "outputs": [
    {
     "name": "stdout",
     "output_type": "stream",
     "text": [
      "Mortos com familiar : 16.95%\n",
      "Mortos Sem familia : 44.67%\n"
     ]
    }
   ],
   "source": [
    "print(f'Mortos com familiar : {calculate_percentage(mortos_com_familia,total)}')\n",
    "print(f'Mortos Sem familia : {calculate_percentage(mortos_sem_familia,total)}')"
   ]
  },
  {
   "cell_type": "code",
   "execution_count": 85,
   "metadata": {},
   "outputs": [
    {
     "name": "stdout",
     "output_type": "stream",
     "text": [
      "Sobreviventes com familia: 132\n",
      "Sobrevivente sem familia 210\n"
     ]
    }
   ],
   "source": [
    "#agora os dados com as pessoas que ficaram vivas,se tem familia ou não\n",
    "vivos_com_familia = titanic.Survived[(titanic[\"Survived\"] == 1) & (titanic[\"SibSp\"] > 0)].count()\n",
    "vivos_sem_familia = titanic.Survived[(titanic[\"Survived\"] == 1) & (titanic[\"SibSp\"] == 0)].count()\n",
    "print(f'Sobreviventes com familia: {vivos_com_familia}')\n",
    "print(f'Sobrevivente sem familia {vivos_sem_familia}')"
   ]
  },
  {
   "cell_type": "code",
   "execution_count": 89,
   "metadata": {},
   "outputs": [
    {
     "name": "stdout",
     "output_type": "stream",
     "text": [
      "Homens mortos: 52.53%\n",
      "Mulheres mortas: 9.09%\n"
     ]
    }
   ],
   "source": [
    "# Porcentagem de mortes de cada sexo em relação ao total\n",
    "male = titanic.Survived[(titanic[\"Survived\"] ==0 ) & (titanic[\"Sex\"] == \"male\")].count()\n",
    "female = titanic.Survived[(titanic[\"Survived\"] == 0 ) & (titanic[\"Sex\"] == \"female\")].count()\n",
    "print(f'Homens mortos: {calculate_percentage(male,total)}')\n",
    "print(f'Mulheres mortas: {calculate_percentage(female,total)}')\n"
   ]
  },
  {
   "cell_type": "code",
   "execution_count": 90,
   "metadata": {},
   "outputs": [
    {
     "name": "stdout",
     "output_type": "stream",
     "text": [
      "Homens mortos: 12.23%\n",
      "Mulheres mortas: 26.15%\n"
     ]
    }
   ],
   "source": [
    "#porcentagem de vivo em cada sexo em relação ao total\n",
    "male_alive = titanic.Survived[(titanic[\"Survived\"] ==1 ) & (titanic[\"Sex\"] == \"male\")].count()\n",
    "female_alive= titanic.Survived[(titanic[\"Survived\"] == 1 ) & (titanic[\"Sex\"] == \"female\")].count()\n",
    "print(f'Homens mortos: {calculate_percentage(male_alive,total)}')\n",
    "print(f'Mulheres mortas: {calculate_percentage(female_alive,total)}')"
   ]
  },
  {
   "cell_type": "markdown",
   "metadata": {},
   "source": [
    "# Vivos e Mortos de cada classe de cabine\n"
   ]
  },
  {
   "cell_type": "code",
   "execution_count": 99,
   "metadata": {},
   "outputs": [],
   "source": [
    "first = titanic[(titanic[\"Pclass\"]==1)]\n",
    "second = titanic[(titanic[\"Pclass\"]==2)]\n",
    "third = titanic[(titanic[\"Pclass\"]==3)]"
   ]
  },
  {
   "cell_type": "code",
   "execution_count": 104,
   "metadata": {},
   "outputs": [],
   "source": [
    "dead_first = first.Survived[(first[\"Survived\"] == 0)].count()\n",
    "dead_second = second.Survived[(second[\"Survived\"] == 0)].count()\n",
    "dead_third = third.Survived[(third[\"Survived\"] == 0)].count()\n"
   ]
  },
  {
   "cell_type": "code",
   "execution_count": 105,
   "metadata": {},
   "outputs": [
    {
     "name": "stdout",
     "output_type": "stream",
     "text": [
      "Mortos da primeira classe 8.98%\n",
      "Mortos da segunda classe 10.89%\n",
      "Mortos da terceira classe 41.75%\n"
     ]
    }
   ],
   "source": [
    "print(f'Mortos da primeira classe {calculate_percentage(dead_first,total)}')\n",
    "print(f'Mortos da segunda classe {calculate_percentage(dead_second,total)}')\n",
    "print(f'Mortos da terceira classe {calculate_percentage(dead_third,total)}')"
   ]
  },
  {
   "cell_type": "code",
   "execution_count": 109,
   "metadata": {},
   "outputs": [],
   "source": [
    "#vivos\n",
    "alive_first = first.Survived[(first[\"Survived\"]== 1)].count()\n",
    "alive_second = second.Survived[second[\"Survived\"] == 1].count()\n",
    "alive_third = third.Survived[third[\"Survived\"] == 1].count()"
   ]
  },
  {
   "cell_type": "code",
   "execution_count": 108,
   "metadata": {},
   "outputs": [
    {
     "name": "stdout",
     "output_type": "stream",
     "text": [
      "Vivos da primeira classe 15.26%\n",
      "Vivos da primeira classe 9.76%\n",
      "Vivos da primeira classe 13.36%\n"
     ]
    }
   ],
   "source": [
    "print(f'Vivos da primeira classe {calculate_percentage( alive_first,total)}')\n",
    "print(f'Vivos da primeira classe {calculate_percentage( alive_second,total)}')\n",
    "print(f'Vivos da primeira classe {calculate_percentage( alive_third,total)}')"
   ]
  },
  {
   "cell_type": "markdown",
   "metadata": {},
   "source": [
    "# relação entre a taxa de sobrevivência e a idade?"
   ]
  },
  {
   "cell_type": "code",
   "execution_count": 112,
   "metadata": {},
   "outputs": [
    {
     "data": {
      "text/html": [
       "<div>\n",
       "<style scoped>\n",
       "    .dataframe tbody tr th:only-of-type {\n",
       "        vertical-align: middle;\n",
       "    }\n",
       "\n",
       "    .dataframe tbody tr th {\n",
       "        vertical-align: top;\n",
       "    }\n",
       "\n",
       "    .dataframe thead th {\n",
       "        text-align: right;\n",
       "    }\n",
       "</style>\n",
       "<table border=\"1\" class=\"dataframe\">\n",
       "  <thead>\n",
       "    <tr style=\"text-align: right;\">\n",
       "      <th></th>\n",
       "      <th>PassengerId</th>\n",
       "      <th>Survived</th>\n",
       "      <th>Pclass</th>\n",
       "      <th>Name</th>\n",
       "      <th>Sex</th>\n",
       "      <th>Age</th>\n",
       "      <th>SibSp</th>\n",
       "      <th>Parch</th>\n",
       "      <th>Ticket</th>\n",
       "      <th>Fare</th>\n",
       "      <th>Cabin</th>\n",
       "      <th>Embarked</th>\n",
       "      <th>faixa_etaria</th>\n",
       "    </tr>\n",
       "  </thead>\n",
       "  <tbody>\n",
       "    <tr>\n",
       "      <th>0</th>\n",
       "      <td>1</td>\n",
       "      <td>0</td>\n",
       "      <td>3</td>\n",
       "      <td>Braund, Mr. Owen Harris</td>\n",
       "      <td>male</td>\n",
       "      <td>22.0</td>\n",
       "      <td>1</td>\n",
       "      <td>0</td>\n",
       "      <td>A/5 21171</td>\n",
       "      <td>7.2500</td>\n",
       "      <td>NaN</td>\n",
       "      <td>S</td>\n",
       "      <td>adulto</td>\n",
       "    </tr>\n",
       "    <tr>\n",
       "      <th>1</th>\n",
       "      <td>2</td>\n",
       "      <td>1</td>\n",
       "      <td>1</td>\n",
       "      <td>Cumings, Mrs. John Bradley (Florence Briggs Th...</td>\n",
       "      <td>female</td>\n",
       "      <td>38.0</td>\n",
       "      <td>1</td>\n",
       "      <td>0</td>\n",
       "      <td>PC 17599</td>\n",
       "      <td>71.2833</td>\n",
       "      <td>C85</td>\n",
       "      <td>C</td>\n",
       "      <td>adulto</td>\n",
       "    </tr>\n",
       "    <tr>\n",
       "      <th>2</th>\n",
       "      <td>3</td>\n",
       "      <td>1</td>\n",
       "      <td>3</td>\n",
       "      <td>Heikkinen, Miss. Laina</td>\n",
       "      <td>female</td>\n",
       "      <td>26.0</td>\n",
       "      <td>0</td>\n",
       "      <td>0</td>\n",
       "      <td>STON/O2. 3101282</td>\n",
       "      <td>7.9250</td>\n",
       "      <td>NaN</td>\n",
       "      <td>S</td>\n",
       "      <td>adulto</td>\n",
       "    </tr>\n",
       "  </tbody>\n",
       "</table>\n",
       "</div>"
      ],
      "text/plain": [
       "   PassengerId  Survived  Pclass  \\\n",
       "0            1         0       3   \n",
       "1            2         1       1   \n",
       "2            3         1       3   \n",
       "\n",
       "                                                Name     Sex   Age  SibSp  \\\n",
       "0                            Braund, Mr. Owen Harris    male  22.0      1   \n",
       "1  Cumings, Mrs. John Bradley (Florence Briggs Th...  female  38.0      1   \n",
       "2                             Heikkinen, Miss. Laina  female  26.0      0   \n",
       "\n",
       "   Parch            Ticket     Fare Cabin Embarked faixa_etaria  \n",
       "0      0         A/5 21171   7.2500   NaN        S       adulto  \n",
       "1      0          PC 17599  71.2833   C85        C       adulto  \n",
       "2      0  STON/O2. 3101282   7.9250   NaN        S       adulto  "
      ]
     },
     "execution_count": 112,
     "metadata": {},
     "output_type": "execute_result"
    }
   ],
   "source": [
    "def faixa_etaria(linhas):\n",
    "    idade = linhas[\"Age\"]\n",
    "    if idade < 12:\n",
    "        return \"criança\"\n",
    "    elif idade >= 12 and idade < 18:\n",
    "        return \"adolescente\"\n",
    "    elif idade >= 18 and idade <65:\n",
    "        return \"adulto\"\n",
    "    elif idade >= 65:\n",
    "        return \"idoso\"\n",
    "\n",
    "\n",
    "titanic[\"faixa_etaria\"] = titanic.apply(faixa_etaria,axis=1)"
   ]
  },
  {
   "cell_type": "code",
   "execution_count": 113,
   "metadata": {},
   "outputs": [],
   "source": [
    "mortos = titanic[titanic[\"Survived\"] == 0]\n",
    "vivos = titanic[titanic[\"Survived\"] == 1]"
   ]
  },
  {
   "cell_type": "code",
   "execution_count": null,
   "metadata": {},
   "outputs": [],
   "source": []
  }
 ],
 "metadata": {
  "kernelspec": {
   "display_name": "Python 3.8.8 ('base')",
   "language": "python",
   "name": "python3"
  },
  "language_info": {
   "codemirror_mode": {
    "name": "ipython",
    "version": 3
   },
   "file_extension": ".py",
   "mimetype": "text/x-python",
   "name": "python",
   "nbconvert_exporter": "python",
   "pygments_lexer": "ipython3",
   "version": "3.8.8"
  },
  "orig_nbformat": 4,
  "vscode": {
   "interpreter": {
    "hash": "ad2bdc8ecc057115af97d19610ffacc2b4e99fae6737bb82f5d7fb13d2f2c186"
   }
  }
 },
 "nbformat": 4,
 "nbformat_minor": 2
}
