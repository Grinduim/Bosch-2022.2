{
 "cells": [
  {
   "cell_type": "markdown",
   "id": "alternate-diving",
   "metadata": {},
   "source": [
    "código original: https://keras.io/examples/vision/knowledge_distillation/"
   ]
  },
  {
   "cell_type": "markdown",
   "id": "unlimited-exhibit",
   "metadata": {},
   "source": [
    "# Destilação de conhecimento\n",
    "Nesse jupyter iremos criar 2 modelos para classificação do mnist, um maix complexo que servirá como professor e um mais simples como estudante."
   ]
  },
  {
   "cell_type": "code",
   "execution_count": 1,
   "id": "union-waters",
   "metadata": {},
   "outputs": [],
   "source": [
    "import tensorflow as tf\n",
    "from tensorflow import keras\n",
    "from tensorflow.keras import layers\n",
    "import numpy as np"
   ]
  },
  {
   "cell_type": "markdown",
   "id": "noted-perth",
   "metadata": {},
   "source": [
    "Pelo fato que durante o treinamento do estudante precisar da inferencia do professor, isso faz como que mude a estratégia padrão de treinamento, por conta disso criaremos um modelo customizado herdando as caracteristicas do keras.Model e aplicando um override nos métodos de treinamento e validação."
   ]
  },
  {
   "cell_type": "code",
   "execution_count": 2,
   "id": "encouraging-watts",
   "metadata": {},
   "outputs": [],
   "source": [
    "class Distiller(keras.Model):\n",
    "    def __init__(self, student, teacher):\n",
    "        super(Distiller, self).__init__()\n",
    "        self.teacher = teacher\n",
    "        self.student = student\n",
    "\n",
    "    def compile(self, optimizer, metrics, student_loss_fn, distillation_loss_fn, alpha=0.1, temperature=3):\n",
    "        \"\"\" Configurações.\n",
    "\n",
    "        Args:\n",
    "            optimizer: otimizador para o treino do estudante\n",
    "            metrics: métricas adcionais para avaliar o treinamento\n",
    "            student_loss_fn: Loss function aplicada as predições do estudante x ground truth\n",
    "            distillation_loss_fn: Loss function que irá levar em consideração a predição do professor\n",
    "            alpha: peso para distribuir o fator de importancia entre o loss function do estudante e da destilação\n",
    "            temperature: Suavização da distribuição.\n",
    "        \"\"\"\n",
    "        super(Distiller, self).compile(optimizer=optimizer, metrics=metrics)\n",
    "        self.student_loss_fn = student_loss_fn\n",
    "        self.distillation_loss_fn = distillation_loss_fn\n",
    "        self.alpha = alpha\n",
    "        self.temperature = temperature\n",
    "\n",
    "    def train_step(self, data):  # override\n",
    "        x, y = data\n",
    "\n",
    "        # training = false pois o professor já foi treinado e não queremos alterar seus pesos\n",
    "        teacher_predictions = self.teacher(x, training=False)  # diferente de self.teacher.predict!\n",
    "\n",
    "        with tf.GradientTape() as tape:\n",
    "            student_predictions = self.student(x, training=True)\n",
    "\n",
    "            # Compute losses\n",
    "            student_loss = self.student_loss_fn(y, student_predictions)\n",
    "            distillation_loss = self.distillation_loss_fn(\n",
    "                tf.nn.softmax(teacher_predictions / self.temperature, axis=1),\n",
    "                tf.nn.softmax(student_predictions / self.temperature, axis=1),\n",
    "            )\n",
    "            loss = self.alpha * student_loss + (1 - self.alpha) * distillation_loss  # ponderação do peso\n",
    "\n",
    "        # backpropagation\n",
    "        trainable_vars = self.student.trainable_variables\n",
    "        gradients = tape.gradient(loss, trainable_vars)\n",
    "\n",
    "        # atualização dos pesos\n",
    "        self.optimizer.apply_gradients(zip(gradients, trainable_vars))\n",
    "\n",
    "        # atualiza as métricas\n",
    "        self.compiled_metrics.update_state(y, student_predictions)\n",
    "\n",
    "        # Returna um dict com todas métricas de performance\n",
    "        results = {m.name: m.result() for m in self.metrics}\n",
    "        results.update(\n",
    "            {\"student_loss\": student_loss, \"distillation_loss\": distillation_loss}\n",
    "        )\n",
    "        return results\n",
    "\n",
    "    def test_step(self, data): #  override\n",
    "        x, y = data\n",
    "\n",
    "        # Gera predições\n",
    "        y_prediction = self.student(x, training=False)\n",
    "\n",
    "        # Calcula o loss\n",
    "        student_loss = self.student_loss_fn(y, y_prediction)\n",
    "\n",
    "        # Atualiza as métricas\n",
    "        self.compiled_metrics.update_state(y, y_prediction)\n",
    "\n",
    "        # Returna um dict com todas métricas de performance\n",
    "        results = {m.name: m.result() for m in self.metrics}\n",
    "        results.update({\"val_student_loss\": student_loss})\n",
    "        return results"
   ]
  },
  {
   "cell_type": "markdown",
   "id": "historic-thinking",
   "metadata": {},
   "source": [
    "### Criação do modeslo\n",
    "\n",
    "Arquitetura do professor ligeiramente mais complexa que do estudante"
   ]
  },
  {
   "cell_type": "code",
   "execution_count": 3,
   "id": "elder-professor",
   "metadata": {},
   "outputs": [],
   "source": [
    "# Professor\n",
    "teacher = keras.Sequential(\n",
    "    [\n",
    "        keras.Input(shape=(28, 28, 1)),\n",
    "        layers.Conv2D(256, (3, 3), strides=(2, 2), padding=\"same\"),\n",
    "        layers.LeakyReLU(alpha=0.2),\n",
    "        layers.MaxPooling2D(pool_size=(2, 2), strides=(1, 1), padding=\"same\"),\n",
    "        layers.Conv2D(512, (3, 3), strides=(2, 2), padding=\"same\"),\n",
    "        layers.Flatten(),\n",
    "        layers.Dense(10),\n",
    "    ],\n",
    "    name=\"teacher\",\n",
    ")"
   ]
  },
  {
   "cell_type": "code",
   "execution_count": 4,
   "id": "appreciated-alcohol",
   "metadata": {},
   "outputs": [],
   "source": [
    "# Estudante\n",
    "student = keras.Sequential(\n",
    "    [\n",
    "        keras.Input(shape=(28, 28, 1)),\n",
    "        layers.Conv2D(16, (3, 3), strides=(2, 2), padding=\"same\"),\n",
    "        layers.LeakyReLU(alpha=0.2),\n",
    "        layers.MaxPooling2D(pool_size=(2, 2), strides=(1, 1), padding=\"same\"),\n",
    "        layers.Conv2D(32, (3, 3), strides=(2, 2), padding=\"same\"),\n",
    "        layers.Flatten(),\n",
    "        layers.Dense(10),\n",
    "    ],\n",
    "    name=\"student\",\n",
    ")"
   ]
  },
  {
   "cell_type": "markdown",
   "id": "vocal-forum",
   "metadata": {},
   "source": [
    "Modelo clonado do estudante que iremos utilizar para validação do conceito de professor / estudante"
   ]
  },
  {
   "cell_type": "code",
   "execution_count": 5,
   "id": "empty-giving",
   "metadata": {},
   "outputs": [],
   "source": [
    "student_scratch = keras.models.clone_model(student)  # clona o grafo do modelo"
   ]
  },
  {
   "cell_type": "markdown",
   "id": "dying-north",
   "metadata": {},
   "source": [
    "## Leitura do dataset"
   ]
  },
  {
   "cell_type": "code",
   "execution_count": 6,
   "id": "impaired-honey",
   "metadata": {},
   "outputs": [],
   "source": [
    "with np.load(\"./data/mnist.npz\", allow_pickle=True) as f:\n",
    "    x_train, y_train = f['x_train'][:10000], f['y_train'][:10000]\n",
    "    x_test, y_test = f['x_test'][:10000], f['y_test'][:10000]"
   ]
  },
  {
   "cell_type": "code",
   "execution_count": 7,
   "id": "spare-basin",
   "metadata": {},
   "outputs": [],
   "source": [
    "# Normalize data\n",
    "x_train = x_train.astype(\"float32\") / 255.0\n",
    "x_train = np.reshape(x_train, (-1, 28, 28, 1))\n",
    "\n",
    "x_test = x_test.astype(\"float32\") / 255.0\n",
    "x_test = np.reshape(x_test, (-1, 28, 28, 1))"
   ]
  },
  {
   "cell_type": "markdown",
   "id": "informed-remark",
   "metadata": {},
   "source": [
    "## Treinamento"
   ]
  },
  {
   "cell_type": "markdown",
   "id": "nuclear-morrison",
   "metadata": {},
   "source": [
    "#### Treinamento do professor"
   ]
  },
  {
   "cell_type": "code",
   "execution_count": 8,
   "id": "approximate-plenty",
   "metadata": {},
   "outputs": [
    {
     "name": "stdout",
     "output_type": "stream",
     "text": [
      "Epoch 1/5\n",
      "313/313 [==============================] - 64s 202ms/step - loss: 0.2869 - sparse_categorical_accuracy: 0.9128\n",
      "Epoch 2/5\n",
      "313/313 [==============================] - 64s 206ms/step - loss: 0.1226 - sparse_categorical_accuracy: 0.9622\n",
      "Epoch 3/5\n",
      "313/313 [==============================] - 68s 218ms/step - loss: 0.0888 - sparse_categorical_accuracy: 0.9750\n",
      "Epoch 4/5\n",
      "313/313 [==============================] - 65s 208ms/step - loss: 0.0699 - sparse_categorical_accuracy: 0.9788\n",
      "Epoch 5/5\n",
      "313/313 [==============================] - 63s 202ms/step - loss: 0.0636 - sparse_categorical_accuracy: 0.9803\n",
      "313/313 [==============================] - 11s 33ms/step - loss: 0.1258 - sparse_categorical_accuracy: 0.9660\n"
     ]
    },
    {
     "data": {
      "text/plain": [
       "[0.12581604719161987, 0.9660000205039978]"
      ]
     },
     "execution_count": 8,
     "metadata": {},
     "output_type": "execute_result"
    }
   ],
   "source": [
    "# Train teacher as usual\n",
    "teacher.compile(\n",
    "    optimizer=keras.optimizers.Adam(),\n",
    "    loss=keras.losses.SparseCategoricalCrossentropy(from_logits=True),\n",
    "    metrics=[keras.metrics.SparseCategoricalAccuracy()],\n",
    ")\n",
    "\n",
    "# Train and evaluate teacher on data.\n",
    "teacher.fit(x_train, y_train, epochs=5)\n",
    "teacher.evaluate(x_test, y_test)"
   ]
  },
  {
   "cell_type": "markdown",
   "id": "antique-morrison",
   "metadata": {},
   "source": [
    "#### Treinamento do estudante com ajuda do professor"
   ]
  },
  {
   "cell_type": "code",
   "execution_count": 9,
   "id": "composite-scene",
   "metadata": {},
   "outputs": [
    {
     "name": "stdout",
     "output_type": "stream",
     "text": [
      "Epoch 1/3\n",
      "313/313 [==============================] - 13s 40ms/step - sparse_categorical_accuracy: 0.8182 - student_loss: 0.6598 - distillation_loss: 0.1569\n",
      "Epoch 2/3\n",
      "313/313 [==============================] - 12s 37ms/step - sparse_categorical_accuracy: 0.9241 - student_loss: 0.2929 - distillation_loss: 0.0578\n",
      "Epoch 3/3\n",
      "313/313 [==============================] - 12s 39ms/step - sparse_categorical_accuracy: 0.9491 - student_loss: 0.1827 - distillation_loss: 0.0347\n",
      "313/313 [==============================] - 1s 3ms/step - sparse_categorical_accuracy: 0.9530 - val_student_loss: 0.1711\n"
     ]
    },
    {
     "data": {
      "text/plain": [
       "[0.953000009059906, 0.002923213178291917]"
      ]
     },
     "execution_count": 9,
     "metadata": {},
     "output_type": "execute_result"
    }
   ],
   "source": [
    "distiller = Distiller(student=student, teacher=teacher)\n",
    "distiller.compile(\n",
    "    optimizer=keras.optimizers.Adam(),\n",
    "    metrics=[keras.metrics.SparseCategoricalAccuracy()],\n",
    "    student_loss_fn=keras.losses.SparseCategoricalCrossentropy(from_logits=True),\n",
    "    distillation_loss_fn=keras.losses.KLDivergence(),\n",
    "    alpha=0.1,\n",
    "    temperature=10,\n",
    ")\n",
    "\n",
    "# Distill teacher to student\n",
    "distiller.fit(x_train, y_train, epochs=3)\n",
    "\n",
    "# Evaluate student on test dataset\n",
    "distiller.evaluate(x_test, y_test)"
   ]
  },
  {
   "cell_type": "markdown",
   "id": "middle-oxide",
   "metadata": {},
   "source": [
    "#### Treinamento do estudante sem ajuda do professor"
   ]
  },
  {
   "cell_type": "code",
   "execution_count": 10,
   "id": "first-imagination",
   "metadata": {},
   "outputs": [
    {
     "name": "stdout",
     "output_type": "stream",
     "text": [
      "Epoch 1/3\n",
      "313/313 [==============================] - 2s 6ms/step - loss: 0.5887 - sparse_categorical_accuracy: 0.8267\n",
      "Epoch 2/3\n",
      "313/313 [==============================] - 2s 6ms/step - loss: 0.2633 - sparse_categorical_accuracy: 0.9245\n",
      "Epoch 3/3\n",
      "313/313 [==============================] - 2s 6ms/step - loss: 0.1671 - sparse_categorical_accuracy: 0.9516\n",
      "313/313 [==============================] - 1s 3ms/step - loss: 0.1559 - sparse_categorical_accuracy: 0.9508\n"
     ]
    },
    {
     "data": {
      "text/plain": [
       "[0.15591859817504883, 0.9508000016212463]"
      ]
     },
     "execution_count": 10,
     "metadata": {},
     "output_type": "execute_result"
    }
   ],
   "source": [
    "student_scratch.compile(\n",
    "    optimizer=keras.optimizers.Adam(),\n",
    "    loss=keras.losses.SparseCategoricalCrossentropy(from_logits=True),\n",
    "    metrics=[keras.metrics.SparseCategoricalAccuracy()],\n",
    ")\n",
    "\n",
    "# Train and evaluate student trained from scratch.\n",
    "student_scratch.fit(x_train, y_train, epochs=3)\n",
    "student_scratch.evaluate(x_test, y_test)"
   ]
  }
 ],
 "metadata": {
  "kernelspec": {
   "display_name": "Python 3.10.6 64-bit",
   "language": "python",
   "name": "python3"
  },
  "language_info": {
   "codemirror_mode": {
    "name": "ipython",
    "version": 3
   },
   "file_extension": ".py",
   "mimetype": "text/x-python",
   "name": "python",
   "nbconvert_exporter": "python",
   "pygments_lexer": "ipython3",
   "version": "3.10.6"
  },
  "vscode": {
   "interpreter": {
    "hash": "26de051ba29f2982a8de78e945f0abaf191376122a1563185a90213a26c5da77"
   }
  }
 },
 "nbformat": 4,
 "nbformat_minor": 5
}
