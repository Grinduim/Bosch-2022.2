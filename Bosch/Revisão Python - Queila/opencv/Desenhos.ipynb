{
 "cells": [
  {
   "cell_type": "code",
   "execution_count": 2,
   "metadata": {},
   "outputs": [],
   "source": [
    "import numpy as np\n",
    "import cv2\n"
   ]
  },
  {
   "cell_type": "code",
   "execution_count": 3,
   "metadata": {},
   "outputs": [],
   "source": [
    "dog = cv2.imread('Imagens/dog.jpg', cv2.IMREAD_COLOR)\n",
    "dog_cinza = cv2.imread('Imagens/dog.jpg', cv2.IMREAD_GRAYSCALE)\n",
    "dog_transp = cv2.imread('Imagens/dog.jpg', cv2.IMREAD_UNCHANGED)\n"
   ]
  },
  {
   "cell_type": "code",
   "execution_count": 4,
   "metadata": {},
   "outputs": [],
   "source": [
    "cv2.imshow(\"dog\", dog)\n"
   ]
  },
  {
   "cell_type": "code",
   "execution_count": 5,
   "metadata": {},
   "outputs": [
    {
     "data": {
      "text/plain": [
       "True"
      ]
     },
     "execution_count": 5,
     "metadata": {},
     "output_type": "execute_result"
    }
   ],
   "source": [
    "cv2.imwrite('dog_cinza.jpg', dog_cinza)\n"
   ]
  },
  {
   "cell_type": "code",
   "execution_count": 21,
   "metadata": {},
   "outputs": [
    {
     "name": "stdout",
     "output_type": "stream",
     "text": [
      "aq\n",
      "dois\n",
      "tres\n"
     ]
    }
   ],
   "source": [
    "import numpy as np\n",
    "import cv2\n",
    "widht = 512\n",
    "height = 512\n",
    "img = np.zeros((widht, height, 3), np.uint8)\n",
    "print(\"aq\")\n",
    "\n",
    "# horizontais\n",
    "cv2.line(img, (0, int(height/3)), (widht, int(height/3)), (255, 255, 255), 5)\n",
    "cv2.line(img, (0, int(height/3)*2),\n",
    "         (widht, int(height/3)*2), (255, 255, 255), 5)\n",
    "print(\"dois\")\n",
    "\n",
    "# verticais\n",
    "cv2.line(img, (int(widht/3), 0), (int(widht/3), height), (255, 255, 255), 5)\n",
    "cv2.line(img, (int(widht/3)*2, 0), (int(widht/3)*2, height), (255, 255, 255), 5)\n",
    "\n",
    "# make X\n",
    "cv2.line(img, (15, 15), (int(widht/3) - 15, int(height/3)-15),\n",
    "         (255, 255, 255), 5)  # imagem,( Xi , yi) , (Xf,Yf), grossura\n",
    "cv2.line(img, (int(widht/3) - 15, 15),\n",
    "         (15, int(height/3)-15), (255, 255, 255), 5)\n",
    "print(\"tres\")\n"
   ]
  },
  {
   "cell_type": "markdown",
   "metadata": {},
   "source": [
    "# Exercicio, fazer tres figuras na tela mais leitura\n"
   ]
  },
  {
   "cell_type": "code",
   "execution_count": 22,
   "metadata": {},
   "outputs": [],
   "source": [
    "\n",
    "cv2.circle(img, (250, 80), 70, (0, 0, 255), -1)\n",
    "cv2.rectangle(img,(200,200),(300,300),(0,255,0),-1)\n",
    "cv2.ellipse(img,(250,450),(70,20),0,0,360, (255,0,0),-1)\n",
    "cv2.imshow(\"tela\", img)\n",
    "tecla = str(cv2.waitKey(0)) \n",
    "cv2.destroyWindow(\"tela\")\n",
    "cv2.rectangle(img,(0,0),(widht,height),(0,0,0),-1)\n",
    "font = cv2.FONT_HERSHEY_COMPLEX\n",
    "cv2.putText(img,tecla,(50,500),font,1.5,(191,191,191),4, cv2.LINE_AA)\n",
    "cv2.imshow(\"tela\",img)\n",
    "cv2.waitKey(0) \n",
    "cv2.destroyAllWindows()\n"
   ]
  },
  {
   "cell_type": "code",
   "execution_count": null,
   "metadata": {},
   "outputs": [],
   "source": []
  }
 ],
 "metadata": {
  "kernelspec": {
   "display_name": "Python 3.8.8 ('base')",
   "language": "python",
   "name": "python3"
  },
  "language_info": {
   "codemirror_mode": {
    "name": "ipython",
    "version": 3
   },
   "file_extension": ".py",
   "mimetype": "text/x-python",
   "name": "python",
   "nbconvert_exporter": "python",
   "pygments_lexer": "ipython3",
   "version": "3.8.8"
  },
  "orig_nbformat": 4,
  "vscode": {
   "interpreter": {
    "hash": "ad2bdc8ecc057115af97d19610ffacc2b4e99fae6737bb82f5d7fb13d2f2c186"
   }
  }
 },
 "nbformat": 4,
 "nbformat_minor": 2
}
