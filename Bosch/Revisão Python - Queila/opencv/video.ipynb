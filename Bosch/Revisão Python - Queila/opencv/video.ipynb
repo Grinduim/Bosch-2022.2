{
 "cells": [
  {
   "cell_type": "code",
   "execution_count": 2,
   "metadata": {},
   "outputs": [],
   "source": [
    "import cv2"
   ]
  },
  {
   "cell_type": "code",
   "execution_count": 6,
   "metadata": {},
   "outputs": [],
   "source": [
    "cap =  cv2.VideoCapture(\"videos/video_car.mp4\")\n",
    "ret,frame = cap.read()\n",
    " # ret =  bool se existe um frame aqui para ser lido \n",
    " # o Frame é o frame que será mostrado\n",
    "while(cap.isOpened()):\n",
    "    ret,frame = cap.read()\n",
    "    if( cv2.waitKey(10)== ord('q')) or ret == False:\n",
    "        break\n",
    "    cv2.imshow('frame',frame)\n",
    "cap.release() # fechou o video\n",
    "cv2.destroyAllWindows()\n",
    "\n"
   ]
  },
  {
   "cell_type": "code",
   "execution_count": 16,
   "metadata": {},
   "outputs": [],
   "source": [
    "cap =  cv2.VideoCapture(\"videos/video_car.mp4\")\n",
    "\n",
    "fourcc = cv2.VideoWriter_fourcc(*\"MJPG\")\n",
    "output = cv2.VideoWriter(\"novo_video.mp4\",fourcc,60,(640,480))\n",
    "\n",
    "while(cap.isOpened()):\n",
    "    ret,frame = cap.read()\n",
    "    if ret == True:\n",
    "        frame = cv2.flip(frame,0)\n",
    "        output.write(frame)\n",
    "        cv2.imshow(\"frame\",frame)\n",
    "\n",
    "        if( cv2.waitKey(1)& 0xFF == ord('q')):\n",
    "            break\n",
    "    else:\n",
    "        break;\n",
    "\n",
    "cap.release() # fechando tudo\n",
    "output.release()\n",
    "cv2.destroyAllWindows()\n"
   ]
  },
  {
   "cell_type": "markdown",
   "metadata": {},
   "source": [
    "# Exercicio - Gravar um video de posição de bolinhas aleatorias\n"
   ]
  },
  {
   "cell_type": "code",
   "execution_count": 1,
   "metadata": {},
   "outputs": [],
   "source": [
    "import numpy as np\n",
    "import cv2\n",
    "import random\n",
    "from time import sleep\n"
   ]
  },
  {
   "cell_type": "code",
   "execution_count": 7,
   "metadata": {},
   "outputs": [],
   "source": [
    "\n",
    "time_video = 10\n",
    "frame = 0.5\n",
    "time_total = int(time_video/frame)\n",
    "\n",
    "height = 440\n",
    "width = 620\n",
    "\n",
    "fourcc = cv2.VideoWriter_fourcc(*\"XVID\")\n",
    "output = cv2.VideoWriter(\"video.mp4\",fourcc,30,(height,width))\n",
    "\n",
    "screen = np.full((height,width,3),(120,120,120),np.uint8)\n",
    "\n",
    "for i in range(time_video):\n",
    "    frame = screen.copy()\n",
    "    y = random.randint(0,width)\n",
    "    x = random.randint(0,height)\n",
    "    cv2.circle(frame,(y,x),120,(0,0,255),-1)\n",
    "    output.write(frame)\n",
    "    cv2.imshow(\"frame\",frame)\n",
    "    sleep(0.5)\n",
    "    cv2.waitKey(1)\n",
    "\n",
    "sleep(3)\n",
    "output.release()\n",
    "cv2.destroyAllWindows()\n",
    "\n",
    "\n"
   ]
  },
  {
   "cell_type": "markdown",
   "metadata": {},
   "source": [
    "# Converter e ajustar tamanho do video\n"
   ]
  },
  {
   "cell_type": "code",
   "execution_count": 4,
   "metadata": {},
   "outputs": [],
   "source": [
    "\n",
    "import numpy as np\n",
    "import cv2\n",
    "import random\n",
    "from time import sleep\n",
    "\n",
    "fourcc = cv2.VideoWriter_fourcc(*\"XVID\")\n",
    "output = cv2.VideoWriter(\"carro_psicodelico_corrigido.avi\",fourcc,30,(300,300))\n",
    "cap = cv2.VideoCapture(\"videos/video_car.mp4\")\n",
    "\n",
    "while(cap.isOpened()):\n",
    "    ret,frame = cap.read()\n",
    "    if ret == False:\n",
    "        break;\n",
    "\n",
    "    image_hsv = cv2.cvtColor(frame,cv2.COLOR_BGR2HSV)\n",
    "    image_hsv = cv2.resize(image_hsv,(300,300))\n",
    "\n",
    "    output.write(image_hsv)\n",
    "\n",
    "    cv2.imshow(\"frame\",image_hsv)\n",
    "    \n",
    "    if  cv2.waitKey(1) == ord('q'):\n",
    "        break;\n",
    "\n",
    "output.release()\n",
    "cap.release()\n",
    "cv2.destroyAllWindows()"
   ]
  },
  {
   "cell_type": "code",
   "execution_count": null,
   "metadata": {},
   "outputs": [],
   "source": []
  }
 ],
 "metadata": {
  "kernelspec": {
   "display_name": "Python 3.8.8 ('base')",
   "language": "python",
   "name": "python3"
  },
  "language_info": {
   "codemirror_mode": {
    "name": "ipython",
    "version": 3
   },
   "file_extension": ".py",
   "mimetype": "text/x-python",
   "name": "python",
   "nbconvert_exporter": "python",
   "pygments_lexer": "ipython3",
   "version": "3.8.8"
  },
  "orig_nbformat": 4,
  "vscode": {
   "interpreter": {
    "hash": "ad2bdc8ecc057115af97d19610ffacc2b4e99fae6737bb82f5d7fb13d2f2c186"
   }
  }
 },
 "nbformat": 4,
 "nbformat_minor": 2
}
