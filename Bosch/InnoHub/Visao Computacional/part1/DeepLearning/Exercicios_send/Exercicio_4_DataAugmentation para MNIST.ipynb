{
 "cells": [
  {
   "cell_type": "markdown",
   "id": "heavy-hearing",
   "metadata": {},
   "source": [
    "#### Problema:\n",
    "\n",
    "Desenvolver um pipeline de aumento de imagem para o MNIST.\n",
    "\n",
    "Incluir pelo menos 2 das transformações:\n",
    "\n",
    "* Adicionar Ruído\n",
    "* Remover Pixels do Número\n",
    "* Rotação\n",
    "* Translação\n",
    "* Zoom\n"
   ]
  },
  {
   "cell_type": "code",
   "execution_count": 13,
   "id": "automated-genome",
   "metadata": {},
   "outputs": [],
   "source": [
    "import random\n",
    "\n",
    "import matplotlib.pyplot as plt\n",
    "import numpy as np\n",
    "from scipy.ndimage.interpolation import rotate\n",
    "from scipy.ndimage.interpolation import zoom\n",
    "from tqdm import tqdm\n"
   ]
  },
  {
   "cell_type": "code",
   "execution_count": 14,
   "id": "assured-percentage",
   "metadata": {
    "scrolled": true
   },
   "outputs": [
    {
     "name": "stdout",
     "output_type": "stream",
     "text": [
      "(60000, 28, 28)\n",
      "(10000, 28, 28)\n"
     ]
    }
   ],
   "source": [
    "num_classes = 10\n",
    "input_shape = (28, 28)\n",
    "\n",
    "\n",
    "with np.load(\"../dataset/mnist.npz\") as data:\n",
    "  x_train = data['x_train']\n",
    "  y_train = data['y_train']\n",
    "  x_test = data['x_test']\n",
    "  y_test = data['y_test']\n",
    "    \n",
    "print(x_train.shape)\n",
    "print(x_test.shape)"
   ]
  },
  {
   "cell_type": "markdown",
   "id": "recreational-witness",
   "metadata": {},
   "source": [
    "### Data Visualization"
   ]
  },
  {
   "cell_type": "code",
   "execution_count": null,
   "id": "asian-ladder",
   "metadata": {},
   "outputs": [],
   "source": []
  },
  {
   "cell_type": "markdown",
   "id": "answering-charm",
   "metadata": {},
   "source": [
    "#### Set MNIST Augmentator"
   ]
  },
  {
   "cell_type": "code",
   "execution_count": null,
   "id": "higher-graph",
   "metadata": {},
   "outputs": [],
   "source": [
    "class MnistAugmentator:\n",
    "\n",
    "    def __init__(self, images, shuffle=True):\n",
    "        pass"
   ]
  },
  {
   "cell_type": "markdown",
   "id": "swiss-burden",
   "metadata": {},
   "source": [
    "#### Test Augmenter"
   ]
  },
  {
   "cell_type": "code",
   "execution_count": null,
   "id": "legal-electronics",
   "metadata": {},
   "outputs": [],
   "source": []
  },
  {
   "cell_type": "markdown",
   "id": "atomic-roberts",
   "metadata": {},
   "source": [
    "#### Visualize Augmentations"
   ]
  },
  {
   "cell_type": "code",
   "execution_count": null,
   "id": "biblical-palestinian",
   "metadata": {},
   "outputs": [],
   "source": [
    "\n"
   ]
  },
  {
   "cell_type": "code",
   "execution_count": null,
   "id": "strategic-medicare",
   "metadata": {},
   "outputs": [],
   "source": []
  }
 ],
 "metadata": {
  "kernelspec": {
   "display_name": "Python 3",
   "language": "python",
   "name": "python3"
  },
  "language_info": {
   "codemirror_mode": {
    "name": "ipython",
    "version": 3
   },
   "file_extension": ".py",
   "mimetype": "text/x-python",
   "name": "python",
   "nbconvert_exporter": "python",
   "pygments_lexer": "ipython3",
   "version": "3.8.6"
  }
 },
 "nbformat": 4,
 "nbformat_minor": 5
}
